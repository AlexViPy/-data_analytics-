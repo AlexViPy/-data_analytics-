{
 "cells": [
  {
   "cell_type": "markdown",
   "metadata": {},
   "source": [
    "Задачи исследования:\n",
    "1. Осмотр и обработка данных:\n",
    "    - посмотрим наборы данных\n",
    "    - сделаем предварительные выводы\n",
    "    - поищем аномалии\n",
    "    - найти и обработать пропуски\n",
    "    - заменить некорректные типы данных\n",
    "    - удалить дубликаты\n",
    "    - привести данные к нужным типам\n",
    "\n",
    "2. Подготовка данных:\n",
    "    - Посчитайте для каждого пользователя:\n",
    "        - количество сделанных звонков и израсходованных минут разговора по месяцам\n",
    "        - количество отправленных сообщений по месяцам\n",
    "        - объем израсходованного интернет-трафика по месяцам\n",
    "        - помесячную выручку с каждого пользователя\n",
    "    \n",
    "(вычтите бесплатный лимит из суммарного количества звонков, сообщений и интернет-трафика, остаток умножьте на значение из тарифного плана)\n",
    "\n",
    "3. Анализ данных:\n",
    "    - Опишите поведение клиентов оператора, исходя из выборки\n",
    "    - Сколько минут разговора, сколько сообщений и какой объём интернет-трафика требуется пользователям каждого тарифа в месяц? \n",
    "    - Посчитайте среднее количество, дисперсию и стандартное отклонение\n",
    "    - Постройте гистограммы. Опишите распределения\n",
    "\n",
    "4. Проверка гипотез:\n",
    "    - средняя выручка пользователей тарифов «Ультра» и «Смарт» различаются\n",
    "    - средняя выручка пользователей из Москвы отличается от выручки пользователей из других регионов\n",
    "Пороговое значение alpha задайте самостоятельно.\n",
    "\n",
    "Поясните:\n",
    "    - как вы формулировали нулевую и альтернативную гипотезы\n",
    "    - какой критерий использовали для проверки гипотез и почему\n",
    "\n",
    "5. Результаты исследования\n",
    "    - Общие выводы\n",
    "    - Рекомендации"
   ]
  },
  {
   "cell_type": "markdown",
   "metadata": {},
   "source": [
    "### Описание данных"
   ]
  },
  {
   "cell_type": "markdown",
   "metadata": {},
   "source": [
    "Описание тарифов:\n",
    "- Тариф «Смарт»\n",
    "    - Ежемесячная плата: 550 рублей\n",
    "    - Включено 500 минут разговора, 50 сообщений и 15 Гб интернет-трафика\n",
    "    - Стоимость услуг сверх тарифного пакета:\n",
    "        - минута разговора: 3 рубля («Мегалайн» всегда округляет вверх значения минут и мегабайтов. Если пользователь проговорил всего 1 секунду, в тарифе засчитывается целая минута.)\n",
    "        - сообщение: 3 рубля\n",
    "        - 1 Гб интернет-трафика: 200 рублей\n",
    "- Тариф «Ультра»\n",
    "    - Ежемесячная плата: 1950 рублей\n",
    "    - Включено 3000 минут разговора, 1000 сообщений и 30 Гб интернет-трафика\n",
    "    - Стоимость услуг сверх тарифного пакета:\n",
    "        - минута разговора: 1 рубль\n",
    "        - сообщение: 1 рубль\n",
    "        - 1 Гб интернет-трафика: 150 рублей\n",
    "\n",
    "\n",
    "\n",
    "Описание таблиц:\n",
    "Таблица users (информация о пользователях):\n",
    "\n",
    "- user_id — уникальный идентификатор пользователя\n",
    "- first_name — имя пользователя\n",
    "- last_name — фамилия пользователя\n",
    "- age — возраст пользователя (годы)\n",
    "- reg_date — дата подключения тарифа (день, месяц, год)\n",
    "- churn_date — дата прекращения пользования тарифом (если значение пропущено, то тариф ещё действовал на момент выгрузки данных)\n",
    "- city — город проживания пользователя\n",
    "- tarif — название тарифного плана\n",
    "\n",
    "Таблица calls (информация о звонках):\n",
    "\n",
    "- id — уникальный номер звонка\n",
    "- call_date — дата звонка\n",
    "- duration — длительность звонка в минутах\n",
    "- user_id — идентификатор пользователя, сделавшего звонок\n",
    "\n",
    "Таблица messages (информация о сообщениях):\n",
    "\n",
    "- id — уникальный номер сообщения\n",
    "- message_date — дата сообщения\n",
    "- user_id — идентификатор пользователя, отправившего сообщение\n",
    "\n",
    "Таблица internet (информация об интернет-сессиях):\n",
    "\n",
    "- id — уникальный номер сессии\n",
    "- mb_used — объём потраченного за сессию интернет-трафика (в мегабайтах)\n",
    "- session_date — дата интернет-сессии\n",
    "- user_id — идентификатор пользователя\n",
    "\n",
    "Таблица tariffs (информация о тарифах):\n",
    "\n",
    "- tariff_name — название тарифа\n",
    "- rub_monthly_fee — ежемесячная абонентская плата в рублях\n",
    "- minutes_included — количество минут разговора в месяц, включённых в абонентскую плату\n",
    "- messages_included — количество сообщений в месяц, включённых в абонентскую плату\n",
    "- mb_per_month_included — объём интернет-трафика, включённого в абонентскую плату (в мегабайтах)\n",
    "- rub_per_minute — стоимость минуты разговора сверх тарифного пакета (например, если в тарифе 100 минут разговора в месяц, то со - 101 минуты будет взиматься плата)\n",
    "- rub_per_message — стоимость отправки сообщения сверх тарифного пакета\n",
    "- rub_per_gb — стоимость дополнительного гигабайта интернет-трафика сверх тарифного пакета (1 гигабайт = 1024 мегабайта)"
   ]
  },
  {
   "cell_type": "markdown",
   "metadata": {},
   "source": [
    "### Осмотр и обработка данных:"
   ]
  },
  {
   "cell_type": "code",
   "execution_count": 329,
   "metadata": {},
   "outputs": [],
   "source": [
    "import pandas as pd\n",
    "import numpy as np\n",
    "import matplotlib.pyplot as plt\n",
    "import seaborn as sns\n",
    "\n",
    "from datetime import datetime\n",
    "from scipy import stats as st"
   ]
  },
  {
   "cell_type": "code",
   "execution_count": 330,
   "metadata": {},
   "outputs": [],
   "source": [
    "# Подгрузим датасеты\n",
    "users = pd.read_csv('stat_data_users.csv')\n",
    "calls = pd.read_csv('stat_data_calls.csv')\n",
    "messages = pd.read_csv('stat_data_messages.csv')\n",
    "internet = pd.read_csv('stat_data_internet.csv')\n",
    "tariffs = pd.read_csv('stat_data_tariffs.csv')"
   ]
  },
  {
   "cell_type": "code",
   "execution_count": 331,
   "metadata": {},
   "outputs": [
    {
     "data": {
      "text/html": [
       "<div>\n",
       "<style scoped>\n",
       "    .dataframe tbody tr th:only-of-type {\n",
       "        vertical-align: middle;\n",
       "    }\n",
       "\n",
       "    .dataframe tbody tr th {\n",
       "        vertical-align: top;\n",
       "    }\n",
       "\n",
       "    .dataframe thead th {\n",
       "        text-align: right;\n",
       "    }\n",
       "</style>\n",
       "<table border=\"1\" class=\"dataframe\">\n",
       "  <thead>\n",
       "    <tr style=\"text-align: right;\">\n",
       "      <th></th>\n",
       "      <th>user_id</th>\n",
       "      <th>age</th>\n",
       "      <th>churn_date</th>\n",
       "      <th>city</th>\n",
       "      <th>first_name</th>\n",
       "      <th>last_name</th>\n",
       "      <th>reg_date</th>\n",
       "      <th>tariff</th>\n",
       "    </tr>\n",
       "  </thead>\n",
       "  <tbody>\n",
       "    <tr>\n",
       "      <th>36</th>\n",
       "      <td>1036</td>\n",
       "      <td>47</td>\n",
       "      <td>NaN</td>\n",
       "      <td>Санкт-Петербург</td>\n",
       "      <td>Анжелика</td>\n",
       "      <td>Андропова</td>\n",
       "      <td>2018-07-14</td>\n",
       "      <td>smart</td>\n",
       "    </tr>\n",
       "    <tr>\n",
       "      <th>244</th>\n",
       "      <td>1244</td>\n",
       "      <td>68</td>\n",
       "      <td>NaN</td>\n",
       "      <td>Москва</td>\n",
       "      <td>Геральд</td>\n",
       "      <td>Макеев</td>\n",
       "      <td>2018-05-09</td>\n",
       "      <td>smart</td>\n",
       "    </tr>\n",
       "    <tr>\n",
       "      <th>333</th>\n",
       "      <td>1333</td>\n",
       "      <td>58</td>\n",
       "      <td>NaN</td>\n",
       "      <td>Москва</td>\n",
       "      <td>Вера</td>\n",
       "      <td>Антонова</td>\n",
       "      <td>2018-09-28</td>\n",
       "      <td>ultra</td>\n",
       "    </tr>\n",
       "    <tr>\n",
       "      <th>406</th>\n",
       "      <td>1406</td>\n",
       "      <td>68</td>\n",
       "      <td>NaN</td>\n",
       "      <td>Казань</td>\n",
       "      <td>Станислав</td>\n",
       "      <td>Семёнов</td>\n",
       "      <td>2018-12-15</td>\n",
       "      <td>smart</td>\n",
       "    </tr>\n",
       "    <tr>\n",
       "      <th>324</th>\n",
       "      <td>1324</td>\n",
       "      <td>25</td>\n",
       "      <td>NaN</td>\n",
       "      <td>Череповец</td>\n",
       "      <td>Дайна</td>\n",
       "      <td>Березина</td>\n",
       "      <td>2018-05-28</td>\n",
       "      <td>smart</td>\n",
       "    </tr>\n",
       "  </tbody>\n",
       "</table>\n",
       "</div>"
      ],
      "text/plain": [
       "     user_id  age churn_date             city first_name  last_name  \\\n",
       "36      1036   47        NaN  Санкт-Петербург   Анжелика  Андропова   \n",
       "244     1244   68        NaN           Москва    Геральд     Макеев   \n",
       "333     1333   58        NaN           Москва       Вера   Антонова   \n",
       "406     1406   68        NaN           Казань  Станислав    Семёнов   \n",
       "324     1324   25        NaN        Череповец      Дайна   Березина   \n",
       "\n",
       "       reg_date tariff  \n",
       "36   2018-07-14  smart  \n",
       "244  2018-05-09  smart  \n",
       "333  2018-09-28  ultra  \n",
       "406  2018-12-15  smart  \n",
       "324  2018-05-28  smart  "
      ]
     },
     "execution_count": 331,
     "metadata": {},
     "output_type": "execute_result"
    }
   ],
   "source": [
    "users.sample(5)"
   ]
  },
  {
   "cell_type": "code",
   "execution_count": 332,
   "metadata": {},
   "outputs": [
    {
     "data": {
      "text/plain": [
       "count    500.00000\n",
       "mean      46.58800\n",
       "std       16.66763\n",
       "min       18.00000\n",
       "25%       32.00000\n",
       "50%       46.00000\n",
       "75%       62.00000\n",
       "max       75.00000\n",
       "Name: age, dtype: float64"
      ]
     },
     "execution_count": 332,
     "metadata": {},
     "output_type": "execute_result"
    }
   ],
   "source": [
    "users.age.describe()"
   ]
  },
  {
   "cell_type": "code",
   "execution_count": 333,
   "metadata": {},
   "outputs": [
    {
     "name": "stdout",
     "output_type": "stream",
     "text": [
      "<class 'pandas.core.frame.DataFrame'>\n",
      "RangeIndex: 500 entries, 0 to 499\n",
      "Data columns (total 8 columns):\n",
      " #   Column      Non-Null Count  Dtype \n",
      "---  ------      --------------  ----- \n",
      " 0   user_id     500 non-null    int64 \n",
      " 1   age         500 non-null    int64 \n",
      " 2   churn_date  38 non-null     object\n",
      " 3   city        500 non-null    object\n",
      " 4   first_name  500 non-null    object\n",
      " 5   last_name   500 non-null    object\n",
      " 6   reg_date    500 non-null    object\n",
      " 7   tariff      500 non-null    object\n",
      "dtypes: int64(2), object(6)\n",
      "memory usage: 31.4+ KB\n"
     ]
    }
   ],
   "source": [
    "users.info()"
   ]
  },
  {
   "cell_type": "code",
   "execution_count": 334,
   "metadata": {},
   "outputs": [],
   "source": [
    "# изменим тип данных для даты\n",
    "users['churn_date'] = pd.to_datetime(users['churn_date'], format=\"%Y-%m-%d\")\n",
    "users['reg_date'] = pd.to_datetime(users['reg_date'], format=\"%Y-%m-%d\")"
   ]
  },
  {
   "cell_type": "code",
   "execution_count": 335,
   "metadata": {},
   "outputs": [
    {
     "name": "stdout",
     "output_type": "stream",
     "text": [
      "<class 'pandas.core.frame.DataFrame'>\n",
      "RangeIndex: 500 entries, 0 to 499\n",
      "Data columns (total 8 columns):\n",
      " #   Column      Non-Null Count  Dtype         \n",
      "---  ------      --------------  -----         \n",
      " 0   user_id     500 non-null    int64         \n",
      " 1   age         500 non-null    int64         \n",
      " 2   churn_date  38 non-null     datetime64[ns]\n",
      " 3   city        500 non-null    object        \n",
      " 4   first_name  500 non-null    object        \n",
      " 5   last_name   500 non-null    object        \n",
      " 6   reg_date    500 non-null    datetime64[ns]\n",
      " 7   tariff      500 non-null    object        \n",
      "dtypes: datetime64[ns](2), int64(2), object(4)\n",
      "memory usage: 31.4+ KB\n"
     ]
    }
   ],
   "source": [
    "users.info()"
   ]
  },
  {
   "cell_type": "code",
   "execution_count": 336,
   "metadata": {},
   "outputs": [
    {
     "data": {
      "text/plain": [
       "user_id         0\n",
       "age             0\n",
       "churn_date    462\n",
       "city            0\n",
       "first_name      0\n",
       "last_name       0\n",
       "reg_date        0\n",
       "tariff          0\n",
       "dtype: int64"
      ]
     },
     "execution_count": 336,
     "metadata": {},
     "output_type": "execute_result"
    }
   ],
   "source": [
    "users.isnull().sum()"
   ]
  },
  {
   "cell_type": "code",
   "execution_count": 337,
   "metadata": {},
   "outputs": [],
   "source": [
    "# заменим пропущенные значения \n",
    "users['churn_date'] = users['churn_date'].fillna(0)"
   ]
  },
  {
   "cell_type": "code",
   "execution_count": 338,
   "metadata": {},
   "outputs": [
    {
     "data": {
      "text/plain": [
       "0"
      ]
     },
     "execution_count": 338,
     "metadata": {},
     "output_type": "execute_result"
    }
   ],
   "source": [
    "# взглянем на налчие дубликатов\n",
    "users.duplicated().sum()"
   ]
  },
  {
   "cell_type": "code",
   "execution_count": 339,
   "metadata": {},
   "outputs": [
    {
     "data": {
      "text/html": [
       "<div>\n",
       "<style scoped>\n",
       "    .dataframe tbody tr th:only-of-type {\n",
       "        vertical-align: middle;\n",
       "    }\n",
       "\n",
       "    .dataframe tbody tr th {\n",
       "        vertical-align: top;\n",
       "    }\n",
       "\n",
       "    .dataframe thead th {\n",
       "        text-align: right;\n",
       "    }\n",
       "</style>\n",
       "<table border=\"1\" class=\"dataframe\">\n",
       "  <thead>\n",
       "    <tr style=\"text-align: right;\">\n",
       "      <th></th>\n",
       "      <th>id</th>\n",
       "      <th>call_date</th>\n",
       "      <th>duration</th>\n",
       "      <th>user_id</th>\n",
       "    </tr>\n",
       "  </thead>\n",
       "  <tbody>\n",
       "    <tr>\n",
       "      <th>169375</th>\n",
       "      <td>1416_542</td>\n",
       "      <td>2018-11-27</td>\n",
       "      <td>6.36</td>\n",
       "      <td>1416</td>\n",
       "    </tr>\n",
       "    <tr>\n",
       "      <th>141845</th>\n",
       "      <td>1360_288</td>\n",
       "      <td>2018-09-06</td>\n",
       "      <td>5.94</td>\n",
       "      <td>1360</td>\n",
       "    </tr>\n",
       "    <tr>\n",
       "      <th>86041</th>\n",
       "      <td>1216_148</td>\n",
       "      <td>2018-12-02</td>\n",
       "      <td>13.72</td>\n",
       "      <td>1216</td>\n",
       "    </tr>\n",
       "    <tr>\n",
       "      <th>128108</th>\n",
       "      <td>1329_188</td>\n",
       "      <td>2018-10-30</td>\n",
       "      <td>15.13</td>\n",
       "      <td>1329</td>\n",
       "    </tr>\n",
       "    <tr>\n",
       "      <th>63035</th>\n",
       "      <td>1158_593</td>\n",
       "      <td>2018-08-24</td>\n",
       "      <td>5.42</td>\n",
       "      <td>1158</td>\n",
       "    </tr>\n",
       "  </tbody>\n",
       "</table>\n",
       "</div>"
      ],
      "text/plain": [
       "              id   call_date  duration  user_id\n",
       "169375  1416_542  2018-11-27      6.36     1416\n",
       "141845  1360_288  2018-09-06      5.94     1360\n",
       "86041   1216_148  2018-12-02     13.72     1216\n",
       "128108  1329_188  2018-10-30     15.13     1329\n",
       "63035   1158_593  2018-08-24      5.42     1158"
      ]
     },
     "execution_count": 339,
     "metadata": {},
     "output_type": "execute_result"
    }
   ],
   "source": [
    "calls.sample(5)"
   ]
  },
  {
   "cell_type": "code",
   "execution_count": 340,
   "metadata": {},
   "outputs": [
    {
     "data": {
      "text/plain": [
       "count    202607.000000\n",
       "mean          6.755887\n",
       "std           5.843365\n",
       "min           0.000000\n",
       "25%           1.300000\n",
       "50%           6.000000\n",
       "75%          10.700000\n",
       "max          38.000000\n",
       "Name: duration, dtype: float64"
      ]
     },
     "execution_count": 340,
     "metadata": {},
     "output_type": "execute_result"
    }
   ],
   "source": [
    "calls.duration.describe()"
   ]
  },
  {
   "cell_type": "code",
   "execution_count": 341,
   "metadata": {},
   "outputs": [
    {
     "name": "stdout",
     "output_type": "stream",
     "text": [
      "<class 'pandas.core.frame.DataFrame'>\n",
      "RangeIndex: 202607 entries, 0 to 202606\n",
      "Data columns (total 4 columns):\n",
      " #   Column     Non-Null Count   Dtype  \n",
      "---  ------     --------------   -----  \n",
      " 0   id         202607 non-null  object \n",
      " 1   call_date  202607 non-null  object \n",
      " 2   duration   202607 non-null  float64\n",
      " 3   user_id    202607 non-null  int64  \n",
      "dtypes: float64(1), int64(1), object(2)\n",
      "memory usage: 6.2+ MB\n"
     ]
    }
   ],
   "source": [
    "calls.info()"
   ]
  },
  {
   "cell_type": "code",
   "execution_count": 342,
   "metadata": {},
   "outputs": [],
   "source": [
    "# изменим тип данных для даты\n",
    "calls['call_date'] = pd.to_datetime(calls['call_date'], format=\"%Y-%m-%d\")"
   ]
  },
  {
   "cell_type": "code",
   "execution_count": 343,
   "metadata": {},
   "outputs": [],
   "source": [
    "# округлим длительность звонков до целых чисел\n",
    "calls['duration'] = calls['duration'].astype('int')"
   ]
  },
  {
   "cell_type": "code",
   "execution_count": 344,
   "metadata": {},
   "outputs": [],
   "source": [
    "# звонки дляительностью 0 минут заменим на 1\n",
    "calls['duration'] = calls['duration'].replace(0,1)"
   ]
  },
  {
   "cell_type": "code",
   "execution_count": 345,
   "metadata": {},
   "outputs": [
    {
     "data": {
      "text/html": [
       "<div>\n",
       "<style scoped>\n",
       "    .dataframe tbody tr th:only-of-type {\n",
       "        vertical-align: middle;\n",
       "    }\n",
       "\n",
       "    .dataframe tbody tr th {\n",
       "        vertical-align: top;\n",
       "    }\n",
       "\n",
       "    .dataframe thead th {\n",
       "        text-align: right;\n",
       "    }\n",
       "</style>\n",
       "<table border=\"1\" class=\"dataframe\">\n",
       "  <thead>\n",
       "    <tr style=\"text-align: right;\">\n",
       "      <th></th>\n",
       "      <th>id</th>\n",
       "      <th>call_date</th>\n",
       "      <th>duration</th>\n",
       "      <th>user_id</th>\n",
       "    </tr>\n",
       "  </thead>\n",
       "  <tbody>\n",
       "    <tr>\n",
       "      <th>181882</th>\n",
       "      <td>1453_1074</td>\n",
       "      <td>2018-05-25</td>\n",
       "      <td>10</td>\n",
       "      <td>1453</td>\n",
       "    </tr>\n",
       "    <tr>\n",
       "      <th>4230</th>\n",
       "      <td>1011_324</td>\n",
       "      <td>2018-04-07</td>\n",
       "      <td>17</td>\n",
       "      <td>1011</td>\n",
       "    </tr>\n",
       "    <tr>\n",
       "      <th>7042</th>\n",
       "      <td>1018_830</td>\n",
       "      <td>2018-11-28</td>\n",
       "      <td>12</td>\n",
       "      <td>1018</td>\n",
       "    </tr>\n",
       "    <tr>\n",
       "      <th>28439</th>\n",
       "      <td>1071_94</td>\n",
       "      <td>2018-06-07</td>\n",
       "      <td>1</td>\n",
       "      <td>1071</td>\n",
       "    </tr>\n",
       "    <tr>\n",
       "      <th>174121</th>\n",
       "      <td>1430_170</td>\n",
       "      <td>2018-11-16</td>\n",
       "      <td>3</td>\n",
       "      <td>1430</td>\n",
       "    </tr>\n",
       "  </tbody>\n",
       "</table>\n",
       "</div>"
      ],
      "text/plain": [
       "               id  call_date  duration  user_id\n",
       "181882  1453_1074 2018-05-25        10     1453\n",
       "4230     1011_324 2018-04-07        17     1011\n",
       "7042     1018_830 2018-11-28        12     1018\n",
       "28439     1071_94 2018-06-07         1     1071\n",
       "174121   1430_170 2018-11-16         3     1430"
      ]
     },
     "execution_count": 345,
     "metadata": {},
     "output_type": "execute_result"
    }
   ],
   "source": [
    "calls.sample(5)"
   ]
  },
  {
   "cell_type": "code",
   "execution_count": 346,
   "metadata": {},
   "outputs": [
    {
     "data": {
      "text/plain": [
       "0"
      ]
     },
     "execution_count": 346,
     "metadata": {},
     "output_type": "execute_result"
    }
   ],
   "source": [
    "# взглянем на количество дубликатов\n",
    "calls.duplicated().sum()"
   ]
  },
  {
   "cell_type": "code",
   "execution_count": 347,
   "metadata": {},
   "outputs": [
    {
     "data": {
      "text/html": [
       "<div>\n",
       "<style scoped>\n",
       "    .dataframe tbody tr th:only-of-type {\n",
       "        vertical-align: middle;\n",
       "    }\n",
       "\n",
       "    .dataframe tbody tr th {\n",
       "        vertical-align: top;\n",
       "    }\n",
       "\n",
       "    .dataframe thead th {\n",
       "        text-align: right;\n",
       "    }\n",
       "</style>\n",
       "<table border=\"1\" class=\"dataframe\">\n",
       "  <thead>\n",
       "    <tr style=\"text-align: right;\">\n",
       "      <th></th>\n",
       "      <th>id</th>\n",
       "      <th>message_date</th>\n",
       "      <th>user_id</th>\n",
       "    </tr>\n",
       "  </thead>\n",
       "  <tbody>\n",
       "    <tr>\n",
       "      <th>110165</th>\n",
       "      <td>1445_70</td>\n",
       "      <td>2018-12-29</td>\n",
       "      <td>1445</td>\n",
       "    </tr>\n",
       "    <tr>\n",
       "      <th>78290</th>\n",
       "      <td>1330_316</td>\n",
       "      <td>2018-07-21</td>\n",
       "      <td>1330</td>\n",
       "    </tr>\n",
       "    <tr>\n",
       "      <th>101980</th>\n",
       "      <td>1416_297</td>\n",
       "      <td>2018-11-26</td>\n",
       "      <td>1416</td>\n",
       "    </tr>\n",
       "    <tr>\n",
       "      <th>61478</th>\n",
       "      <td>1271_63</td>\n",
       "      <td>2018-10-03</td>\n",
       "      <td>1271</td>\n",
       "    </tr>\n",
       "    <tr>\n",
       "      <th>67072</th>\n",
       "      <td>1285_260</td>\n",
       "      <td>2018-11-11</td>\n",
       "      <td>1285</td>\n",
       "    </tr>\n",
       "  </tbody>\n",
       "</table>\n",
       "</div>"
      ],
      "text/plain": [
       "              id message_date  user_id\n",
       "110165   1445_70   2018-12-29     1445\n",
       "78290   1330_316   2018-07-21     1330\n",
       "101980  1416_297   2018-11-26     1416\n",
       "61478    1271_63   2018-10-03     1271\n",
       "67072   1285_260   2018-11-11     1285"
      ]
     },
     "execution_count": 347,
     "metadata": {},
     "output_type": "execute_result"
    }
   ],
   "source": [
    "messages.sample(5)"
   ]
  },
  {
   "cell_type": "code",
   "execution_count": 348,
   "metadata": {},
   "outputs": [
    {
     "name": "stdout",
     "output_type": "stream",
     "text": [
      "<class 'pandas.core.frame.DataFrame'>\n",
      "RangeIndex: 123036 entries, 0 to 123035\n",
      "Data columns (total 3 columns):\n",
      " #   Column        Non-Null Count   Dtype \n",
      "---  ------        --------------   ----- \n",
      " 0   id            123036 non-null  object\n",
      " 1   message_date  123036 non-null  object\n",
      " 2   user_id       123036 non-null  int64 \n",
      "dtypes: int64(1), object(2)\n",
      "memory usage: 2.8+ MB\n"
     ]
    }
   ],
   "source": [
    "messages.info()"
   ]
  },
  {
   "cell_type": "code",
   "execution_count": 349,
   "metadata": {},
   "outputs": [],
   "source": [
    "# изменим тип данных для даты\n",
    "messages['message_date'] = pd.to_datetime(messages['message_date'], format=\"%Y-%m-%d\")"
   ]
  },
  {
   "cell_type": "code",
   "execution_count": 350,
   "metadata": {},
   "outputs": [
    {
     "data": {
      "text/plain": [
       "0"
      ]
     },
     "execution_count": 350,
     "metadata": {},
     "output_type": "execute_result"
    }
   ],
   "source": [
    "# взглянем на количество дубликатов\n",
    "messages.duplicated().sum()"
   ]
  },
  {
   "cell_type": "code",
   "execution_count": 351,
   "metadata": {},
   "outputs": [
    {
     "data": {
      "text/html": [
       "<div>\n",
       "<style scoped>\n",
       "    .dataframe tbody tr th:only-of-type {\n",
       "        vertical-align: middle;\n",
       "    }\n",
       "\n",
       "    .dataframe tbody tr th {\n",
       "        vertical-align: top;\n",
       "    }\n",
       "\n",
       "    .dataframe thead th {\n",
       "        text-align: right;\n",
       "    }\n",
       "</style>\n",
       "<table border=\"1\" class=\"dataframe\">\n",
       "  <thead>\n",
       "    <tr style=\"text-align: right;\">\n",
       "      <th></th>\n",
       "      <th>id</th>\n",
       "      <th>mb_used</th>\n",
       "      <th>session_date</th>\n",
       "      <th>user_id</th>\n",
       "    </tr>\n",
       "  </thead>\n",
       "  <tbody>\n",
       "    <tr>\n",
       "      <th>135289</th>\n",
       "      <td>1453_510</td>\n",
       "      <td>892.84</td>\n",
       "      <td>2018-04-11</td>\n",
       "      <td>1453</td>\n",
       "    </tr>\n",
       "    <tr>\n",
       "      <th>144096</th>\n",
       "      <td>1481_450</td>\n",
       "      <td>0.00</td>\n",
       "      <td>2018-04-13</td>\n",
       "      <td>1481</td>\n",
       "    </tr>\n",
       "    <tr>\n",
       "      <th>90896</th>\n",
       "      <td>1308_79</td>\n",
       "      <td>0.00</td>\n",
       "      <td>2018-07-09</td>\n",
       "      <td>1308</td>\n",
       "    </tr>\n",
       "    <tr>\n",
       "      <th>93397</th>\n",
       "      <td>1315_76</td>\n",
       "      <td>285.17</td>\n",
       "      <td>2018-09-26</td>\n",
       "      <td>1315</td>\n",
       "    </tr>\n",
       "    <tr>\n",
       "      <th>118635</th>\n",
       "      <td>1401_56</td>\n",
       "      <td>180.66</td>\n",
       "      <td>2018-10-16</td>\n",
       "      <td>1401</td>\n",
       "    </tr>\n",
       "  </tbody>\n",
       "</table>\n",
       "</div>"
      ],
      "text/plain": [
       "              id  mb_used session_date  user_id\n",
       "135289  1453_510   892.84   2018-04-11     1453\n",
       "144096  1481_450     0.00   2018-04-13     1481\n",
       "90896    1308_79     0.00   2018-07-09     1308\n",
       "93397    1315_76   285.17   2018-09-26     1315\n",
       "118635   1401_56   180.66   2018-10-16     1401"
      ]
     },
     "execution_count": 351,
     "metadata": {},
     "output_type": "execute_result"
    }
   ],
   "source": [
    "internet.sample(5)"
   ]
  },
  {
   "cell_type": "code",
   "execution_count": 352,
   "metadata": {},
   "outputs": [
    {
     "name": "stdout",
     "output_type": "stream",
     "text": [
      "<class 'pandas.core.frame.DataFrame'>\n",
      "RangeIndex: 149396 entries, 0 to 149395\n",
      "Data columns (total 4 columns):\n",
      " #   Column        Non-Null Count   Dtype  \n",
      "---  ------        --------------   -----  \n",
      " 0   id            149396 non-null  object \n",
      " 1   mb_used       149396 non-null  float64\n",
      " 2   session_date  149396 non-null  object \n",
      " 3   user_id       149396 non-null  int64  \n",
      "dtypes: float64(1), int64(1), object(2)\n",
      "memory usage: 4.6+ MB\n"
     ]
    }
   ],
   "source": [
    "internet.info()"
   ]
  },
  {
   "cell_type": "code",
   "execution_count": 353,
   "metadata": {},
   "outputs": [
    {
     "data": {
      "text/plain": [
       "count    149396.000000\n",
       "mean        370.192426\n",
       "std         278.300951\n",
       "min           0.000000\n",
       "25%         138.187500\n",
       "50%         348.015000\n",
       "75%         559.552500\n",
       "max        1724.830000\n",
       "Name: mb_used, dtype: float64"
      ]
     },
     "execution_count": 353,
     "metadata": {},
     "output_type": "execute_result"
    }
   ],
   "source": [
    "internet.mb_used.describe()"
   ]
  },
  {
   "cell_type": "code",
   "execution_count": 354,
   "metadata": {},
   "outputs": [
    {
     "data": {
      "text/plain": [
       "id              19598\n",
       "mb_used         19598\n",
       "session_date    19598\n",
       "user_id         19598\n",
       "dtype: int64"
      ]
     },
     "execution_count": 354,
     "metadata": {},
     "output_type": "execute_result"
    }
   ],
   "source": [
    "internet[internet['mb_used']==0.00].count()"
   ]
  },
  {
   "cell_type": "code",
   "execution_count": 355,
   "metadata": {},
   "outputs": [],
   "source": [
    "# изменим тип данных для даты\n",
    "internet['session_date'] = pd.to_datetime(internet['session_date'], format=\"%Y-%m-%d\")"
   ]
  },
  {
   "cell_type": "code",
   "execution_count": 356,
   "metadata": {},
   "outputs": [],
   "source": [
    "# в столбце израсходаванные мегабайты присутствует нулевое значение\n",
    "# это очень странно, что пользоватлель ни разу не использовал интернет ресурс (как минимум погоду смотрят все)\n",
    "# потому заменим 0 на 1\n",
    "internet['mb_used'] = internet['mb_used'].replace(0,1)"
   ]
  },
  {
   "cell_type": "code",
   "execution_count": 357,
   "metadata": {},
   "outputs": [
    {
     "data": {
      "text/plain": [
       "0"
      ]
     },
     "execution_count": 357,
     "metadata": {},
     "output_type": "execute_result"
    }
   ],
   "source": [
    "# взглянем на количество дубликатов\n",
    "internet.duplicated().sum()"
   ]
  },
  {
   "cell_type": "markdown",
   "metadata": {},
   "source": [
    "Вывод:\n",
    "- аномальных значений в признаках не выявлено;\n",
    "- пропуски были найдены и заменены на корректные значения;\n",
    "- некорректные типы данных (тип - дата) приведены все к нормальному бою;\n",
    "- дубликатов не найдено."
   ]
  },
  {
   "cell_type": "markdown",
   "metadata": {},
   "source": [
    "### Количество сделанных звонков и израсходованных минут по месяцам"
   ]
  },
  {
   "cell_type": "code",
   "execution_count": 358,
   "metadata": {},
   "outputs": [],
   "source": [
    "calls['month'] = calls['call_date'].dt.month"
   ]
  },
  {
   "cell_type": "code",
   "execution_count": 359,
   "metadata": {},
   "outputs": [
    {
     "data": {
      "text/html": [
       "<div>\n",
       "<style scoped>\n",
       "    .dataframe tbody tr th:only-of-type {\n",
       "        vertical-align: middle;\n",
       "    }\n",
       "\n",
       "    .dataframe tbody tr th {\n",
       "        vertical-align: top;\n",
       "    }\n",
       "\n",
       "    .dataframe thead th {\n",
       "        text-align: right;\n",
       "    }\n",
       "</style>\n",
       "<table border=\"1\" class=\"dataframe\">\n",
       "  <thead>\n",
       "    <tr style=\"text-align: right;\">\n",
       "      <th></th>\n",
       "      <th>id</th>\n",
       "      <th>call_date</th>\n",
       "      <th>duration</th>\n",
       "      <th>user_id</th>\n",
       "      <th>month</th>\n",
       "    </tr>\n",
       "  </thead>\n",
       "  <tbody>\n",
       "    <tr>\n",
       "      <th>0</th>\n",
       "      <td>1000_0</td>\n",
       "      <td>2018-07-25</td>\n",
       "      <td>1</td>\n",
       "      <td>1000</td>\n",
       "      <td>7</td>\n",
       "    </tr>\n",
       "    <tr>\n",
       "      <th>1</th>\n",
       "      <td>1000_1</td>\n",
       "      <td>2018-08-17</td>\n",
       "      <td>1</td>\n",
       "      <td>1000</td>\n",
       "      <td>8</td>\n",
       "    </tr>\n",
       "    <tr>\n",
       "      <th>2</th>\n",
       "      <td>1000_2</td>\n",
       "      <td>2018-06-11</td>\n",
       "      <td>2</td>\n",
       "      <td>1000</td>\n",
       "      <td>6</td>\n",
       "    </tr>\n",
       "    <tr>\n",
       "      <th>3</th>\n",
       "      <td>1000_3</td>\n",
       "      <td>2018-09-21</td>\n",
       "      <td>13</td>\n",
       "      <td>1000</td>\n",
       "      <td>9</td>\n",
       "    </tr>\n",
       "    <tr>\n",
       "      <th>4</th>\n",
       "      <td>1000_4</td>\n",
       "      <td>2018-12-15</td>\n",
       "      <td>5</td>\n",
       "      <td>1000</td>\n",
       "      <td>12</td>\n",
       "    </tr>\n",
       "  </tbody>\n",
       "</table>\n",
       "</div>"
      ],
      "text/plain": [
       "       id  call_date  duration  user_id  month\n",
       "0  1000_0 2018-07-25         1     1000      7\n",
       "1  1000_1 2018-08-17         1     1000      8\n",
       "2  1000_2 2018-06-11         2     1000      6\n",
       "3  1000_3 2018-09-21        13     1000      9\n",
       "4  1000_4 2018-12-15         5     1000     12"
      ]
     },
     "execution_count": 359,
     "metadata": {},
     "output_type": "execute_result"
    }
   ],
   "source": [
    "calls.head()"
   ]
  },
  {
   "cell_type": "code",
   "execution_count": 360,
   "metadata": {},
   "outputs": [],
   "source": [
    "count_calls = calls.groupby(['user_id', 'month'])\\\n",
    "                   .agg({'duration':'sum', 'id':'count'})\\\n",
    "                   .reset_index()\\\n",
    "                   .rename(columns={'duration':'month_calls_duration','id':'calls_total_in_month'})\\\n",
    "                   .sort_values(['month_calls_duration'], ascending=False)"
   ]
  },
  {
   "cell_type": "code",
   "execution_count": 361,
   "metadata": {},
   "outputs": [
    {
     "data": {
      "text/html": [
       "<div>\n",
       "<style scoped>\n",
       "    .dataframe tbody tr th:only-of-type {\n",
       "        vertical-align: middle;\n",
       "    }\n",
       "\n",
       "    .dataframe tbody tr th {\n",
       "        vertical-align: top;\n",
       "    }\n",
       "\n",
       "    .dataframe thead th {\n",
       "        text-align: right;\n",
       "    }\n",
       "</style>\n",
       "<table border=\"1\" class=\"dataframe\">\n",
       "  <thead>\n",
       "    <tr style=\"text-align: right;\">\n",
       "      <th></th>\n",
       "      <th>user_id</th>\n",
       "      <th>month</th>\n",
       "      <th>month_calls_duration</th>\n",
       "      <th>calls_total_in_month</th>\n",
       "    </tr>\n",
       "  </thead>\n",
       "  <tbody>\n",
       "    <tr>\n",
       "      <th>2972</th>\n",
       "      <td>1467</td>\n",
       "      <td>12</td>\n",
       "      <td>1553</td>\n",
       "      <td>244</td>\n",
       "    </tr>\n",
       "    <tr>\n",
       "      <th>2359</th>\n",
       "      <td>1377</td>\n",
       "      <td>3</td>\n",
       "      <td>1486</td>\n",
       "      <td>203</td>\n",
       "    </tr>\n",
       "    <tr>\n",
       "      <th>1359</th>\n",
       "      <td>1216</td>\n",
       "      <td>12</td>\n",
       "      <td>1319</td>\n",
       "      <td>198</td>\n",
       "    </tr>\n",
       "    <tr>\n",
       "      <th>1237</th>\n",
       "      <td>1196</td>\n",
       "      <td>6</td>\n",
       "      <td>1294</td>\n",
       "      <td>176</td>\n",
       "    </tr>\n",
       "    <tr>\n",
       "      <th>2366</th>\n",
       "      <td>1377</td>\n",
       "      <td>10</td>\n",
       "      <td>1287</td>\n",
       "      <td>178</td>\n",
       "    </tr>\n",
       "  </tbody>\n",
       "</table>\n",
       "</div>"
      ],
      "text/plain": [
       "      user_id  month  month_calls_duration  calls_total_in_month\n",
       "2972     1467     12                  1553                   244\n",
       "2359     1377      3                  1486                   203\n",
       "1359     1216     12                  1319                   198\n",
       "1237     1196      6                  1294                   176\n",
       "2366     1377     10                  1287                   178"
      ]
     },
     "execution_count": 361,
     "metadata": {},
     "output_type": "execute_result"
    }
   ],
   "source": [
    "count_calls.head()"
   ]
  },
  {
   "cell_type": "code",
   "execution_count": 362,
   "metadata": {},
   "outputs": [
    {
     "data": {
      "image/png": "[encoded data removed]",
      "text/plain": [
       "<Figure size 1296x360 with 2 Axes>"
      ]
     },
     "metadata": {},
     "output_type": "display_data"
    }
   ],
   "source": [
    "f, ax = plt.subplots(1,2, figsize = (18,5))\n",
    "sns.barplot(x = count_calls.month, y = count_calls.month_calls_duration, ax=ax[0], ci=None)\n",
    "ax[0].set_title('Количество израсходованных минут за месяц')\n",
    "\n",
    "sns.barplot(x = count_calls.month, y = count_calls.calls_total_in_month, ax=ax[1], ci=None)\n",
    "ax[1].set_title('Количестов совершенных звонков за месяц')\n",
    "plt.show()"
   ]
  },
  {
   "cell_type": "markdown",
   "metadata": {},
   "source": [
    "Вывод:\n",
    "- чаще всего связью пользуются в декабре (больше всего совершенных звонков и затраченных минут соотвественно);\n",
    "- наиболее низкая активность в январе и феврале;\n",
    "- больше всего звонков совершили пользователи с  user_id = 1467, 1377, 1216"
   ]
  },
  {
   "cell_type": "code",
   "execution_count": 538,
   "metadata": {},
   "outputs": [
    {
     "data": {
      "image/png": "[encoded data removed]",
      "text/plain": [
       "<Figure size 1296x576 with 1 Axes>"
      ]
     },
     "metadata": {},
     "output_type": "display_data"
    }
   ],
   "source": [
    "sns.set(rc={'figure.figsize': (18,8)})\n",
    "kitchen = sns.barplot(x = df.age, y = df.month_calls_duration, ci=None)\n",
    "kitchen.set_title('Количество израсходованных минут за месяц в зависимости от возрастного диапазона')\n",
    "plt.show()"
   ]
  },
  {
   "cell_type": "markdown",
   "metadata": {},
   "source": [
    "Вывод:\n",
    "- явным лидером по длительности разговоров лица в возрасте 59 лет (быть может такая выборка попалась и это всего-лишь случайность)"
   ]
  },
  {
   "cell_type": "markdown",
   "metadata": {},
   "source": [
    "Посмотрим на данные по использованию интернет - трафика, длительности звонков и количеству смс в разрезе городов - регионов, убрав из выборки Санкт - Петербург и Москву"
   ]
  },
  {
   "cell_type": "code",
   "execution_count": 562,
   "metadata": {},
   "outputs": [],
   "source": [
    "reg = df.loc[(df['city'] != 'Москва') & (df['city'] != 'Санкт-Петербург')]"
   ]
  },
  {
   "cell_type": "code",
   "execution_count": 563,
   "metadata": {},
   "outputs": [
    {
     "data": {
      "text/html": [
       "<div>\n",
       "<style scoped>\n",
       "    .dataframe tbody tr th:only-of-type {\n",
       "        vertical-align: middle;\n",
       "    }\n",
       "\n",
       "    .dataframe tbody tr th {\n",
       "        vertical-align: top;\n",
       "    }\n",
       "\n",
       "    .dataframe thead th {\n",
       "        text-align: right;\n",
       "    }\n",
       "</style>\n",
       "<table border=\"1\" class=\"dataframe\">\n",
       "  <thead>\n",
       "    <tr style=\"text-align: right;\">\n",
       "      <th></th>\n",
       "      <th>city</th>\n",
       "      <th>month_calls_duration</th>\n",
       "    </tr>\n",
       "  </thead>\n",
       "  <tbody>\n",
       "    <tr>\n",
       "      <th>65</th>\n",
       "      <td>Уфа</td>\n",
       "      <td>39146.0</td>\n",
       "    </tr>\n",
       "    <tr>\n",
       "      <th>64</th>\n",
       "      <td>Ульяновск</td>\n",
       "      <td>35668.0</td>\n",
       "    </tr>\n",
       "    <tr>\n",
       "      <th>24</th>\n",
       "      <td>Краснодар</td>\n",
       "      <td>34934.0</td>\n",
       "    </tr>\n",
       "    <tr>\n",
       "      <th>38</th>\n",
       "      <td>Новосибирск</td>\n",
       "      <td>34808.0</td>\n",
       "    </tr>\n",
       "    <tr>\n",
       "      <th>18</th>\n",
       "      <td>Казань</td>\n",
       "      <td>34000.0</td>\n",
       "    </tr>\n",
       "    <tr>\n",
       "      <th>48</th>\n",
       "      <td>Самара</td>\n",
       "      <td>30853.0</td>\n",
       "    </tr>\n",
       "    <tr>\n",
       "      <th>42</th>\n",
       "      <td>Пенза</td>\n",
       "      <td>29812.0</td>\n",
       "    </tr>\n",
       "    <tr>\n",
       "      <th>9</th>\n",
       "      <td>Волгоград</td>\n",
       "      <td>29810.0</td>\n",
       "    </tr>\n",
       "    <tr>\n",
       "      <th>43</th>\n",
       "      <td>Пермь</td>\n",
       "      <td>28341.0</td>\n",
       "    </tr>\n",
       "    <tr>\n",
       "      <th>32</th>\n",
       "      <td>Набережные Челны</td>\n",
       "      <td>27911.0</td>\n",
       "    </tr>\n",
       "  </tbody>\n",
       "</table>\n",
       "</div>"
      ],
      "text/plain": [
       "                city  month_calls_duration\n",
       "65               Уфа               39146.0\n",
       "64         Ульяновск               35668.0\n",
       "24         Краснодар               34934.0\n",
       "38       Новосибирск               34808.0\n",
       "18            Казань               34000.0\n",
       "48            Самара               30853.0\n",
       "42             Пенза               29812.0\n",
       "9          Волгоград               29810.0\n",
       "43             Пермь               28341.0\n",
       "32  Набережные Челны               27911.0"
      ]
     },
     "execution_count": 563,
     "metadata": {},
     "output_type": "execute_result"
    }
   ],
   "source": [
    "reg.groupby('city')\\\n",
    "                   .agg({'month_calls_duration':'sum'})\\\n",
    "                   .reset_index()\\\n",
    "                   .sort_values('month_calls_duration', ascending=False).head(10)"
   ]
  },
  {
   "cell_type": "markdown",
   "metadata": {},
   "source": [
    "Вывод:\n",
    "- интересно, что наряду с городами миллионниками в топ 10 вошли \n",
    "   - Набережные Челны (население 533 тч)\n",
    "   - Пенза (население 520 тч)"
   ]
  },
  {
   "cell_type": "code",
   "execution_count": 556,
   "metadata": {},
   "outputs": [
    {
     "data": {
      "text/html": [
       "<div>\n",
       "<style scoped>\n",
       "    .dataframe tbody tr th:only-of-type {\n",
       "        vertical-align: middle;\n",
       "    }\n",
       "\n",
       "    .dataframe tbody tr th {\n",
       "        vertical-align: top;\n",
       "    }\n",
       "\n",
       "    .dataframe thead th {\n",
       "        text-align: right;\n",
       "    }\n",
       "</style>\n",
       "<table border=\"1\" class=\"dataframe\">\n",
       "  <thead>\n",
       "    <tr style=\"text-align: right;\">\n",
       "      <th></th>\n",
       "      <th>city</th>\n",
       "      <th>month_calls_duration</th>\n",
       "    </tr>\n",
       "  </thead>\n",
       "  <tbody>\n",
       "    <tr>\n",
       "      <th>0</th>\n",
       "      <td>Архангельск</td>\n",
       "      <td>4613.0</td>\n",
       "    </tr>\n",
       "    <tr>\n",
       "      <th>68</th>\n",
       "      <td>Чебоксары</td>\n",
       "      <td>3984.0</td>\n",
       "    </tr>\n",
       "    <tr>\n",
       "      <th>56</th>\n",
       "      <td>Сургут</td>\n",
       "      <td>3054.0</td>\n",
       "    </tr>\n",
       "    <tr>\n",
       "      <th>21</th>\n",
       "      <td>Кемерово</td>\n",
       "      <td>2671.0</td>\n",
       "    </tr>\n",
       "    <tr>\n",
       "      <th>7</th>\n",
       "      <td>Владикавказ</td>\n",
       "      <td>2407.0</td>\n",
       "    </tr>\n",
       "    <tr>\n",
       "      <th>28</th>\n",
       "      <td>Липецк</td>\n",
       "      <td>2269.0</td>\n",
       "    </tr>\n",
       "    <tr>\n",
       "      <th>33</th>\n",
       "      <td>Нижневартовск</td>\n",
       "      <td>1751.0</td>\n",
       "    </tr>\n",
       "    <tr>\n",
       "      <th>67</th>\n",
       "      <td>Химки</td>\n",
       "      <td>1492.0</td>\n",
       "    </tr>\n",
       "    <tr>\n",
       "      <th>10</th>\n",
       "      <td>Волжский</td>\n",
       "      <td>1451.0</td>\n",
       "    </tr>\n",
       "    <tr>\n",
       "      <th>15</th>\n",
       "      <td>Иваново</td>\n",
       "      <td>872.0</td>\n",
       "    </tr>\n",
       "  </tbody>\n",
       "</table>\n",
       "</div>"
      ],
      "text/plain": [
       "             city  month_calls_duration\n",
       "0     Архангельск                4613.0\n",
       "68      Чебоксары                3984.0\n",
       "56         Сургут                3054.0\n",
       "21       Кемерово                2671.0\n",
       "7     Владикавказ                2407.0\n",
       "28         Липецк                2269.0\n",
       "33  Нижневартовск                1751.0\n",
       "67          Химки                1492.0\n",
       "10       Волжский                1451.0\n",
       "15        Иваново                 872.0"
      ]
     },
     "execution_count": 556,
     "metadata": {},
     "output_type": "execute_result"
    }
   ],
   "source": [
    "reg.groupby('city')\\\n",
    "                   .agg({'month_calls_duration':'sum'})\\\n",
    "                   .reset_index()\\\n",
    "                   .sort_values('month_calls_duration', ascending=False).tail(10)"
   ]
  },
  {
   "cell_type": "markdown",
   "metadata": {},
   "source": [
    "Вывод:\n",
    "- самый низкий показатель, как правило и у город с меньшим населением, что в принципе объяснимо, ведь одно от другого коррелирует, но в тоже время хотелось бы отметить\n",
    "    - Кемерово (население 556 тч)\n",
    "    - Липецк (население 508 тч)\n",
    "    - Чебоксары (население 497 тч)"
   ]
  },
  {
   "cell_type": "markdown",
   "metadata": {},
   "source": [
    "### Количество отправленных сообщений по месяцам"
   ]
  },
  {
   "cell_type": "code",
   "execution_count": 363,
   "metadata": {},
   "outputs": [],
   "source": [
    "messages['month'] = messages['message_date'].dt.month"
   ]
  },
  {
   "cell_type": "code",
   "execution_count": 364,
   "metadata": {},
   "outputs": [
    {
     "data": {
      "text/html": [
       "<div>\n",
       "<style scoped>\n",
       "    .dataframe tbody tr th:only-of-type {\n",
       "        vertical-align: middle;\n",
       "    }\n",
       "\n",
       "    .dataframe tbody tr th {\n",
       "        vertical-align: top;\n",
       "    }\n",
       "\n",
       "    .dataframe thead th {\n",
       "        text-align: right;\n",
       "    }\n",
       "</style>\n",
       "<table border=\"1\" class=\"dataframe\">\n",
       "  <thead>\n",
       "    <tr style=\"text-align: right;\">\n",
       "      <th></th>\n",
       "      <th>id</th>\n",
       "      <th>message_date</th>\n",
       "      <th>user_id</th>\n",
       "      <th>month</th>\n",
       "    </tr>\n",
       "  </thead>\n",
       "  <tbody>\n",
       "    <tr>\n",
       "      <th>0</th>\n",
       "      <td>1000_0</td>\n",
       "      <td>2018-06-27</td>\n",
       "      <td>1000</td>\n",
       "      <td>6</td>\n",
       "    </tr>\n",
       "    <tr>\n",
       "      <th>1</th>\n",
       "      <td>1000_1</td>\n",
       "      <td>2018-10-08</td>\n",
       "      <td>1000</td>\n",
       "      <td>10</td>\n",
       "    </tr>\n",
       "    <tr>\n",
       "      <th>2</th>\n",
       "      <td>1000_2</td>\n",
       "      <td>2018-08-04</td>\n",
       "      <td>1000</td>\n",
       "      <td>8</td>\n",
       "    </tr>\n",
       "    <tr>\n",
       "      <th>3</th>\n",
       "      <td>1000_3</td>\n",
       "      <td>2018-06-16</td>\n",
       "      <td>1000</td>\n",
       "      <td>6</td>\n",
       "    </tr>\n",
       "    <tr>\n",
       "      <th>4</th>\n",
       "      <td>1000_4</td>\n",
       "      <td>2018-12-05</td>\n",
       "      <td>1000</td>\n",
       "      <td>12</td>\n",
       "    </tr>\n",
       "  </tbody>\n",
       "</table>\n",
       "</div>"
      ],
      "text/plain": [
       "       id message_date  user_id  month\n",
       "0  1000_0   2018-06-27     1000      6\n",
       "1  1000_1   2018-10-08     1000     10\n",
       "2  1000_2   2018-08-04     1000      8\n",
       "3  1000_3   2018-06-16     1000      6\n",
       "4  1000_4   2018-12-05     1000     12"
      ]
     },
     "execution_count": 364,
     "metadata": {},
     "output_type": "execute_result"
    }
   ],
   "source": [
    "messages.head()"
   ]
  },
  {
   "cell_type": "code",
   "execution_count": 365,
   "metadata": {},
   "outputs": [],
   "source": [
    "count_messages = messages.groupby(['user_id', 'month'])\\\n",
    "                   .agg({'id':'count'})\\\n",
    "                   .reset_index()\\\n",
    "                   .rename(columns={'id':'mess_total_in_month'})\\\n",
    "                   .sort_values(['mess_total_in_month'], ascending=False)"
   ]
  },
  {
   "cell_type": "code",
   "execution_count": 366,
   "metadata": {},
   "outputs": [
    {
     "data": {
      "text/html": [
       "<div>\n",
       "<style scoped>\n",
       "    .dataframe tbody tr th:only-of-type {\n",
       "        vertical-align: middle;\n",
       "    }\n",
       "\n",
       "    .dataframe tbody tr th {\n",
       "        vertical-align: top;\n",
       "    }\n",
       "\n",
       "    .dataframe thead th {\n",
       "        text-align: right;\n",
       "    }\n",
       "</style>\n",
       "<table border=\"1\" class=\"dataframe\">\n",
       "  <thead>\n",
       "    <tr style=\"text-align: right;\">\n",
       "      <th></th>\n",
       "      <th>user_id</th>\n",
       "      <th>month</th>\n",
       "      <th>mess_total_in_month</th>\n",
       "    </tr>\n",
       "  </thead>\n",
       "  <tbody>\n",
       "    <tr>\n",
       "      <th>866</th>\n",
       "      <td>1165</td>\n",
       "      <td>12</td>\n",
       "      <td>224</td>\n",
       "    </tr>\n",
       "    <tr>\n",
       "      <th>154</th>\n",
       "      <td>1028</td>\n",
       "      <td>10</td>\n",
       "      <td>223</td>\n",
       "    </tr>\n",
       "    <tr>\n",
       "      <th>1197</th>\n",
       "      <td>1231</td>\n",
       "      <td>7</td>\n",
       "      <td>211</td>\n",
       "    </tr>\n",
       "    <tr>\n",
       "      <th>1196</th>\n",
       "      <td>1231</td>\n",
       "      <td>6</td>\n",
       "      <td>201</td>\n",
       "    </tr>\n",
       "    <tr>\n",
       "      <th>865</th>\n",
       "      <td>1165</td>\n",
       "      <td>11</td>\n",
       "      <td>197</td>\n",
       "    </tr>\n",
       "  </tbody>\n",
       "</table>\n",
       "</div>"
      ],
      "text/plain": [
       "      user_id  month  mess_total_in_month\n",
       "866      1165     12                  224\n",
       "154      1028     10                  223\n",
       "1197     1231      7                  211\n",
       "1196     1231      6                  201\n",
       "865      1165     11                  197"
      ]
     },
     "execution_count": 366,
     "metadata": {},
     "output_type": "execute_result"
    }
   ],
   "source": [
    "count_messages.head()"
   ]
  },
  {
   "cell_type": "code",
   "execution_count": 367,
   "metadata": {},
   "outputs": [
    {
     "data": {
      "image/png": "[encoded data removed]",
      "text/plain": [
       "<Figure size 864x432 with 1 Axes>"
      ]
     },
     "metadata": {},
     "output_type": "display_data"
    }
   ],
   "source": [
    "sns.set(rc={'figure.figsize': (12,6)})\n",
    "fig = sns.barplot(x = count_messages.month, y = count_messages.mess_total_in_month, ci=None)\n",
    "fig.set_title('Количество отправленных сообщений в зависимости от месяца')\n",
    "plt.show()"
   ]
  },
  {
   "cell_type": "markdown",
   "metadata": {},
   "source": [
    "Вывод:\n",
    "- ситуация аналогична совершенным звонкам (наибольшее количество отправленных сообщений в декабре, наименьшее в январе, феврале);\n",
    "- лидерами по отправленным сообщениям являются пользователи с user_id = 1165, 1028, 1231"
   ]
  },
  {
   "cell_type": "code",
   "execution_count": 535,
   "metadata": {},
   "outputs": [
    {
     "data": {
      "image/png": "[encoded data removed]",
      "text/plain": [
       "<Figure size 1296x576 with 1 Axes>"
      ]
     },
     "metadata": {},
     "output_type": "display_data"
    }
   ],
   "source": [
    "sns.set(rc={'figure.figsize': (18,8)})\n",
    "kitchen = sns.barplot(x = df.age, y = df.mess_total_in_month, ci=None)\n",
    "kitchen.set_title('Количество отправленных сообщений в зависимости от возрастного диапазона')\n",
    "plt.show()"
   ]
  },
  {
   "cell_type": "markdown",
   "metadata": {},
   "source": [
    "Вывод:\n",
    "- чаще остальных смс пользуются люди более пожилого возраста от 47 лет"
   ]
  },
  {
   "cell_type": "code",
   "execution_count": 558,
   "metadata": {},
   "outputs": [
    {
     "data": {
      "text/html": [
       "<div>\n",
       "<style scoped>\n",
       "    .dataframe tbody tr th:only-of-type {\n",
       "        vertical-align: middle;\n",
       "    }\n",
       "\n",
       "    .dataframe tbody tr th {\n",
       "        vertical-align: top;\n",
       "    }\n",
       "\n",
       "    .dataframe thead th {\n",
       "        text-align: right;\n",
       "    }\n",
       "</style>\n",
       "<table border=\"1\" class=\"dataframe\">\n",
       "  <thead>\n",
       "    <tr style=\"text-align: right;\">\n",
       "      <th></th>\n",
       "      <th>city</th>\n",
       "      <th>mess_total_in_month</th>\n",
       "    </tr>\n",
       "  </thead>\n",
       "  <tbody>\n",
       "    <tr>\n",
       "      <th>65</th>\n",
       "      <td>Уфа</td>\n",
       "      <td>5095.0</td>\n",
       "    </tr>\n",
       "    <tr>\n",
       "      <th>24</th>\n",
       "      <td>Краснодар</td>\n",
       "      <td>4223.0</td>\n",
       "    </tr>\n",
       "    <tr>\n",
       "      <th>38</th>\n",
       "      <td>Новосибирск</td>\n",
       "      <td>3723.0</td>\n",
       "    </tr>\n",
       "    <tr>\n",
       "      <th>64</th>\n",
       "      <td>Ульяновск</td>\n",
       "      <td>3346.0</td>\n",
       "    </tr>\n",
       "    <tr>\n",
       "      <th>36</th>\n",
       "      <td>Новокузнецк</td>\n",
       "      <td>2798.0</td>\n",
       "    </tr>\n",
       "    <tr>\n",
       "      <th>32</th>\n",
       "      <td>Набережные Челны</td>\n",
       "      <td>2789.0</td>\n",
       "    </tr>\n",
       "    <tr>\n",
       "      <th>12</th>\n",
       "      <td>Воронеж</td>\n",
       "      <td>2661.0</td>\n",
       "    </tr>\n",
       "    <tr>\n",
       "      <th>39</th>\n",
       "      <td>Омск</td>\n",
       "      <td>2642.0</td>\n",
       "    </tr>\n",
       "    <tr>\n",
       "      <th>17</th>\n",
       "      <td>Иркутск</td>\n",
       "      <td>2582.0</td>\n",
       "    </tr>\n",
       "    <tr>\n",
       "      <th>43</th>\n",
       "      <td>Пермь</td>\n",
       "      <td>2575.0</td>\n",
       "    </tr>\n",
       "  </tbody>\n",
       "</table>\n",
       "</div>"
      ],
      "text/plain": [
       "                city  mess_total_in_month\n",
       "65               Уфа               5095.0\n",
       "24         Краснодар               4223.0\n",
       "38       Новосибирск               3723.0\n",
       "64         Ульяновск               3346.0\n",
       "36       Новокузнецк               2798.0\n",
       "32  Набережные Челны               2789.0\n",
       "12           Воронеж               2661.0\n",
       "39              Омск               2642.0\n",
       "17           Иркутск               2582.0\n",
       "43             Пермь               2575.0"
      ]
     },
     "execution_count": 558,
     "metadata": {},
     "output_type": "execute_result"
    }
   ],
   "source": [
    "reg.groupby('city')\\\n",
    "                   .agg({'mess_total_in_month':'sum'})\\\n",
    "                   .reset_index()\\\n",
    "                   .sort_values('mess_total_in_month', ascending=False).head(10)"
   ]
  },
  {
   "cell_type": "markdown",
   "metadata": {},
   "source": [
    "Вывод:\n",
    "- по количеству отправленных смс, лидерами стали:\n",
    "    - Набережные Челны (население 533 тч)\n",
    "    - Иркутск (население 663 тч)"
   ]
  },
  {
   "cell_type": "code",
   "execution_count": 559,
   "metadata": {},
   "outputs": [
    {
     "data": {
      "text/html": [
       "<div>\n",
       "<style scoped>\n",
       "    .dataframe tbody tr th:only-of-type {\n",
       "        vertical-align: middle;\n",
       "    }\n",
       "\n",
       "    .dataframe tbody tr th {\n",
       "        vertical-align: top;\n",
       "    }\n",
       "\n",
       "    .dataframe thead th {\n",
       "        text-align: right;\n",
       "    }\n",
       "</style>\n",
       "<table border=\"1\" class=\"dataframe\">\n",
       "  <thead>\n",
       "    <tr style=\"text-align: right;\">\n",
       "      <th></th>\n",
       "      <th>city</th>\n",
       "      <th>mess_total_in_month</th>\n",
       "    </tr>\n",
       "  </thead>\n",
       "  <tbody>\n",
       "    <tr>\n",
       "      <th>66</th>\n",
       "      <td>Хабаровск</td>\n",
       "      <td>252.0</td>\n",
       "    </tr>\n",
       "    <tr>\n",
       "      <th>0</th>\n",
       "      <td>Архангельск</td>\n",
       "      <td>228.0</td>\n",
       "    </tr>\n",
       "    <tr>\n",
       "      <th>61</th>\n",
       "      <td>Тула</td>\n",
       "      <td>165.0</td>\n",
       "    </tr>\n",
       "    <tr>\n",
       "      <th>55</th>\n",
       "      <td>Стерлитамак</td>\n",
       "      <td>127.0</td>\n",
       "    </tr>\n",
       "    <tr>\n",
       "      <th>41</th>\n",
       "      <td>Орёл</td>\n",
       "      <td>111.0</td>\n",
       "    </tr>\n",
       "    <tr>\n",
       "      <th>3</th>\n",
       "      <td>Барнаул</td>\n",
       "      <td>110.0</td>\n",
       "    </tr>\n",
       "    <tr>\n",
       "      <th>10</th>\n",
       "      <td>Волжский</td>\n",
       "      <td>105.0</td>\n",
       "    </tr>\n",
       "    <tr>\n",
       "      <th>51</th>\n",
       "      <td>Севастополь</td>\n",
       "      <td>99.0</td>\n",
       "    </tr>\n",
       "    <tr>\n",
       "      <th>67</th>\n",
       "      <td>Химки</td>\n",
       "      <td>60.0</td>\n",
       "    </tr>\n",
       "    <tr>\n",
       "      <th>15</th>\n",
       "      <td>Иваново</td>\n",
       "      <td>42.0</td>\n",
       "    </tr>\n",
       "  </tbody>\n",
       "</table>\n",
       "</div>"
      ],
      "text/plain": [
       "           city  mess_total_in_month\n",
       "66    Хабаровск                252.0\n",
       "0   Архангельск                228.0\n",
       "61         Тула                165.0\n",
       "55  Стерлитамак                127.0\n",
       "41         Орёл                111.0\n",
       "3       Барнаул                110.0\n",
       "10     Волжский                105.0\n",
       "51  Севастополь                 99.0\n",
       "67        Химки                 60.0\n",
       "15      Иваново                 42.0"
      ]
     },
     "execution_count": 559,
     "metadata": {},
     "output_type": "execute_result"
    }
   ],
   "source": [
    "reg.groupby('city')\\\n",
    "                   .agg({'mess_total_in_month':'sum'})\\\n",
    "                   .reset_index()\\\n",
    "                   .sort_values('mess_total_in_month', ascending=False).tail(10)"
   ]
  },
  {
   "cell_type": "markdown",
   "metadata": {},
   "source": [
    "Вывод:\n",
    "- с низким количеством отправленных смс:\n",
    "    - Хабаровск (население 616 тч)\n",
    "    - Тула (население 475 тч)\n",
    "    - Барнаул (население 632 тч)\n",
    "    - Севастополь (население 449 тч)"
   ]
  },
  {
   "cell_type": "markdown",
   "metadata": {},
   "source": [
    "### Объем израсходованного интернет-трафика по месяцам"
   ]
  },
  {
   "cell_type": "code",
   "execution_count": 368,
   "metadata": {},
   "outputs": [],
   "source": [
    "internet['month'] = internet['session_date'].dt.month"
   ]
  },
  {
   "cell_type": "code",
   "execution_count": 369,
   "metadata": {},
   "outputs": [
    {
     "data": {
      "text/html": [
       "<div>\n",
       "<style scoped>\n",
       "    .dataframe tbody tr th:only-of-type {\n",
       "        vertical-align: middle;\n",
       "    }\n",
       "\n",
       "    .dataframe tbody tr th {\n",
       "        vertical-align: top;\n",
       "    }\n",
       "\n",
       "    .dataframe thead th {\n",
       "        text-align: right;\n",
       "    }\n",
       "</style>\n",
       "<table border=\"1\" class=\"dataframe\">\n",
       "  <thead>\n",
       "    <tr style=\"text-align: right;\">\n",
       "      <th></th>\n",
       "      <th>id</th>\n",
       "      <th>mb_used</th>\n",
       "      <th>session_date</th>\n",
       "      <th>user_id</th>\n",
       "      <th>month</th>\n",
       "    </tr>\n",
       "  </thead>\n",
       "  <tbody>\n",
       "    <tr>\n",
       "      <th>0</th>\n",
       "      <td>1000_0</td>\n",
       "      <td>112.95</td>\n",
       "      <td>2018-11-25</td>\n",
       "      <td>1000</td>\n",
       "      <td>11</td>\n",
       "    </tr>\n",
       "    <tr>\n",
       "      <th>1</th>\n",
       "      <td>1000_1</td>\n",
       "      <td>1052.81</td>\n",
       "      <td>2018-09-07</td>\n",
       "      <td>1000</td>\n",
       "      <td>9</td>\n",
       "    </tr>\n",
       "    <tr>\n",
       "      <th>2</th>\n",
       "      <td>1000_2</td>\n",
       "      <td>1197.26</td>\n",
       "      <td>2018-06-25</td>\n",
       "      <td>1000</td>\n",
       "      <td>6</td>\n",
       "    </tr>\n",
       "    <tr>\n",
       "      <th>3</th>\n",
       "      <td>1000_3</td>\n",
       "      <td>550.27</td>\n",
       "      <td>2018-08-22</td>\n",
       "      <td>1000</td>\n",
       "      <td>8</td>\n",
       "    </tr>\n",
       "    <tr>\n",
       "      <th>4</th>\n",
       "      <td>1000_4</td>\n",
       "      <td>302.56</td>\n",
       "      <td>2018-09-24</td>\n",
       "      <td>1000</td>\n",
       "      <td>9</td>\n",
       "    </tr>\n",
       "  </tbody>\n",
       "</table>\n",
       "</div>"
      ],
      "text/plain": [
       "       id  mb_used session_date  user_id  month\n",
       "0  1000_0   112.95   2018-11-25     1000     11\n",
       "1  1000_1  1052.81   2018-09-07     1000      9\n",
       "2  1000_2  1197.26   2018-06-25     1000      6\n",
       "3  1000_3   550.27   2018-08-22     1000      8\n",
       "4  1000_4   302.56   2018-09-24     1000      9"
      ]
     },
     "execution_count": 369,
     "metadata": {},
     "output_type": "execute_result"
    }
   ],
   "source": [
    "internet.head()"
   ]
  },
  {
   "cell_type": "code",
   "execution_count": 370,
   "metadata": {},
   "outputs": [],
   "source": [
    "count_internet = internet.groupby(['user_id', 'month'])\\\n",
    "                   .agg({'mb_used':'sum'})\\\n",
    "                   .reset_index()\\\n",
    "                   .rename(columns={'mb_used':'mb_total_in_month'})\\\n",
    "                   .sort_values(['mb_total_in_month'], ascending=False)"
   ]
  },
  {
   "cell_type": "code",
   "execution_count": 371,
   "metadata": {},
   "outputs": [
    {
     "data": {
      "text/html": [
       "<div>\n",
       "<style scoped>\n",
       "    .dataframe tbody tr th:only-of-type {\n",
       "        vertical-align: middle;\n",
       "    }\n",
       "\n",
       "    .dataframe tbody tr th {\n",
       "        vertical-align: top;\n",
       "    }\n",
       "\n",
       "    .dataframe thead th {\n",
       "        text-align: right;\n",
       "    }\n",
       "</style>\n",
       "<table border=\"1\" class=\"dataframe\">\n",
       "  <thead>\n",
       "    <tr style=\"text-align: right;\">\n",
       "      <th></th>\n",
       "      <th>user_id</th>\n",
       "      <th>month</th>\n",
       "      <th>mb_total_in_month</th>\n",
       "    </tr>\n",
       "  </thead>\n",
       "  <tbody>\n",
       "    <tr>\n",
       "      <th>799</th>\n",
       "      <td>1124</td>\n",
       "      <td>10</td>\n",
       "      <td>49749.69</td>\n",
       "    </tr>\n",
       "    <tr>\n",
       "      <th>1524</th>\n",
       "      <td>1240</td>\n",
       "      <td>8</td>\n",
       "      <td>48353.59</td>\n",
       "    </tr>\n",
       "    <tr>\n",
       "      <th>1622</th>\n",
       "      <td>1255</td>\n",
       "      <td>7</td>\n",
       "      <td>45184.71</td>\n",
       "    </tr>\n",
       "    <tr>\n",
       "      <th>1901</th>\n",
       "      <td>1300</td>\n",
       "      <td>11</td>\n",
       "      <td>44296.86</td>\n",
       "    </tr>\n",
       "    <tr>\n",
       "      <th>383</th>\n",
       "      <td>1060</td>\n",
       "      <td>12</td>\n",
       "      <td>43934.36</td>\n",
       "    </tr>\n",
       "  </tbody>\n",
       "</table>\n",
       "</div>"
      ],
      "text/plain": [
       "      user_id  month  mb_total_in_month\n",
       "799      1124     10           49749.69\n",
       "1524     1240      8           48353.59\n",
       "1622     1255      7           45184.71\n",
       "1901     1300     11           44296.86\n",
       "383      1060     12           43934.36"
      ]
     },
     "execution_count": 371,
     "metadata": {},
     "output_type": "execute_result"
    }
   ],
   "source": [
    "count_internet.head()"
   ]
  },
  {
   "cell_type": "code",
   "execution_count": 372,
   "metadata": {},
   "outputs": [
    {
     "data": {
      "image/png": "[encoded data removed]",
      "text/plain": [
       "<Figure size 864x432 with 1 Axes>"
      ]
     },
     "metadata": {},
     "output_type": "display_data"
    }
   ],
   "source": [
    "sns.set(rc={'figure.figsize': (12,6)})\n",
    "fig = sns.barplot(x = count_internet.month, y = count_internet.mb_total_in_month, ci=None)\n",
    "fig.set_title('Объем израсходованного Интернет-трафика в зависимости от месяца')\n",
    "plt.show()"
   ]
  },
  {
   "cell_type": "markdown",
   "metadata": {},
   "source": [
    "Вывод:\n",
    "- в декабре больше всего израсходовали трафика (соотвественно в январе и феврале меньше всего);\n",
    "- больше остальных Интернетом пользовались пользователи с user_id = 1124, 1240, 1255"
   ]
  },
  {
   "cell_type": "code",
   "execution_count": 536,
   "metadata": {},
   "outputs": [
    {
     "data": {
      "image/png": "[encoded data removed]",
      "text/plain": [
       "<Figure size 1296x576 with 1 Axes>"
      ]
     },
     "metadata": {},
     "output_type": "display_data"
    }
   ],
   "source": [
    "sns.set(rc={'figure.figsize': (18,8)})\n",
    "kitchen = sns.barplot(x = df.age, y = df.mb_total_in_month, ci=None)\n",
    "kitchen.set_title('Количество израсходованного интернет трафика в зависимости от возрастного диапазона')\n",
    "plt.show()"
   ]
  },
  {
   "cell_type": "markdown",
   "metadata": {},
   "source": [
    "Вывод:\n",
    "- возраст никак не влияет на использование интернет трафика, что в 18, что в 70 лет люди одинаково часто пользуются Интернетом"
   ]
  },
  {
   "cell_type": "code",
   "execution_count": 560,
   "metadata": {},
   "outputs": [
    {
     "data": {
      "text/html": [
       "<div>\n",
       "<style scoped>\n",
       "    .dataframe tbody tr th:only-of-type {\n",
       "        vertical-align: middle;\n",
       "    }\n",
       "\n",
       "    .dataframe tbody tr th {\n",
       "        vertical-align: top;\n",
       "    }\n",
       "\n",
       "    .dataframe thead th {\n",
       "        text-align: right;\n",
       "    }\n",
       "</style>\n",
       "<table border=\"1\" class=\"dataframe\">\n",
       "  <thead>\n",
       "    <tr style=\"text-align: right;\">\n",
       "      <th></th>\n",
       "      <th>city</th>\n",
       "      <th>mb_total_in_month</th>\n",
       "    </tr>\n",
       "  </thead>\n",
       "  <tbody>\n",
       "    <tr>\n",
       "      <th>38</th>\n",
       "      <td>Новосибирск</td>\n",
       "      <td>1773579.35</td>\n",
       "    </tr>\n",
       "    <tr>\n",
       "      <th>65</th>\n",
       "      <td>Уфа</td>\n",
       "      <td>1568686.57</td>\n",
       "    </tr>\n",
       "    <tr>\n",
       "      <th>64</th>\n",
       "      <td>Ульяновск</td>\n",
       "      <td>1336798.47</td>\n",
       "    </tr>\n",
       "    <tr>\n",
       "      <th>24</th>\n",
       "      <td>Краснодар</td>\n",
       "      <td>1207864.45</td>\n",
       "    </tr>\n",
       "    <tr>\n",
       "      <th>43</th>\n",
       "      <td>Пермь</td>\n",
       "      <td>1199868.03</td>\n",
       "    </tr>\n",
       "    <tr>\n",
       "      <th>18</th>\n",
       "      <td>Казань</td>\n",
       "      <td>1192841.43</td>\n",
       "    </tr>\n",
       "    <tr>\n",
       "      <th>39</th>\n",
       "      <td>Омск</td>\n",
       "      <td>1186246.08</td>\n",
       "    </tr>\n",
       "    <tr>\n",
       "      <th>9</th>\n",
       "      <td>Волгоград</td>\n",
       "      <td>1106075.60</td>\n",
       "    </tr>\n",
       "    <tr>\n",
       "      <th>34</th>\n",
       "      <td>Нижний Новгород</td>\n",
       "      <td>1095166.54</td>\n",
       "    </tr>\n",
       "    <tr>\n",
       "      <th>48</th>\n",
       "      <td>Самара</td>\n",
       "      <td>1043782.12</td>\n",
       "    </tr>\n",
       "  </tbody>\n",
       "</table>\n",
       "</div>"
      ],
      "text/plain": [
       "               city  mb_total_in_month\n",
       "38      Новосибирск         1773579.35\n",
       "65              Уфа         1568686.57\n",
       "64        Ульяновск         1336798.47\n",
       "24        Краснодар         1207864.45\n",
       "43            Пермь         1199868.03\n",
       "18           Казань         1192841.43\n",
       "39             Омск         1186246.08\n",
       "9         Волгоград         1106075.60\n",
       "34  Нижний Новгород         1095166.54\n",
       "48           Самара         1043782.12"
      ]
     },
     "execution_count": 560,
     "metadata": {},
     "output_type": "execute_result"
    }
   ],
   "source": [
    "reg.groupby('city')\\\n",
    "                   .agg({'mb_total_in_month':'sum'})\\\n",
    "                   .reset_index()\\\n",
    "                   .sort_values('mb_total_in_month', ascending=False).head(10)"
   ]
  },
  {
   "cell_type": "markdown",
   "metadata": {},
   "source": [
    "Вывод:\n",
    "- по использованию интернет-трафика лидерами оказались города-миллионики (видимо это связано с хорошим интернет покрытием в этих городах)"
   ]
  },
  {
   "cell_type": "code",
   "execution_count": 561,
   "metadata": {},
   "outputs": [
    {
     "data": {
      "text/html": [
       "<div>\n",
       "<style scoped>\n",
       "    .dataframe tbody tr th:only-of-type {\n",
       "        vertical-align: middle;\n",
       "    }\n",
       "\n",
       "    .dataframe tbody tr th {\n",
       "        vertical-align: top;\n",
       "    }\n",
       "\n",
       "    .dataframe thead th {\n",
       "        text-align: right;\n",
       "    }\n",
       "</style>\n",
       "<table border=\"1\" class=\"dataframe\">\n",
       "  <thead>\n",
       "    <tr style=\"text-align: right;\">\n",
       "      <th></th>\n",
       "      <th>city</th>\n",
       "      <th>mb_total_in_month</th>\n",
       "    </tr>\n",
       "  </thead>\n",
       "  <tbody>\n",
       "    <tr>\n",
       "      <th>26</th>\n",
       "      <td>Курган</td>\n",
       "      <td>168985.40</td>\n",
       "    </tr>\n",
       "    <tr>\n",
       "      <th>45</th>\n",
       "      <td>Подольск</td>\n",
       "      <td>168873.25</td>\n",
       "    </tr>\n",
       "    <tr>\n",
       "      <th>7</th>\n",
       "      <td>Владикавказ</td>\n",
       "      <td>119525.63</td>\n",
       "    </tr>\n",
       "    <tr>\n",
       "      <th>10</th>\n",
       "      <td>Волжский</td>\n",
       "      <td>111645.03</td>\n",
       "    </tr>\n",
       "    <tr>\n",
       "      <th>28</th>\n",
       "      <td>Липецк</td>\n",
       "      <td>108600.67</td>\n",
       "    </tr>\n",
       "    <tr>\n",
       "      <th>56</th>\n",
       "      <td>Сургут</td>\n",
       "      <td>93403.81</td>\n",
       "    </tr>\n",
       "    <tr>\n",
       "      <th>21</th>\n",
       "      <td>Кемерово</td>\n",
       "      <td>78443.93</td>\n",
       "    </tr>\n",
       "    <tr>\n",
       "      <th>33</th>\n",
       "      <td>Нижневартовск</td>\n",
       "      <td>66049.73</td>\n",
       "    </tr>\n",
       "    <tr>\n",
       "      <th>67</th>\n",
       "      <td>Химки</td>\n",
       "      <td>61895.25</td>\n",
       "    </tr>\n",
       "    <tr>\n",
       "      <th>15</th>\n",
       "      <td>Иваново</td>\n",
       "      <td>30523.16</td>\n",
       "    </tr>\n",
       "  </tbody>\n",
       "</table>\n",
       "</div>"
      ],
      "text/plain": [
       "             city  mb_total_in_month\n",
       "26         Курган          168985.40\n",
       "45       Подольск          168873.25\n",
       "7     Владикавказ          119525.63\n",
       "10       Волжский          111645.03\n",
       "28         Липецк          108600.67\n",
       "56         Сургут           93403.81\n",
       "21       Кемерово           78443.93\n",
       "33  Нижневартовск           66049.73\n",
       "67          Химки           61895.25\n",
       "15        Иваново           30523.16"
      ]
     },
     "execution_count": 561,
     "metadata": {},
     "output_type": "execute_result"
    }
   ],
   "source": [
    "reg.groupby('city')\\\n",
    "                   .agg({'mb_total_in_month':'sum'})\\\n",
    "                   .reset_index()\\\n",
    "                   .sort_values('mb_total_in_month', ascending=False).tail(10)"
   ]
  },
  {
   "cell_type": "markdown",
   "metadata": {},
   "source": [
    "Вывод:\n",
    "- с наиболее низкими показателями:\n",
    "    - Липецк (население 508 тч)\n",
    "    - Кемерово (население 556 тч)"
   ]
  },
  {
   "cell_type": "markdown",
   "metadata": {},
   "source": [
    "### Месячная выручка с каждого пользователя"
   ]
  },
  {
   "cell_type": "code",
   "execution_count": 373,
   "metadata": {},
   "outputs": [
    {
     "data": {
      "text/html": [
       "<div>\n",
       "<style scoped>\n",
       "    .dataframe tbody tr th:only-of-type {\n",
       "        vertical-align: middle;\n",
       "    }\n",
       "\n",
       "    .dataframe tbody tr th {\n",
       "        vertical-align: top;\n",
       "    }\n",
       "\n",
       "    .dataframe thead th {\n",
       "        text-align: right;\n",
       "    }\n",
       "</style>\n",
       "<table border=\"1\" class=\"dataframe\">\n",
       "  <thead>\n",
       "    <tr style=\"text-align: right;\">\n",
       "      <th></th>\n",
       "      <th>user_id</th>\n",
       "      <th>month</th>\n",
       "      <th>month_calls_duration</th>\n",
       "      <th>calls_total_in_month</th>\n",
       "      <th>mess_total_in_month</th>\n",
       "      <th>mb_total_in_month</th>\n",
       "    </tr>\n",
       "  </thead>\n",
       "  <tbody>\n",
       "    <tr>\n",
       "      <th>0</th>\n",
       "      <td>1467</td>\n",
       "      <td>12</td>\n",
       "      <td>1553.0</td>\n",
       "      <td>244.0</td>\n",
       "      <td>39.0</td>\n",
       "      <td>9757.90</td>\n",
       "    </tr>\n",
       "    <tr>\n",
       "      <th>1</th>\n",
       "      <td>1377</td>\n",
       "      <td>3</td>\n",
       "      <td>1486.0</td>\n",
       "      <td>203.0</td>\n",
       "      <td>20.0</td>\n",
       "      <td>3060.85</td>\n",
       "    </tr>\n",
       "    <tr>\n",
       "      <th>2</th>\n",
       "      <td>1216</td>\n",
       "      <td>12</td>\n",
       "      <td>1319.0</td>\n",
       "      <td>198.0</td>\n",
       "      <td>64.0</td>\n",
       "      <td>20076.05</td>\n",
       "    </tr>\n",
       "    <tr>\n",
       "      <th>3</th>\n",
       "      <td>1196</td>\n",
       "      <td>6</td>\n",
       "      <td>1294.0</td>\n",
       "      <td>176.0</td>\n",
       "      <td>153.0</td>\n",
       "      <td>22653.05</td>\n",
       "    </tr>\n",
       "    <tr>\n",
       "      <th>4</th>\n",
       "      <td>1377</td>\n",
       "      <td>10</td>\n",
       "      <td>1287.0</td>\n",
       "      <td>178.0</td>\n",
       "      <td>10.0</td>\n",
       "      <td>4880.62</td>\n",
       "    </tr>\n",
       "  </tbody>\n",
       "</table>\n",
       "</div>"
      ],
      "text/plain": [
       "   user_id  month  month_calls_duration  calls_total_in_month  \\\n",
       "0     1467     12                1553.0                 244.0   \n",
       "1     1377      3                1486.0                 203.0   \n",
       "2     1216     12                1319.0                 198.0   \n",
       "3     1196      6                1294.0                 176.0   \n",
       "4     1377     10                1287.0                 178.0   \n",
       "\n",
       "   mess_total_in_month  mb_total_in_month  \n",
       "0                 39.0            9757.90  \n",
       "1                 20.0            3060.85  \n",
       "2                 64.0           20076.05  \n",
       "3                153.0           22653.05  \n",
       "4                 10.0            4880.62  "
      ]
     },
     "execution_count": 373,
     "metadata": {},
     "output_type": "execute_result"
    }
   ],
   "source": [
    "df = count_calls.merge(count_messages, on=['user_id','month'], how='outer')\n",
    "df = df.merge(count_internet, on=['user_id','month'], how = 'outer')\n",
    "df.head()"
   ]
  },
  {
   "cell_type": "code",
   "execution_count": 374,
   "metadata": {},
   "outputs": [
    {
     "data": {
      "text/html": [
       "<div>\n",
       "<style scoped>\n",
       "    .dataframe tbody tr th:only-of-type {\n",
       "        vertical-align: middle;\n",
       "    }\n",
       "\n",
       "    .dataframe tbody tr th {\n",
       "        vertical-align: top;\n",
       "    }\n",
       "\n",
       "    .dataframe thead th {\n",
       "        text-align: right;\n",
       "    }\n",
       "</style>\n",
       "<table border=\"1\" class=\"dataframe\">\n",
       "  <thead>\n",
       "    <tr style=\"text-align: right;\">\n",
       "      <th></th>\n",
       "      <th>user_id</th>\n",
       "      <th>month</th>\n",
       "      <th>month_calls_duration</th>\n",
       "      <th>calls_total_in_month</th>\n",
       "      <th>mess_total_in_month</th>\n",
       "      <th>mb_total_in_month</th>\n",
       "      <th>age</th>\n",
       "      <th>churn_date</th>\n",
       "      <th>city</th>\n",
       "      <th>first_name</th>\n",
       "      <th>last_name</th>\n",
       "      <th>reg_date</th>\n",
       "      <th>tariff</th>\n",
       "    </tr>\n",
       "  </thead>\n",
       "  <tbody>\n",
       "    <tr>\n",
       "      <th>0</th>\n",
       "      <td>1467</td>\n",
       "      <td>12</td>\n",
       "      <td>1553.0</td>\n",
       "      <td>244.0</td>\n",
       "      <td>39.0</td>\n",
       "      <td>9757.90</td>\n",
       "      <td>66</td>\n",
       "      <td>0</td>\n",
       "      <td>Киров</td>\n",
       "      <td>Исак</td>\n",
       "      <td>Александрюк</td>\n",
       "      <td>2018-11-24</td>\n",
       "      <td>ultra</td>\n",
       "    </tr>\n",
       "    <tr>\n",
       "      <th>1</th>\n",
       "      <td>1377</td>\n",
       "      <td>3</td>\n",
       "      <td>1486.0</td>\n",
       "      <td>203.0</td>\n",
       "      <td>20.0</td>\n",
       "      <td>3060.85</td>\n",
       "      <td>59</td>\n",
       "      <td>0</td>\n",
       "      <td>Брянск</td>\n",
       "      <td>Альфред</td>\n",
       "      <td>Семин</td>\n",
       "      <td>2018-02-25</td>\n",
       "      <td>ultra</td>\n",
       "    </tr>\n",
       "    <tr>\n",
       "      <th>2</th>\n",
       "      <td>1216</td>\n",
       "      <td>12</td>\n",
       "      <td>1319.0</td>\n",
       "      <td>198.0</td>\n",
       "      <td>64.0</td>\n",
       "      <td>20076.05</td>\n",
       "      <td>74</td>\n",
       "      <td>0</td>\n",
       "      <td>Волгоград</td>\n",
       "      <td>Рустам</td>\n",
       "      <td>Малинин</td>\n",
       "      <td>2018-11-23</td>\n",
       "      <td>smart</td>\n",
       "    </tr>\n",
       "    <tr>\n",
       "      <th>3</th>\n",
       "      <td>1196</td>\n",
       "      <td>6</td>\n",
       "      <td>1294.0</td>\n",
       "      <td>176.0</td>\n",
       "      <td>153.0</td>\n",
       "      <td>22653.05</td>\n",
       "      <td>25</td>\n",
       "      <td>0</td>\n",
       "      <td>Воронеж</td>\n",
       "      <td>Фёдор</td>\n",
       "      <td>Чернышев</td>\n",
       "      <td>2018-05-28</td>\n",
       "      <td>ultra</td>\n",
       "    </tr>\n",
       "    <tr>\n",
       "      <th>4</th>\n",
       "      <td>1377</td>\n",
       "      <td>10</td>\n",
       "      <td>1287.0</td>\n",
       "      <td>178.0</td>\n",
       "      <td>10.0</td>\n",
       "      <td>4880.62</td>\n",
       "      <td>59</td>\n",
       "      <td>0</td>\n",
       "      <td>Брянск</td>\n",
       "      <td>Альфред</td>\n",
       "      <td>Семин</td>\n",
       "      <td>2018-02-25</td>\n",
       "      <td>ultra</td>\n",
       "    </tr>\n",
       "  </tbody>\n",
       "</table>\n",
       "</div>"
      ],
      "text/plain": [
       "   user_id  month  month_calls_duration  calls_total_in_month  \\\n",
       "0     1467     12                1553.0                 244.0   \n",
       "1     1377      3                1486.0                 203.0   \n",
       "2     1216     12                1319.0                 198.0   \n",
       "3     1196      6                1294.0                 176.0   \n",
       "4     1377     10                1287.0                 178.0   \n",
       "\n",
       "   mess_total_in_month  mb_total_in_month  age churn_date       city  \\\n",
       "0                 39.0            9757.90   66          0      Киров   \n",
       "1                 20.0            3060.85   59          0     Брянск   \n",
       "2                 64.0           20076.05   74          0  Волгоград   \n",
       "3                153.0           22653.05   25          0    Воронеж   \n",
       "4                 10.0            4880.62   59          0     Брянск   \n",
       "\n",
       "  first_name    last_name   reg_date tariff  \n",
       "0       Исак  Александрюк 2018-11-24  ultra  \n",
       "1    Альфред        Семин 2018-02-25  ultra  \n",
       "2     Рустам      Малинин 2018-11-23  smart  \n",
       "3      Фёдор     Чернышев 2018-05-28  ultra  \n",
       "4    Альфред        Семин 2018-02-25  ultra  "
      ]
     },
     "execution_count": 374,
     "metadata": {},
     "output_type": "execute_result"
    }
   ],
   "source": [
    "df = df.merge(users, on='user_id', how='left')\n",
    "df.head()"
   ]
  },
  {
   "cell_type": "code",
   "execution_count": 375,
   "metadata": {},
   "outputs": [
    {
     "data": {
      "text/html": [
       "<div>\n",
       "<style scoped>\n",
       "    .dataframe tbody tr th:only-of-type {\n",
       "        vertical-align: middle;\n",
       "    }\n",
       "\n",
       "    .dataframe tbody tr th {\n",
       "        vertical-align: top;\n",
       "    }\n",
       "\n",
       "    .dataframe thead th {\n",
       "        text-align: right;\n",
       "    }\n",
       "</style>\n",
       "<table border=\"1\" class=\"dataframe\">\n",
       "  <thead>\n",
       "    <tr style=\"text-align: right;\">\n",
       "      <th></th>\n",
       "      <th>messages_included</th>\n",
       "      <th>mg_per_month_included</th>\n",
       "      <th>minutes_included</th>\n",
       "      <th>rub_monthly_fee</th>\n",
       "      <th>rub_per_gb</th>\n",
       "      <th>rub_per_message</th>\n",
       "      <th>rub_per_minute</th>\n",
       "      <th>tariff_name</th>\n",
       "    </tr>\n",
       "  </thead>\n",
       "  <tbody>\n",
       "    <tr>\n",
       "      <th>0</th>\n",
       "      <td>50</td>\n",
       "      <td>15360</td>\n",
       "      <td>500</td>\n",
       "      <td>550</td>\n",
       "      <td>200</td>\n",
       "      <td>3</td>\n",
       "      <td>3</td>\n",
       "      <td>smart</td>\n",
       "    </tr>\n",
       "    <tr>\n",
       "      <th>1</th>\n",
       "      <td>1000</td>\n",
       "      <td>30720</td>\n",
       "      <td>3000</td>\n",
       "      <td>1950</td>\n",
       "      <td>150</td>\n",
       "      <td>1</td>\n",
       "      <td>1</td>\n",
       "      <td>ultra</td>\n",
       "    </tr>\n",
       "  </tbody>\n",
       "</table>\n",
       "</div>"
      ],
      "text/plain": [
       "   messages_included  mg_per_month_included  minutes_included  \\\n",
       "0                 50                  15360               500   \n",
       "1               1000                  30720              3000   \n",
       "\n",
       "   rub_monthly_fee  rub_per_gb  rub_per_message  rub_per_minute tariff_name  \n",
       "0              550         200                3               3       smart  \n",
       "1             1950         150                1               1       ultra  "
      ]
     },
     "execution_count": 375,
     "metadata": {},
     "output_type": "execute_result"
    }
   ],
   "source": [
    "tariffs.head()"
   ]
  },
  {
   "cell_type": "code",
   "execution_count": 376,
   "metadata": {},
   "outputs": [],
   "source": [
    "tariffs = tariffs.rename(columns={'tariff_name':'tariff'})"
   ]
  },
  {
   "cell_type": "code",
   "execution_count": 377,
   "metadata": {},
   "outputs": [
    {
     "data": {
      "text/html": [
       "<div>\n",
       "<style scoped>\n",
       "    .dataframe tbody tr th:only-of-type {\n",
       "        vertical-align: middle;\n",
       "    }\n",
       "\n",
       "    .dataframe tbody tr th {\n",
       "        vertical-align: top;\n",
       "    }\n",
       "\n",
       "    .dataframe thead th {\n",
       "        text-align: right;\n",
       "    }\n",
       "</style>\n",
       "<table border=\"1\" class=\"dataframe\">\n",
       "  <thead>\n",
       "    <tr style=\"text-align: right;\">\n",
       "      <th></th>\n",
       "      <th>user_id</th>\n",
       "      <th>month</th>\n",
       "      <th>month_calls_duration</th>\n",
       "      <th>calls_total_in_month</th>\n",
       "      <th>mess_total_in_month</th>\n",
       "      <th>mb_total_in_month</th>\n",
       "      <th>age</th>\n",
       "      <th>churn_date</th>\n",
       "      <th>city</th>\n",
       "      <th>first_name</th>\n",
       "      <th>last_name</th>\n",
       "      <th>reg_date</th>\n",
       "      <th>tariff</th>\n",
       "      <th>messages_included</th>\n",
       "      <th>mg_per_month_included</th>\n",
       "      <th>minutes_included</th>\n",
       "      <th>rub_monthly_fee</th>\n",
       "      <th>rub_per_gb</th>\n",
       "      <th>rub_per_message</th>\n",
       "      <th>rub_per_minute</th>\n",
       "    </tr>\n",
       "  </thead>\n",
       "  <tbody>\n",
       "    <tr>\n",
       "      <th>0</th>\n",
       "      <td>1467</td>\n",
       "      <td>12</td>\n",
       "      <td>1553.0</td>\n",
       "      <td>244.0</td>\n",
       "      <td>39.0</td>\n",
       "      <td>9757.90</td>\n",
       "      <td>66</td>\n",
       "      <td>0</td>\n",
       "      <td>Киров</td>\n",
       "      <td>Исак</td>\n",
       "      <td>Александрюк</td>\n",
       "      <td>2018-11-24</td>\n",
       "      <td>ultra</td>\n",
       "      <td>1000</td>\n",
       "      <td>30720</td>\n",
       "      <td>3000</td>\n",
       "      <td>1950</td>\n",
       "      <td>150</td>\n",
       "      <td>1</td>\n",
       "      <td>1</td>\n",
       "    </tr>\n",
       "    <tr>\n",
       "      <th>1</th>\n",
       "      <td>1377</td>\n",
       "      <td>3</td>\n",
       "      <td>1486.0</td>\n",
       "      <td>203.0</td>\n",
       "      <td>20.0</td>\n",
       "      <td>3060.85</td>\n",
       "      <td>59</td>\n",
       "      <td>0</td>\n",
       "      <td>Брянск</td>\n",
       "      <td>Альфред</td>\n",
       "      <td>Семин</td>\n",
       "      <td>2018-02-25</td>\n",
       "      <td>ultra</td>\n",
       "      <td>1000</td>\n",
       "      <td>30720</td>\n",
       "      <td>3000</td>\n",
       "      <td>1950</td>\n",
       "      <td>150</td>\n",
       "      <td>1</td>\n",
       "      <td>1</td>\n",
       "    </tr>\n",
       "    <tr>\n",
       "      <th>2</th>\n",
       "      <td>1216</td>\n",
       "      <td>12</td>\n",
       "      <td>1319.0</td>\n",
       "      <td>198.0</td>\n",
       "      <td>64.0</td>\n",
       "      <td>20076.05</td>\n",
       "      <td>74</td>\n",
       "      <td>0</td>\n",
       "      <td>Волгоград</td>\n",
       "      <td>Рустам</td>\n",
       "      <td>Малинин</td>\n",
       "      <td>2018-11-23</td>\n",
       "      <td>smart</td>\n",
       "      <td>50</td>\n",
       "      <td>15360</td>\n",
       "      <td>500</td>\n",
       "      <td>550</td>\n",
       "      <td>200</td>\n",
       "      <td>3</td>\n",
       "      <td>3</td>\n",
       "    </tr>\n",
       "    <tr>\n",
       "      <th>3</th>\n",
       "      <td>1196</td>\n",
       "      <td>6</td>\n",
       "      <td>1294.0</td>\n",
       "      <td>176.0</td>\n",
       "      <td>153.0</td>\n",
       "      <td>22653.05</td>\n",
       "      <td>25</td>\n",
       "      <td>0</td>\n",
       "      <td>Воронеж</td>\n",
       "      <td>Фёдор</td>\n",
       "      <td>Чернышев</td>\n",
       "      <td>2018-05-28</td>\n",
       "      <td>ultra</td>\n",
       "      <td>1000</td>\n",
       "      <td>30720</td>\n",
       "      <td>3000</td>\n",
       "      <td>1950</td>\n",
       "      <td>150</td>\n",
       "      <td>1</td>\n",
       "      <td>1</td>\n",
       "    </tr>\n",
       "    <tr>\n",
       "      <th>4</th>\n",
       "      <td>1377</td>\n",
       "      <td>10</td>\n",
       "      <td>1287.0</td>\n",
       "      <td>178.0</td>\n",
       "      <td>10.0</td>\n",
       "      <td>4880.62</td>\n",
       "      <td>59</td>\n",
       "      <td>0</td>\n",
       "      <td>Брянск</td>\n",
       "      <td>Альфред</td>\n",
       "      <td>Семин</td>\n",
       "      <td>2018-02-25</td>\n",
       "      <td>ultra</td>\n",
       "      <td>1000</td>\n",
       "      <td>30720</td>\n",
       "      <td>3000</td>\n",
       "      <td>1950</td>\n",
       "      <td>150</td>\n",
       "      <td>1</td>\n",
       "      <td>1</td>\n",
       "    </tr>\n",
       "  </tbody>\n",
       "</table>\n",
       "</div>"
      ],
      "text/plain": [
       "   user_id  month  month_calls_duration  calls_total_in_month  \\\n",
       "0     1467     12                1553.0                 244.0   \n",
       "1     1377      3                1486.0                 203.0   \n",
       "2     1216     12                1319.0                 198.0   \n",
       "3     1196      6                1294.0                 176.0   \n",
       "4     1377     10                1287.0                 178.0   \n",
       "\n",
       "   mess_total_in_month  mb_total_in_month  age churn_date       city  \\\n",
       "0                 39.0            9757.90   66          0      Киров   \n",
       "1                 20.0            3060.85   59          0     Брянск   \n",
       "2                 64.0           20076.05   74          0  Волгоград   \n",
       "3                153.0           22653.05   25          0    Воронеж   \n",
       "4                 10.0            4880.62   59          0     Брянск   \n",
       "\n",
       "  first_name    last_name   reg_date tariff  messages_included  \\\n",
       "0       Исак  Александрюк 2018-11-24  ultra               1000   \n",
       "1    Альфред        Семин 2018-02-25  ultra               1000   \n",
       "2     Рустам      Малинин 2018-11-23  smart                 50   \n",
       "3      Фёдор     Чернышев 2018-05-28  ultra               1000   \n",
       "4    Альфред        Семин 2018-02-25  ultra               1000   \n",
       "\n",
       "   mg_per_month_included  minutes_included  rub_monthly_fee  rub_per_gb  \\\n",
       "0                  30720              3000             1950         150   \n",
       "1                  30720              3000             1950         150   \n",
       "2                  15360               500              550         200   \n",
       "3                  30720              3000             1950         150   \n",
       "4                  30720              3000             1950         150   \n",
       "\n",
       "   rub_per_message  rub_per_minute  \n",
       "0                1               1  \n",
       "1                1               1  \n",
       "2                3               3  \n",
       "3                1               1  \n",
       "4                1               1  "
      ]
     },
     "execution_count": 377,
     "metadata": {},
     "output_type": "execute_result"
    }
   ],
   "source": [
    "df = df.merge(tariffs, on='tariff', how='left')\n",
    "df.head()"
   ]
  },
  {
   "cell_type": "code",
   "execution_count": 378,
   "metadata": {},
   "outputs": [
    {
     "data": {
      "text/plain": [
       "0"
      ]
     },
     "execution_count": 378,
     "metadata": {},
     "output_type": "execute_result"
    }
   ],
   "source": [
    "# посмотрим не появились-ли дубликаты при слиянии таблиц\n",
    "df.duplicated().sum()"
   ]
  },
  {
   "cell_type": "code",
   "execution_count": 379,
   "metadata": {},
   "outputs": [
    {
     "data": {
      "text/plain": [
       "user_id                    0\n",
       "month                      0\n",
       "month_calls_duration      40\n",
       "calls_total_in_month      40\n",
       "mess_total_in_month      497\n",
       "mb_total_in_month         11\n",
       "age                        0\n",
       "churn_date                 0\n",
       "city                       0\n",
       "first_name                 0\n",
       "last_name                  0\n",
       "reg_date                   0\n",
       "tariff                     0\n",
       "messages_included          0\n",
       "mg_per_month_included      0\n",
       "minutes_included           0\n",
       "rub_monthly_fee            0\n",
       "rub_per_gb                 0\n",
       "rub_per_message            0\n",
       "rub_per_minute             0\n",
       "dtype: int64"
      ]
     },
     "execution_count": 379,
     "metadata": {},
     "output_type": "execute_result"
    }
   ],
   "source": [
    "# посмотрим на количество пропущенных значений\n",
    "df.isnull().sum()"
   ]
  },
  {
   "cell_type": "markdown",
   "metadata": {},
   "source": [
    "- интересно, что появились те, кто подключил тариф, но совсем не пользовался теми или иными услугами (звонки/ смс/ интернет)"
   ]
  },
  {
   "cell_type": "code",
   "execution_count": 380,
   "metadata": {},
   "outputs": [],
   "source": [
    "# заменим на нулевые значения пользователям, кто совсем не пользовался услугами\n",
    "df['mess_total_in_month'] = df['mess_total_in_month'].fillna(0)\n",
    "df['mb_total_in_month'] = df['mb_total_in_month'].fillna(0)\n",
    "df['month_calls_duration'] = df['month_calls_duration'].fillna(0)\n",
    "df['calls_total_in_month'] = df['calls_total_in_month'].fillna(0)"
   ]
  },
  {
   "cell_type": "code",
   "execution_count": 381,
   "metadata": {},
   "outputs": [],
   "source": [
    "def above_the_tariff(row):\n",
    "    sms = (row['mess_total_in_month'] - row['messages_included']) * row['rub_per_message']\n",
    "    mins = (row['month_calls_duration'] - row['minutes_included']) * row['rub_per_minute']\n",
    "    mbs = np.floor((row['mb_total_in_month'] - row['mg_per_month_included']) * row['rub_per_gb'] / 1024)\n",
    "    total = 0\n",
    "    for i in [sms, mins, mbs]:\n",
    "        if i > 0:\n",
    "            total += i\n",
    "    return total"
   ]
  },
  {
   "cell_type": "code",
   "execution_count": 382,
   "metadata": {},
   "outputs": [
    {
     "data": {
      "text/html": [
       "<div>\n",
       "<style scoped>\n",
       "    .dataframe tbody tr th:only-of-type {\n",
       "        vertical-align: middle;\n",
       "    }\n",
       "\n",
       "    .dataframe tbody tr th {\n",
       "        vertical-align: top;\n",
       "    }\n",
       "\n",
       "    .dataframe thead th {\n",
       "        text-align: right;\n",
       "    }\n",
       "</style>\n",
       "<table border=\"1\" class=\"dataframe\">\n",
       "  <thead>\n",
       "    <tr style=\"text-align: right;\">\n",
       "      <th></th>\n",
       "      <th>user_id</th>\n",
       "      <th>month</th>\n",
       "      <th>month_calls_duration</th>\n",
       "      <th>calls_total_in_month</th>\n",
       "      <th>mess_total_in_month</th>\n",
       "      <th>mb_total_in_month</th>\n",
       "      <th>age</th>\n",
       "      <th>churn_date</th>\n",
       "      <th>city</th>\n",
       "      <th>first_name</th>\n",
       "      <th>last_name</th>\n",
       "      <th>reg_date</th>\n",
       "      <th>tariff</th>\n",
       "      <th>messages_included</th>\n",
       "      <th>mg_per_month_included</th>\n",
       "      <th>minutes_included</th>\n",
       "      <th>rub_monthly_fee</th>\n",
       "      <th>rub_per_gb</th>\n",
       "      <th>rub_per_message</th>\n",
       "      <th>rub_per_minute</th>\n",
       "    </tr>\n",
       "  </thead>\n",
       "  <tbody>\n",
       "    <tr>\n",
       "      <th>0</th>\n",
       "      <td>1467</td>\n",
       "      <td>12</td>\n",
       "      <td>1553.0</td>\n",
       "      <td>244.0</td>\n",
       "      <td>39.0</td>\n",
       "      <td>9757.90</td>\n",
       "      <td>66</td>\n",
       "      <td>0</td>\n",
       "      <td>Киров</td>\n",
       "      <td>Исак</td>\n",
       "      <td>Александрюк</td>\n",
       "      <td>2018-11-24</td>\n",
       "      <td>ultra</td>\n",
       "      <td>1000</td>\n",
       "      <td>30720</td>\n",
       "      <td>3000</td>\n",
       "      <td>1950</td>\n",
       "      <td>150</td>\n",
       "      <td>1</td>\n",
       "      <td>1</td>\n",
       "    </tr>\n",
       "    <tr>\n",
       "      <th>1</th>\n",
       "      <td>1377</td>\n",
       "      <td>3</td>\n",
       "      <td>1486.0</td>\n",
       "      <td>203.0</td>\n",
       "      <td>20.0</td>\n",
       "      <td>3060.85</td>\n",
       "      <td>59</td>\n",
       "      <td>0</td>\n",
       "      <td>Брянск</td>\n",
       "      <td>Альфред</td>\n",
       "      <td>Семин</td>\n",
       "      <td>2018-02-25</td>\n",
       "      <td>ultra</td>\n",
       "      <td>1000</td>\n",
       "      <td>30720</td>\n",
       "      <td>3000</td>\n",
       "      <td>1950</td>\n",
       "      <td>150</td>\n",
       "      <td>1</td>\n",
       "      <td>1</td>\n",
       "    </tr>\n",
       "    <tr>\n",
       "      <th>2</th>\n",
       "      <td>1216</td>\n",
       "      <td>12</td>\n",
       "      <td>1319.0</td>\n",
       "      <td>198.0</td>\n",
       "      <td>64.0</td>\n",
       "      <td>20076.05</td>\n",
       "      <td>74</td>\n",
       "      <td>0</td>\n",
       "      <td>Волгоград</td>\n",
       "      <td>Рустам</td>\n",
       "      <td>Малинин</td>\n",
       "      <td>2018-11-23</td>\n",
       "      <td>smart</td>\n",
       "      <td>50</td>\n",
       "      <td>15360</td>\n",
       "      <td>500</td>\n",
       "      <td>550</td>\n",
       "      <td>200</td>\n",
       "      <td>3</td>\n",
       "      <td>3</td>\n",
       "    </tr>\n",
       "    <tr>\n",
       "      <th>3</th>\n",
       "      <td>1196</td>\n",
       "      <td>6</td>\n",
       "      <td>1294.0</td>\n",
       "      <td>176.0</td>\n",
       "      <td>153.0</td>\n",
       "      <td>22653.05</td>\n",
       "      <td>25</td>\n",
       "      <td>0</td>\n",
       "      <td>Воронеж</td>\n",
       "      <td>Фёдор</td>\n",
       "      <td>Чернышев</td>\n",
       "      <td>2018-05-28</td>\n",
       "      <td>ultra</td>\n",
       "      <td>1000</td>\n",
       "      <td>30720</td>\n",
       "      <td>3000</td>\n",
       "      <td>1950</td>\n",
       "      <td>150</td>\n",
       "      <td>1</td>\n",
       "      <td>1</td>\n",
       "    </tr>\n",
       "    <tr>\n",
       "      <th>4</th>\n",
       "      <td>1377</td>\n",
       "      <td>10</td>\n",
       "      <td>1287.0</td>\n",
       "      <td>178.0</td>\n",
       "      <td>10.0</td>\n",
       "      <td>4880.62</td>\n",
       "      <td>59</td>\n",
       "      <td>0</td>\n",
       "      <td>Брянск</td>\n",
       "      <td>Альфред</td>\n",
       "      <td>Семин</td>\n",
       "      <td>2018-02-25</td>\n",
       "      <td>ultra</td>\n",
       "      <td>1000</td>\n",
       "      <td>30720</td>\n",
       "      <td>3000</td>\n",
       "      <td>1950</td>\n",
       "      <td>150</td>\n",
       "      <td>1</td>\n",
       "      <td>1</td>\n",
       "    </tr>\n",
       "  </tbody>\n",
       "</table>\n",
       "</div>"
      ],
      "text/plain": [
       "   user_id  month  month_calls_duration  calls_total_in_month  \\\n",
       "0     1467     12                1553.0                 244.0   \n",
       "1     1377      3                1486.0                 203.0   \n",
       "2     1216     12                1319.0                 198.0   \n",
       "3     1196      6                1294.0                 176.0   \n",
       "4     1377     10                1287.0                 178.0   \n",
       "\n",
       "   mess_total_in_month  mb_total_in_month  age churn_date       city  \\\n",
       "0                 39.0            9757.90   66          0      Киров   \n",
       "1                 20.0            3060.85   59          0     Брянск   \n",
       "2                 64.0           20076.05   74          0  Волгоград   \n",
       "3                153.0           22653.05   25          0    Воронеж   \n",
       "4                 10.0            4880.62   59          0     Брянск   \n",
       "\n",
       "  first_name    last_name   reg_date tariff  messages_included  \\\n",
       "0       Исак  Александрюк 2018-11-24  ultra               1000   \n",
       "1    Альфред        Семин 2018-02-25  ultra               1000   \n",
       "2     Рустам      Малинин 2018-11-23  smart                 50   \n",
       "3      Фёдор     Чернышев 2018-05-28  ultra               1000   \n",
       "4    Альфред        Семин 2018-02-25  ultra               1000   \n",
       "\n",
       "   mg_per_month_included  minutes_included  rub_monthly_fee  rub_per_gb  \\\n",
       "0                  30720              3000             1950         150   \n",
       "1                  30720              3000             1950         150   \n",
       "2                  15360               500              550         200   \n",
       "3                  30720              3000             1950         150   \n",
       "4                  30720              3000             1950         150   \n",
       "\n",
       "   rub_per_message  rub_per_minute  \n",
       "0                1               1  \n",
       "1                1               1  \n",
       "2                3               3  \n",
       "3                1               1  \n",
       "4                1               1  "
      ]
     },
     "execution_count": 382,
     "metadata": {},
     "output_type": "execute_result"
    }
   ],
   "source": [
    "df.head()"
   ]
  },
  {
   "cell_type": "code",
   "execution_count": 383,
   "metadata": {},
   "outputs": [],
   "source": [
    "df['above_the_tariff'] = df.apply(lambda x: above_the_tariff(x), axis=1)"
   ]
  },
  {
   "cell_type": "code",
   "execution_count": 384,
   "metadata": {},
   "outputs": [],
   "source": [
    "df['total_paid'] = df['rub_monthly_fee'] + df['above_the_tariff']"
   ]
  },
  {
   "cell_type": "code",
   "execution_count": 385,
   "metadata": {},
   "outputs": [
    {
     "data": {
      "text/html": [
       "<div>\n",
       "<style scoped>\n",
       "    .dataframe tbody tr th:only-of-type {\n",
       "        vertical-align: middle;\n",
       "    }\n",
       "\n",
       "    .dataframe tbody tr th {\n",
       "        vertical-align: top;\n",
       "    }\n",
       "\n",
       "    .dataframe thead th {\n",
       "        text-align: right;\n",
       "    }\n",
       "</style>\n",
       "<table border=\"1\" class=\"dataframe\">\n",
       "  <thead>\n",
       "    <tr style=\"text-align: right;\">\n",
       "      <th></th>\n",
       "      <th>user_id</th>\n",
       "      <th>month</th>\n",
       "      <th>month_calls_duration</th>\n",
       "      <th>calls_total_in_month</th>\n",
       "      <th>mess_total_in_month</th>\n",
       "      <th>mb_total_in_month</th>\n",
       "      <th>age</th>\n",
       "      <th>churn_date</th>\n",
       "      <th>city</th>\n",
       "      <th>first_name</th>\n",
       "      <th>...</th>\n",
       "      <th>tariff</th>\n",
       "      <th>messages_included</th>\n",
       "      <th>mg_per_month_included</th>\n",
       "      <th>minutes_included</th>\n",
       "      <th>rub_monthly_fee</th>\n",
       "      <th>rub_per_gb</th>\n",
       "      <th>rub_per_message</th>\n",
       "      <th>rub_per_minute</th>\n",
       "      <th>above_the_tariff</th>\n",
       "      <th>total_paid</th>\n",
       "    </tr>\n",
       "  </thead>\n",
       "  <tbody>\n",
       "    <tr>\n",
       "      <th>81</th>\n",
       "      <td>1486</td>\n",
       "      <td>12</td>\n",
       "      <td>921.0</td>\n",
       "      <td>133.0</td>\n",
       "      <td>83.0</td>\n",
       "      <td>38569.45</td>\n",
       "      <td>35</td>\n",
       "      <td>0</td>\n",
       "      <td>Нижний Новгород</td>\n",
       "      <td>Матвей</td>\n",
       "      <td>...</td>\n",
       "      <td>smart</td>\n",
       "      <td>50</td>\n",
       "      <td>15360</td>\n",
       "      <td>500</td>\n",
       "      <td>550</td>\n",
       "      <td>200</td>\n",
       "      <td>3</td>\n",
       "      <td>3</td>\n",
       "      <td>5895.0</td>\n",
       "      <td>6445.0</td>\n",
       "    </tr>\n",
       "    <tr>\n",
       "      <th>53</th>\n",
       "      <td>1261</td>\n",
       "      <td>12</td>\n",
       "      <td>999.0</td>\n",
       "      <td>141.0</td>\n",
       "      <td>22.0</td>\n",
       "      <td>32670.91</td>\n",
       "      <td>46</td>\n",
       "      <td>0</td>\n",
       "      <td>Казань</td>\n",
       "      <td>Мадина</td>\n",
       "      <td>...</td>\n",
       "      <td>smart</td>\n",
       "      <td>50</td>\n",
       "      <td>15360</td>\n",
       "      <td>500</td>\n",
       "      <td>550</td>\n",
       "      <td>200</td>\n",
       "      <td>3</td>\n",
       "      <td>3</td>\n",
       "      <td>4878.0</td>\n",
       "      <td>5428.0</td>\n",
       "    </tr>\n",
       "    <tr>\n",
       "      <th>288</th>\n",
       "      <td>1486</td>\n",
       "      <td>11</td>\n",
       "      <td>709.0</td>\n",
       "      <td>108.0</td>\n",
       "      <td>96.0</td>\n",
       "      <td>36277.11</td>\n",
       "      <td>35</td>\n",
       "      <td>0</td>\n",
       "      <td>Нижний Новгород</td>\n",
       "      <td>Матвей</td>\n",
       "      <td>...</td>\n",
       "      <td>smart</td>\n",
       "      <td>50</td>\n",
       "      <td>15360</td>\n",
       "      <td>500</td>\n",
       "      <td>550</td>\n",
       "      <td>200</td>\n",
       "      <td>3</td>\n",
       "      <td>3</td>\n",
       "      <td>4850.0</td>\n",
       "      <td>5400.0</td>\n",
       "    </tr>\n",
       "    <tr>\n",
       "      <th>386</th>\n",
       "      <td>1042</td>\n",
       "      <td>12</td>\n",
       "      <td>669.0</td>\n",
       "      <td>121.0</td>\n",
       "      <td>75.0</td>\n",
       "      <td>37179.69</td>\n",
       "      <td>42</td>\n",
       "      <td>0</td>\n",
       "      <td>Хабаровск</td>\n",
       "      <td>Константин</td>\n",
       "      <td>...</td>\n",
       "      <td>smart</td>\n",
       "      <td>50</td>\n",
       "      <td>15360</td>\n",
       "      <td>500</td>\n",
       "      <td>550</td>\n",
       "      <td>200</td>\n",
       "      <td>3</td>\n",
       "      <td>3</td>\n",
       "      <td>4843.0</td>\n",
       "      <td>5393.0</td>\n",
       "    </tr>\n",
       "    <tr>\n",
       "      <th>363</th>\n",
       "      <td>1286</td>\n",
       "      <td>12</td>\n",
       "      <td>676.0</td>\n",
       "      <td>95.0</td>\n",
       "      <td>68.0</td>\n",
       "      <td>35126.07</td>\n",
       "      <td>19</td>\n",
       "      <td>0</td>\n",
       "      <td>Москва</td>\n",
       "      <td>Рашид</td>\n",
       "      <td>...</td>\n",
       "      <td>smart</td>\n",
       "      <td>50</td>\n",
       "      <td>15360</td>\n",
       "      <td>500</td>\n",
       "      <td>550</td>\n",
       "      <td>200</td>\n",
       "      <td>3</td>\n",
       "      <td>3</td>\n",
       "      <td>4442.0</td>\n",
       "      <td>4992.0</td>\n",
       "    </tr>\n",
       "  </tbody>\n",
       "</table>\n",
       "<p>5 rows × 22 columns</p>\n",
       "</div>"
      ],
      "text/plain": [
       "     user_id  month  month_calls_duration  calls_total_in_month  \\\n",
       "81      1486     12                 921.0                 133.0   \n",
       "53      1261     12                 999.0                 141.0   \n",
       "288     1486     11                 709.0                 108.0   \n",
       "386     1042     12                 669.0                 121.0   \n",
       "363     1286     12                 676.0                  95.0   \n",
       "\n",
       "     mess_total_in_month  mb_total_in_month  age churn_date             city  \\\n",
       "81                  83.0           38569.45   35          0  Нижний Новгород   \n",
       "53                  22.0           32670.91   46          0           Казань   \n",
       "288                 96.0           36277.11   35          0  Нижний Новгород   \n",
       "386                 75.0           37179.69   42          0        Хабаровск   \n",
       "363                 68.0           35126.07   19          0           Москва   \n",
       "\n",
       "     first_name  ... tariff messages_included mg_per_month_included  \\\n",
       "81       Матвей  ...  smart                50                 15360   \n",
       "53       Мадина  ...  smart                50                 15360   \n",
       "288      Матвей  ...  smart                50                 15360   \n",
       "386  Константин  ...  smart                50                 15360   \n",
       "363       Рашид  ...  smart                50                 15360   \n",
       "\n",
       "     minutes_included  rub_monthly_fee  rub_per_gb  rub_per_message  \\\n",
       "81                500              550         200                3   \n",
       "53                500              550         200                3   \n",
       "288               500              550         200                3   \n",
       "386               500              550         200                3   \n",
       "363               500              550         200                3   \n",
       "\n",
       "     rub_per_minute  above_the_tariff  total_paid  \n",
       "81                3            5895.0      6445.0  \n",
       "53                3            4878.0      5428.0  \n",
       "288               3            4850.0      5400.0  \n",
       "386               3            4843.0      5393.0  \n",
       "363               3            4442.0      4992.0  \n",
       "\n",
       "[5 rows x 22 columns]"
      ]
     },
     "execution_count": 385,
     "metadata": {},
     "output_type": "execute_result"
    }
   ],
   "source": [
    "df.sort_values(by='total_paid', ascending=False).head()"
   ]
  },
  {
   "cell_type": "code",
   "execution_count": 386,
   "metadata": {},
   "outputs": [
    {
     "data": {
      "text/html": [
       "<div>\n",
       "<style scoped>\n",
       "    .dataframe tbody tr th:only-of-type {\n",
       "        vertical-align: middle;\n",
       "    }\n",
       "\n",
       "    .dataframe tbody tr th {\n",
       "        vertical-align: top;\n",
       "    }\n",
       "\n",
       "    .dataframe thead th {\n",
       "        text-align: right;\n",
       "    }\n",
       "</style>\n",
       "<table border=\"1\" class=\"dataframe\">\n",
       "  <thead>\n",
       "    <tr style=\"text-align: right;\">\n",
       "      <th></th>\n",
       "      <th>above_the_tariff</th>\n",
       "      <th>total_paid</th>\n",
       "    </tr>\n",
       "  </thead>\n",
       "  <tbody>\n",
       "    <tr>\n",
       "      <th>count</th>\n",
       "      <td>3214.000000</td>\n",
       "      <td>3214.000000</td>\n",
       "    </tr>\n",
       "    <tr>\n",
       "      <th>mean</th>\n",
       "      <td>474.976042</td>\n",
       "      <td>1454.036403</td>\n",
       "    </tr>\n",
       "    <tr>\n",
       "      <th>std</th>\n",
       "      <td>706.700854</td>\n",
       "      <td>776.365375</td>\n",
       "    </tr>\n",
       "    <tr>\n",
       "      <th>min</th>\n",
       "      <td>0.000000</td>\n",
       "      <td>550.000000</td>\n",
       "    </tr>\n",
       "    <tr>\n",
       "      <th>25%</th>\n",
       "      <td>0.000000</td>\n",
       "      <td>648.250000</td>\n",
       "    </tr>\n",
       "    <tr>\n",
       "      <th>50%</th>\n",
       "      <td>68.000000</td>\n",
       "      <td>1493.000000</td>\n",
       "    </tr>\n",
       "    <tr>\n",
       "      <th>75%</th>\n",
       "      <td>796.000000</td>\n",
       "      <td>1950.000000</td>\n",
       "    </tr>\n",
       "    <tr>\n",
       "      <th>max</th>\n",
       "      <td>5895.000000</td>\n",
       "      <td>6445.000000</td>\n",
       "    </tr>\n",
       "  </tbody>\n",
       "</table>\n",
       "</div>"
      ],
      "text/plain": [
       "       above_the_tariff   total_paid\n",
       "count       3214.000000  3214.000000\n",
       "mean         474.976042  1454.036403\n",
       "std          706.700854   776.365375\n",
       "min            0.000000   550.000000\n",
       "25%            0.000000   648.250000\n",
       "50%           68.000000  1493.000000\n",
       "75%          796.000000  1950.000000\n",
       "max         5895.000000  6445.000000"
      ]
     },
     "execution_count": 386,
     "metadata": {},
     "output_type": "execute_result"
    }
   ],
   "source": [
    "df[['above_the_tariff', 'total_paid']].describe()"
   ]
  },
  {
   "cell_type": "code",
   "execution_count": 400,
   "metadata": {},
   "outputs": [
    {
     "data": {
      "image/png": "[encoded data removed]",
      "text/plain": [
       "<Figure size 864x432 with 1 Axes>"
      ]
     },
     "metadata": {},
     "output_type": "display_data"
    }
   ],
   "source": [
    "sns.lineplot(x='month', y='total_paid',\n",
    "             hue='tariff', data=df)\n",
    "plt.title('Общее количество потраченных денег пользователями в месяц, в зависимости от тарифа')\n",
    "plt.show()"
   ]
  },
  {
   "cell_type": "code",
   "execution_count": 388,
   "metadata": {},
   "outputs": [
    {
     "data": {
      "text/html": [
       "<style  type=\"text/css\" >\n",
       "</style><table id=\"T_5ef4e3a4_098d_11eb_a7d9_d0817aa69c6a\" ><thead>    <tr>        <th class=\"blank level0\" ></th>        <th class=\"col_heading level0 col0\" colspan=4>total_paid</th>    </tr>    <tr>        <th class=\"blank level1\" ></th>        <th class=\"col_heading level1 col0\" >median</th>        <th class=\"col_heading level1 col1\" >mean</th>        <th class=\"col_heading level1 col2\" >var</th>        <th class=\"col_heading level1 col3\" >std</th>    </tr>    <tr>        <th class=\"index_name level0\" >tariff</th>        <th class=\"blank\" ></th>        <th class=\"blank\" ></th>        <th class=\"blank\" ></th>        <th class=\"blank\" ></th>    </tr></thead><tbody>\n",
       "                <tr>\n",
       "                        <th id=\"T_5ef4e3a4_098d_11eb_a7d9_d0817aa69c6alevel0_row0\" class=\"row_heading level0 row0\" >smart</th>\n",
       "                        <td id=\"T_5ef4e3a4_098d_11eb_a7d9_d0817aa69c6arow0_col0\" class=\"data row0 col0\" >912.00</td>\n",
       "                        <td id=\"T_5ef4e3a4_098d_11eb_a7d9_d0817aa69c6arow0_col1\" class=\"data row0 col1\" >1186.32</td>\n",
       "                        <td id=\"T_5ef4e3a4_098d_11eb_a7d9_d0817aa69c6arow0_col2\" class=\"data row0 col2\" >579623.95</td>\n",
       "                        <td id=\"T_5ef4e3a4_098d_11eb_a7d9_d0817aa69c6arow0_col3\" class=\"data row0 col3\" >761.33</td>\n",
       "            </tr>\n",
       "            <tr>\n",
       "                        <th id=\"T_5ef4e3a4_098d_11eb_a7d9_d0817aa69c6alevel0_row1\" class=\"row_heading level0 row1\" >ultra</th>\n",
       "                        <td id=\"T_5ef4e3a4_098d_11eb_a7d9_d0817aa69c6arow1_col0\" class=\"data row1 col0\" >1950.00</td>\n",
       "                        <td id=\"T_5ef4e3a4_098d_11eb_a7d9_d0817aa69c6arow1_col1\" class=\"data row1 col1\" >2059.87</td>\n",
       "                        <td id=\"T_5ef4e3a4_098d_11eb_a7d9_d0817aa69c6arow1_col2\" class=\"data row1 col2\" >125940.97</td>\n",
       "                        <td id=\"T_5ef4e3a4_098d_11eb_a7d9_d0817aa69c6arow1_col3\" class=\"data row1 col3\" >354.88</td>\n",
       "            </tr>\n",
       "    </tbody></table>"
      ],
      "text/plain": [
       "<pandas.io.formats.style.Styler at 0x7ff723de0ee0>"
      ]
     },
     "execution_count": 388,
     "metadata": {},
     "output_type": "execute_result"
    }
   ],
   "source": [
    "df.groupby('tariff')\\\n",
    "  .agg({'total_paid':['median','mean','var','std']})\\\n",
    "  .style.format(\"{:.2f}\")"
   ]
  },
  {
   "cell_type": "markdown",
   "metadata": {},
   "source": [
    "Вывод:\n",
    "- пользователи тарифа смарт ежемесячно, в среднем, выходят за границы тарифа (примерно на 412 минут), тогда как пользователи тарифа ультра платят по тарифу, лишь частично выходят за границы стоимости тарифа"
   ]
  },
  {
   "cell_type": "code",
   "execution_count": 389,
   "metadata": {},
   "outputs": [
    {
     "data": {
      "image/png": "[encoded data removed]",
      "text/plain": [
       "<Figure size 864x432 with 1 Axes>"
      ]
     },
     "metadata": {},
     "output_type": "display_data"
    }
   ],
   "source": [
    "sns.lineplot(x='month', y='month_calls_duration',\n",
    "             hue='tariff', data=df)\n",
    "plt.title('Длительность звонков в минутах в месяц, в зависимости от тарифа')\n",
    "plt.show()"
   ]
  },
  {
   "cell_type": "code",
   "execution_count": 390,
   "metadata": {},
   "outputs": [
    {
     "data": {
      "text/html": [
       "<style  type=\"text/css\" >\n",
       "</style><table id=\"T_b5d3cc1c_098d_11eb_a7d9_d0817aa69c6a\" ><thead>    <tr>        <th class=\"blank level0\" ></th>        <th class=\"col_heading level0 col0\" colspan=4>month_calls_duration</th>    </tr>    <tr>        <th class=\"blank level1\" ></th>        <th class=\"col_heading level1 col0\" >median</th>        <th class=\"col_heading level1 col1\" >mean</th>        <th class=\"col_heading level1 col2\" >var</th>        <th class=\"col_heading level1 col3\" >std</th>    </tr>    <tr>        <th class=\"index_name level0\" >tariff</th>        <th class=\"blank\" ></th>        <th class=\"blank\" ></th>        <th class=\"blank\" ></th>        <th class=\"blank\" ></th>    </tr></thead><tbody>\n",
       "                <tr>\n",
       "                        <th id=\"T_b5d3cc1c_098d_11eb_a7d9_d0817aa69c6alevel0_row0\" class=\"row_heading level0 row0\" >smart</th>\n",
       "                        <td id=\"T_b5d3cc1c_098d_11eb_a7d9_d0817aa69c6arow0_col0\" class=\"data row0 col0\" >390.00</td>\n",
       "                        <td id=\"T_b5d3cc1c_098d_11eb_a7d9_d0817aa69c6arow0_col1\" class=\"data row0 col1\" >385.36</td>\n",
       "                        <td id=\"T_b5d3cc1c_098d_11eb_a7d9_d0817aa69c6arow0_col2\" class=\"data row0 col2\" >30766.97</td>\n",
       "                        <td id=\"T_b5d3cc1c_098d_11eb_a7d9_d0817aa69c6arow0_col3\" class=\"data row0 col3\" >175.41</td>\n",
       "            </tr>\n",
       "            <tr>\n",
       "                        <th id=\"T_b5d3cc1c_098d_11eb_a7d9_d0817aa69c6alevel0_row1\" class=\"row_heading level0 row1\" >ultra</th>\n",
       "                        <td id=\"T_b5d3cc1c_098d_11eb_a7d9_d0817aa69c6arow1_col0\" class=\"data row1 col0\" >477.00</td>\n",
       "                        <td id=\"T_b5d3cc1c_098d_11eb_a7d9_d0817aa69c6arow1_col1\" class=\"data row1 col1\" >485.09</td>\n",
       "                        <td id=\"T_b5d3cc1c_098d_11eb_a7d9_d0817aa69c6arow1_col2\" class=\"data row1 col2\" >85580.98</td>\n",
       "                        <td id=\"T_b5d3cc1c_098d_11eb_a7d9_d0817aa69c6arow1_col3\" class=\"data row1 col3\" >292.54</td>\n",
       "            </tr>\n",
       "    </tbody></table>"
      ],
      "text/plain": [
       "<pandas.io.formats.style.Styler at 0x7ff74d794fd0>"
      ]
     },
     "execution_count": 390,
     "metadata": {},
     "output_type": "execute_result"
    }
   ],
   "source": [
    "df.groupby('tariff')\\\n",
    "  .agg({'month_calls_duration':['median','mean','var','std']})\\\n",
    "  .style.format(\"{:.2f}\")"
   ]
  },
  {
   "cell_type": "markdown",
   "metadata": {},
   "source": [
    "Вывод:\n",
    "- на смарте люди говорят в среднем 390 минут (тем самым люди стараются уложиться в тарифные условия);\n",
    "- на ультре у людей остаются еще значительный запас минут (около 2500 минут)."
   ]
  },
  {
   "cell_type": "code",
   "execution_count": 393,
   "metadata": {},
   "outputs": [
    {
     "data": {
      "image/png": "[encoded data removed]",
      "text/plain": [
       "<Figure size 864x432 with 1 Axes>"
      ]
     },
     "metadata": {},
     "output_type": "display_data"
    }
   ],
   "source": [
    "sns.lineplot(x='month', y='mb_total_in_month',\n",
    "             hue='tariff', data=df)\n",
    "plt.title('Количество МБ в месяц, в зависимости от тарифа')\n",
    "plt.show()"
   ]
  },
  {
   "cell_type": "code",
   "execution_count": 392,
   "metadata": {},
   "outputs": [
    {
     "data": {
      "text/html": [
       "<style  type=\"text/css\" >\n",
       "</style><table id=\"T_5cc215ce_098e_11eb_a7d9_d0817aa69c6a\" ><thead>    <tr>        <th class=\"blank level0\" ></th>        <th class=\"col_heading level0 col0\" colspan=4>mb_total_in_month</th>    </tr>    <tr>        <th class=\"blank level1\" ></th>        <th class=\"col_heading level1 col0\" >median</th>        <th class=\"col_heading level1 col1\" >mean</th>        <th class=\"col_heading level1 col2\" >var</th>        <th class=\"col_heading level1 col3\" >std</th>    </tr>    <tr>        <th class=\"index_name level0\" >tariff</th>        <th class=\"blank\" ></th>        <th class=\"blank\" ></th>        <th class=\"blank\" ></th>        <th class=\"blank\" ></th>    </tr></thead><tbody>\n",
       "                <tr>\n",
       "                        <th id=\"T_5cc215ce_098e_11eb_a7d9_d0817aa69c6alevel0_row0\" class=\"row_heading level0 row0\" >smart</th>\n",
       "                        <td id=\"T_5cc215ce_098e_11eb_a7d9_d0817aa69c6arow0_col0\" class=\"data row0 col0\" >16515.84</td>\n",
       "                        <td id=\"T_5cc215ce_098e_11eb_a7d9_d0817aa69c6arow0_col1\" class=\"data row0 col1\" >16216.38</td>\n",
       "                        <td id=\"T_5cc215ce_098e_11eb_a7d9_d0817aa69c6arow0_col2\" class=\"data row0 col2\" >34488542.99</td>\n",
       "                        <td id=\"T_5cc215ce_098e_11eb_a7d9_d0817aa69c6arow0_col3\" class=\"data row0 col3\" >5872.69</td>\n",
       "            </tr>\n",
       "            <tr>\n",
       "                        <th id=\"T_5cc215ce_098e_11eb_a7d9_d0817aa69c6alevel0_row1\" class=\"row_heading level0 row1\" >ultra</th>\n",
       "                        <td id=\"T_5cc215ce_098e_11eb_a7d9_d0817aa69c6arow1_col0\" class=\"data row1 col0\" >19308.01</td>\n",
       "                        <td id=\"T_5cc215ce_098e_11eb_a7d9_d0817aa69c6arow1_col1\" class=\"data row1 col1\" >19470.61</td>\n",
       "                        <td id=\"T_5cc215ce_098e_11eb_a7d9_d0817aa69c6arow1_col2\" class=\"data row1 col2\" >101766958.64</td>\n",
       "                        <td id=\"T_5cc215ce_098e_11eb_a7d9_d0817aa69c6arow1_col3\" class=\"data row1 col3\" >10087.96</td>\n",
       "            </tr>\n",
       "    </tbody></table>"
      ],
      "text/plain": [
       "<pandas.io.formats.style.Styler at 0x7ff723a1cd00>"
      ]
     },
     "execution_count": 392,
     "metadata": {},
     "output_type": "execute_result"
    }
   ],
   "source": [
    "df.groupby('tariff')\\\n",
    "  .agg({'mb_total_in_month':['median','mean','var','std']})\\\n",
    "  .style.format(\"{:.2f}\")"
   ]
  },
  {
   "cell_type": "markdown",
   "metadata": {},
   "source": [
    "Вывод:\n",
    "- пользователи, использующие смарт выходят за грань тарифа, примерно на 1.6 Гб, в то время как те, кто используют тарифный план ультра имеют запас в 10 Гб ежемесячно;"
   ]
  },
  {
   "cell_type": "code",
   "execution_count": 396,
   "metadata": {},
   "outputs": [
    {
     "data": {
      "image/png": "[encoded data removed]",
      "text/plain": [
       "<Figure size 864x432 with 1 Axes>"
      ]
     },
     "metadata": {},
     "output_type": "display_data"
    }
   ],
   "source": [
    "sns.lineplot(x='month', y='mess_total_in_month',\n",
    "             hue='tariff', data=df)\n",
    "plt.title('Количество отправленных СМС в месяц, в зависимости от тарифа')\n",
    "plt.show()"
   ]
  },
  {
   "cell_type": "code",
   "execution_count": 397,
   "metadata": {},
   "outputs": [
    {
     "data": {
      "text/html": [
       "<style  type=\"text/css\" >\n",
       "</style><table id=\"T_f911e56c_098e_11eb_a7d9_d0817aa69c6a\" ><thead>    <tr>        <th class=\"blank level0\" ></th>        <th class=\"col_heading level0 col0\" colspan=4>mess_total_in_month</th>    </tr>    <tr>        <th class=\"blank level1\" ></th>        <th class=\"col_heading level1 col0\" >median</th>        <th class=\"col_heading level1 col1\" >mean</th>        <th class=\"col_heading level1 col2\" >var</th>        <th class=\"col_heading level1 col3\" >std</th>    </tr>    <tr>        <th class=\"index_name level0\" >tariff</th>        <th class=\"blank\" ></th>        <th class=\"blank\" ></th>        <th class=\"blank\" ></th>        <th class=\"blank\" ></th>    </tr></thead><tbody>\n",
       "                <tr>\n",
       "                        <th id=\"T_f911e56c_098e_11eb_a7d9_d0817aa69c6alevel0_row0\" class=\"row_heading level0 row0\" >smart</th>\n",
       "                        <td id=\"T_f911e56c_098e_11eb_a7d9_d0817aa69c6arow0_col0\" class=\"data row0 col0\" >28.00</td>\n",
       "                        <td id=\"T_f911e56c_098e_11eb_a7d9_d0817aa69c6arow0_col1\" class=\"data row0 col1\" >33.38</td>\n",
       "                        <td id=\"T_f911e56c_098e_11eb_a7d9_d0817aa69c6arow0_col2\" class=\"data row0 col2\" >796.81</td>\n",
       "                        <td id=\"T_f911e56c_098e_11eb_a7d9_d0817aa69c6arow0_col3\" class=\"data row0 col3\" >28.23</td>\n",
       "            </tr>\n",
       "            <tr>\n",
       "                        <th id=\"T_f911e56c_098e_11eb_a7d9_d0817aa69c6alevel0_row1\" class=\"row_heading level0 row1\" >ultra</th>\n",
       "                        <td id=\"T_f911e56c_098e_11eb_a7d9_d0817aa69c6arow1_col0\" class=\"data row1 col0\" >38.00</td>\n",
       "                        <td id=\"T_f911e56c_098e_11eb_a7d9_d0817aa69c6arow1_col1\" class=\"data row1 col1\" >49.36</td>\n",
       "                        <td id=\"T_f911e56c_098e_11eb_a7d9_d0817aa69c6arow1_col2\" class=\"data row1 col2\" >2285.27</td>\n",
       "                        <td id=\"T_f911e56c_098e_11eb_a7d9_d0817aa69c6arow1_col3\" class=\"data row1 col3\" >47.80</td>\n",
       "            </tr>\n",
       "    </tbody></table>"
      ],
      "text/plain": [
       "<pandas.io.formats.style.Styler at 0x7ff72a011220>"
      ]
     },
     "execution_count": 397,
     "metadata": {},
     "output_type": "execute_result"
    }
   ],
   "source": [
    "df.groupby('tariff')\\\n",
    "  .agg({'mess_total_in_month':['median','mean','var','std']})\\\n",
    "  .style.format(\"{:.2f}\")"
   ]
  },
  {
   "cell_type": "markdown",
   "metadata": {},
   "source": [
    "Вывод:\n",
    "- пользователи обоих тарифов не особо пользуются смс сообщениями"
   ]
  },
  {
   "cell_type": "markdown",
   "metadata": {},
   "source": [
    "### Cредняя выручка пользователей тарифов «Ультра» и «Смарт» различаются"
   ]
  },
  {
   "cell_type": "markdown",
   "metadata": {},
   "source": [
    "Сформулируем гипотезы:\n",
    "- H0: выручка пользователей тарифов «Ультра» и «Смарт» не различается\n",
    "- H1: выручка пользователей тарифов «Ультра» и «Смарт» различается"
   ]
  },
  {
   "cell_type": "markdown",
   "metadata": {},
   "source": [
    "Перед тем, как применять тот или иной статистический метод, нам необходимо дать характеристику нашим данным. Например, чтобы использовать t критерий Стьюдента, данные должны подходить под следующие условия:\n",
    "- данные должны иметь нормальное распределение (будем проверять, используя критерий Андерсона - Дарлинга);\n",
    "- дисперсии в наших выборках должны быть гомогенны (будем проверять, используя критерий Бартлета);"
   ]
  },
  {
   "cell_type": "markdown",
   "metadata": {},
   "source": [
    "### Проверяем распределения на нормальность"
   ]
  },
  {
   "cell_type": "markdown",
   "metadata": {},
   "source": [
    "Сформулируем гипотезы:\n",
    "- H0: закон распределения является нормальным\n",
    "- H1: закон распределения не является нормальным"
   ]
  },
  {
   "cell_type": "code",
   "execution_count": 445,
   "metadata": {},
   "outputs": [],
   "source": [
    "ultra = df[df['tariff']=='ultra']\n",
    "smart = df[df['tariff']=='smart']"
   ]
  },
  {
   "cell_type": "code",
   "execution_count": 452,
   "metadata": {},
   "outputs": [],
   "source": [
    "alpha = 0.05"
   ]
  },
  {
   "cell_type": "code",
   "execution_count": 480,
   "metadata": {},
   "outputs": [],
   "source": [
    "ultra_distr = st.anderson(ultra.total_paid)"
   ]
  },
  {
   "cell_type": "code",
   "execution_count": 516,
   "metadata": {},
   "outputs": [
    {
     "name": "stdout",
     "output_type": "stream",
     "text": [
      "p-значение: 0.0\n",
      "Применить гипотезу о нормальности\n"
     ]
    }
   ],
   "source": [
    "print(f'p-значение: {ultra_distr[1]}')\n",
    "\n",
    "if (ultra_distr[1] < alpha):\n",
    "    print(\"Применить гипотезу о нормальности\")\n",
    "else:\n",
    "    print(\"Отклонить гипотезу о нормальности\")"
   ]
  },
  {
   "cell_type": "code",
   "execution_count": 494,
   "metadata": {},
   "outputs": [],
   "source": [
    "smart_distr = st.anderson(smart.total_paid)"
   ]
  },
  {
   "cell_type": "code",
   "execution_count": 499,
   "metadata": {},
   "outputs": [
    {
     "name": "stdout",
     "output_type": "stream",
     "text": [
      "p-значение: [0.575 0.655 0.786 0.916 1.09 ]\n",
      "Отклонить гипотезу о нормальности\n",
      "Отклонить гипотезу о нормальности\n",
      "Отклонить гипотезу о нормальности\n",
      "Отклонить гипотезу о нормальности\n",
      "Отклонить гипотезу о нормальности\n"
     ]
    }
   ],
   "source": [
    "print(f'p-значение: {smart_distr[1]}')\n",
    "for i in smart_distr[1]:\n",
    "    if (i < alpha):\n",
    "        print(\"Применить гипотезу о нормальности\")\n",
    "    else:\n",
    "        print(\"Отклонить гипотезу о нормальности\")"
   ]
  },
  {
   "cell_type": "markdown",
   "metadata": {},
   "source": [
    "Вывод:\n",
    "- так как распределения выборок отличаются от нормального, то параметрический тест мы применить не можем. Для его применения необходимо привести выборки к нормальному распределению, либо применить непараметрический критерий (воспользуемся вторым случаем и применим непараметрический критерий Манна - Уитни"
   ]
  },
  {
   "cell_type": "code",
   "execution_count": 505,
   "metadata": {},
   "outputs": [],
   "source": [
    "t_mannwhitneyu = st.mannwhitneyu(smart.total_paid, ultra.total_paid)"
   ]
  },
  {
   "cell_type": "code",
   "execution_count": 525,
   "metadata": {},
   "outputs": [
    {
     "name": "stdout",
     "output_type": "stream",
     "text": [
      "p-значение: 2.71835514382168e-237\n",
      "Отклонить H0\n"
     ]
    }
   ],
   "source": [
    "print(f'p-значение: {t_mannwhitneyu[1]}')\n",
    "\n",
    "if (t_mannwhitneyu[1] < alpha):\n",
    "    print(\"Отклонить H0\")\n",
    "else:\n",
    "    print(\"Применить H0\")"
   ]
  },
  {
   "cell_type": "markdown",
   "metadata": {},
   "source": [
    "Вывод:\n",
    "- Разница не случайна, есть значимые различия между выборками"
   ]
  },
  {
   "cell_type": "markdown",
   "metadata": {},
   "source": [
    "### Средняя выручка пользователей из Москвы отличается от выручки пользователей из других регионов"
   ]
  },
  {
   "cell_type": "markdown",
   "metadata": {},
   "source": [
    "Сформулируем гипотезы:\n",
    "- H0: средняя выручка пользователей из Москвы не отличается от выручки пользователей из других регионов\n",
    "- H1: средняя выручка пользователей из Москвы отличается от выручки пользователей из других регионов"
   ]
  },
  {
   "cell_type": "code",
   "execution_count": 510,
   "metadata": {},
   "outputs": [],
   "source": [
    "moscow = df[df['city']== 'Москва']"
   ]
  },
  {
   "cell_type": "code",
   "execution_count": 511,
   "metadata": {},
   "outputs": [],
   "source": [
    "regions = df[df['city']!='Москва']"
   ]
  },
  {
   "cell_type": "markdown",
   "metadata": {},
   "source": [
    "### Проверяем распределения на нормальность"
   ]
  },
  {
   "cell_type": "markdown",
   "metadata": {},
   "source": [
    "Сформулируем гипотезы:\n",
    "- H0: закон распределения является нормальным\n",
    "- H1: закон распределения не является нормальным"
   ]
  },
  {
   "cell_type": "code",
   "execution_count": 514,
   "metadata": {},
   "outputs": [],
   "source": [
    "moscow_distr = st.anderson(moscow.total_paid)"
   ]
  },
  {
   "cell_type": "code",
   "execution_count": 517,
   "metadata": {},
   "outputs": [
    {
     "name": "stdout",
     "output_type": "stream",
     "text": [
      "p-значение: [0.572 0.652 0.782 0.912 1.085]\n",
      "Отклонить гипотезу о нормальности\n",
      "Отклонить гипотезу о нормальности\n",
      "Отклонить гипотезу о нормальности\n",
      "Отклонить гипотезу о нормальности\n",
      "Отклонить гипотезу о нормальности\n"
     ]
    }
   ],
   "source": [
    "print(f'p-значение: {moscow_distr[1]}')\n",
    "\n",
    "for i in moscow_distr[1]:\n",
    "    if (i < alpha):\n",
    "        print(\"Применить гипотезу о нормальности\")\n",
    "    else:\n",
    "        print(\"Отклонить гипотезу о нормальности\")"
   ]
  },
  {
   "cell_type": "code",
   "execution_count": 518,
   "metadata": {},
   "outputs": [],
   "source": [
    "regions_distr = st.anderson(regions.total_paid)"
   ]
  },
  {
   "cell_type": "code",
   "execution_count": 519,
   "metadata": {},
   "outputs": [
    {
     "name": "stdout",
     "output_type": "stream",
     "text": [
      "p-значение: [0.575 0.655 0.786 0.917 1.09 ]\n",
      "Отклонить гипотезу о нормальности\n",
      "Отклонить гипотезу о нормальности\n",
      "Отклонить гипотезу о нормальности\n",
      "Отклонить гипотезу о нормальности\n",
      "Отклонить гипотезу о нормальности\n"
     ]
    }
   ],
   "source": [
    "print(f'p-значение: {regions_distr[1]}')\n",
    "\n",
    "for i in regions_distr[1]:\n",
    "    if (i < alpha):\n",
    "        print(\"Применить гипотезу о нормальности\")\n",
    "    else:\n",
    "        print(\"Отклонить гипотезу о нормальности\")"
   ]
  },
  {
   "cell_type": "code",
   "execution_count": 523,
   "metadata": {},
   "outputs": [],
   "source": [
    "t_mannwhitneyu_2 = st.mannwhitneyu(moscow.total_paid, regions.total_paid)"
   ]
  },
  {
   "cell_type": "code",
   "execution_count": 526,
   "metadata": {},
   "outputs": [
    {
     "name": "stdout",
     "output_type": "stream",
     "text": [
      "p-значение: 0.10998626567772124\n",
      "Применить H0\n"
     ]
    }
   ],
   "source": [
    "print(f'p-значение: {t_mannwhitneyu_2[1]}')\n",
    "\n",
    "if (t_mannwhitneyu_2[1] < alpha):\n",
    "    print(\"Отклонить H0\")\n",
    "else:\n",
    "    print(\"Применить H0\")"
   ]
  },
  {
   "cell_type": "markdown",
   "metadata": {},
   "source": [
    "Вывод:\n",
    "- с вероятностью в 10% такой результат может быть получен случайно. Значимых различий нет."
   ]
  },
  {
   "cell_type": "markdown",
   "metadata": {},
   "source": [
    "### Общий вывод:"
   ]
  },
  {
   "cell_type": "markdown",
   "metadata": {},
   "source": [
    "- пользователи чаще всего пользуются связью в декабре (это отражается как на потраченных минутах, так и на использовании интернет трафика). Реже всего январь - февраль (как вариант на первый квартал года определить новые акции по пользованию сотовой связью и пользователям, кто реже всего использует сотовую связь направлять пуш-уведомления об этих акциях (напоминать о себе));\n",
    "- пользователи тарифа \"Смарт\" чаще выходят за предоставленный лимит, а это соотвественно переплата, что в свою очередь может привести к оттоку пользователей.\n",
    "- города-регионы, которые являются лидерами по количеству израсходованных минут в обоих тарифах (в расчет берутся города с населением более 500 тысяч и менее 1 млн человек):\n",
    "   - Пенза, Набережные Челны\n",
    "- города-регионы, которые реже остальных пользовались звонками в обоих тарифах (в расчет берутся города с населением более 500 тысяч и менее 1 млн человек):\n",
    "   - Кемерово, Липецк, Чебоксары\n",
    "- города-регионы, которые являются лидерами по количеству отправленных сообщений в обоих тарифах (в расчет берутся города с населением более 500 тысяч и менее 1 млн человек):\n",
    "   - Набережные Челны, Иркутск \n",
    "- города-регионы, которые реже остальных отправляли сообщения в обоих тарифах (в расчет берутся города с населением более 500 тысяч и менее 1 млн человек):\n",
    "   - Хабаровск, Тула, Барнаул, Севастополь\n",
    "- города-регионы, которые являются лидерами по использованию интернет-трафика сообщений в обоих тарифах (в расчет берутся города с населением более 500 тысяч и менее 1 млн человек):\n",
    "   - города-миллионики, видимо это связано с тем, что в административных центрах своих регионов хорошее интернет-покрытие и пользователи активно пользуются им \n",
    "- города-регионы, которые реже остальных пользуются интернет-трафика в обоих тарифах (в расчет берутся города с населением более 500 тысяч и менее 1 млн человек):\n",
    "   - Липецк, Кемерово\n",
    "В соотвествии с выше сказанным хотелось бы сделать заключение о необходимости внесения изменений в сотовые сети Кемеровской области (низкие показатели по количеству смс и интернет-трафику, в том числе на Привольже России (Липецкая, Тульская области)\n",
    "- тарифы приносят разную вырочку, различия в статистической значимости есть."
   ]
  },
  {
   "cell_type": "code",
   "execution_count": null,
   "metadata": {},
   "outputs": [],
   "source": []
  }
 ],
 "metadata": {
  "kernelspec": {
   "display_name": "Python 3",
   "language": "python",
   "name": "python3"
  },
  "language_info": {
   "codemirror_mode": {
    "name": "ipython",
    "version": 3
   },
   "file_extension": ".py",
   "mimetype": "text/x-python",
   "name": "python",
   "nbconvert_exporter": "python",
   "pygments_lexer": "ipython3",
   "version": "3.8.1"
  }
 },
 "nbformat": 4,
 "nbformat_minor": 4
}
