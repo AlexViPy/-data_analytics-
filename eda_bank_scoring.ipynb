{
 "cells": [
  {
   "cell_type": "markdown",
   "metadata": {},
   "source": [
    "Задачи исследования\n",
    "1. Осмотр данных\n",
    "   - посмотрим начало и конец датасета\n",
    "   - сделаем предварительные выводы\n",
    "   - поищем аномалии\n",
    "\n",
    "\n",
    "2. Обработка данных\n",
    "   - найти и обработать пропуски\n",
    "   - заменить некорректные типы данных\n",
    "   - удалить дубликаты\n",
    "   - выделить леммы\n",
    "\n",
    "\n",
    "3. Ответы на вопросы\n",
    "   - Есть ли зависимость между наличием детей и возвратом кредита в срок?\n",
    "   - Есть ли зависимость между семейным положением и возвратом кредита в срок?\n",
    "   - Есть ли зависимость между уровнем дохода и возвратом кредита в срок?\n",
    "   - Как разные цели кредита влияют на его возврат в срок?\n",
    "\n",
    "\n",
    "4. Результаты исследования\n",
    "   - Общие выводы\n",
    "   - Рекомендации"
   ]
  },
  {
   "cell_type": "markdown",
   "metadata": {},
   "source": [
    "Признаки:\n",
    "- children - количество детей у заемщика\n",
    "- days_employed - кличество дней стажа\n",
    "- dob_years - количестов лет заемщику\n",
    "- education_id - образование\n",
    "- family_status - наличие брака\n",
    "- family_status_id - налибие брака\n",
    "- gender - пол\n",
    "- income_type - рабочий статус\n",
    "- debt - имел ли задолжность по возврату кредита\n",
    "- total_income - месячный доход заемщика\n",
    "- purpose - причина приобретения кредита"
   ]
  },
  {
   "cell_type": "code",
   "execution_count": 262,
   "metadata": {},
   "outputs": [],
   "source": [
    "import pandas as pd\n",
    "import numpy as np\n",
    "import seaborn as sns\n",
    "import matplotlib.pyplot as plt\n",
    "%matplotlib inline\n",
    "plt.rcParams['figure.figsize'] = (12,8)"
   ]
  },
  {
   "cell_type": "code",
   "execution_count": 263,
   "metadata": {},
   "outputs": [
    {
     "data": {
      "text/html": [
       "<div>\n",
       "<style scoped>\n",
       "    .dataframe tbody tr th:only-of-type {\n",
       "        vertical-align: middle;\n",
       "    }\n",
       "\n",
       "    .dataframe tbody tr th {\n",
       "        vertical-align: top;\n",
       "    }\n",
       "\n",
       "    .dataframe thead th {\n",
       "        text-align: right;\n",
       "    }\n",
       "</style>\n",
       "<table border=\"1\" class=\"dataframe\">\n",
       "  <thead>\n",
       "    <tr style=\"text-align: right;\">\n",
       "      <th></th>\n",
       "      <th>children</th>\n",
       "      <th>days_employed</th>\n",
       "      <th>dob_years</th>\n",
       "      <th>education</th>\n",
       "      <th>education_id</th>\n",
       "      <th>family_status</th>\n",
       "      <th>family_status_id</th>\n",
       "      <th>gender</th>\n",
       "      <th>income_type</th>\n",
       "      <th>debt</th>\n",
       "      <th>total_income</th>\n",
       "      <th>purpose</th>\n",
       "    </tr>\n",
       "  </thead>\n",
       "  <tbody>\n",
       "    <tr>\n",
       "      <th>5061</th>\n",
       "      <td>2</td>\n",
       "      <td>-1374.398893</td>\n",
       "      <td>47</td>\n",
       "      <td>высшее</td>\n",
       "      <td>0</td>\n",
       "      <td>женат / замужем</td>\n",
       "      <td>0</td>\n",
       "      <td>F</td>\n",
       "      <td>сотрудник</td>\n",
       "      <td>0</td>\n",
       "      <td>37645.460469</td>\n",
       "      <td>заняться образованием</td>\n",
       "    </tr>\n",
       "    <tr>\n",
       "      <th>7128</th>\n",
       "      <td>0</td>\n",
       "      <td>354446.489307</td>\n",
       "      <td>53</td>\n",
       "      <td>среднее</td>\n",
       "      <td>1</td>\n",
       "      <td>гражданский брак</td>\n",
       "      <td>1</td>\n",
       "      <td>F</td>\n",
       "      <td>пенсионер</td>\n",
       "      <td>0</td>\n",
       "      <td>88811.582459</td>\n",
       "      <td>сделка с автомобилем</td>\n",
       "    </tr>\n",
       "    <tr>\n",
       "      <th>11585</th>\n",
       "      <td>1</td>\n",
       "      <td>-535.730705</td>\n",
       "      <td>45</td>\n",
       "      <td>среднее</td>\n",
       "      <td>1</td>\n",
       "      <td>женат / замужем</td>\n",
       "      <td>0</td>\n",
       "      <td>M</td>\n",
       "      <td>сотрудник</td>\n",
       "      <td>0</td>\n",
       "      <td>147661.772011</td>\n",
       "      <td>на покупку подержанного автомобиля</td>\n",
       "    </tr>\n",
       "    <tr>\n",
       "      <th>3197</th>\n",
       "      <td>0</td>\n",
       "      <td>-1598.597777</td>\n",
       "      <td>54</td>\n",
       "      <td>среднее</td>\n",
       "      <td>1</td>\n",
       "      <td>женат / замужем</td>\n",
       "      <td>0</td>\n",
       "      <td>M</td>\n",
       "      <td>компаньон</td>\n",
       "      <td>0</td>\n",
       "      <td>194892.625261</td>\n",
       "      <td>покупка жилья</td>\n",
       "    </tr>\n",
       "    <tr>\n",
       "      <th>1642</th>\n",
       "      <td>2</td>\n",
       "      <td>NaN</td>\n",
       "      <td>56</td>\n",
       "      <td>высшее</td>\n",
       "      <td>0</td>\n",
       "      <td>Не женат / не замужем</td>\n",
       "      <td>4</td>\n",
       "      <td>F</td>\n",
       "      <td>сотрудник</td>\n",
       "      <td>0</td>\n",
       "      <td>NaN</td>\n",
       "      <td>покупка жилой недвижимости</td>\n",
       "    </tr>\n",
       "  </tbody>\n",
       "</table>\n",
       "</div>"
      ],
      "text/plain": [
       "       children  days_employed  dob_years education  education_id  \\\n",
       "5061          2   -1374.398893         47    высшее             0   \n",
       "7128          0  354446.489307         53   среднее             1   \n",
       "11585         1    -535.730705         45   среднее             1   \n",
       "3197          0   -1598.597777         54   среднее             1   \n",
       "1642          2            NaN         56    высшее             0   \n",
       "\n",
       "               family_status  family_status_id gender income_type  debt  \\\n",
       "5061         женат / замужем                 0      F   сотрудник     0   \n",
       "7128        гражданский брак                 1      F   пенсионер     0   \n",
       "11585        женат / замужем                 0      M   сотрудник     0   \n",
       "3197         женат / замужем                 0      M   компаньон     0   \n",
       "1642   Не женат / не замужем                 4      F   сотрудник     0   \n",
       "\n",
       "        total_income                             purpose  \n",
       "5061    37645.460469               заняться образованием  \n",
       "7128    88811.582459                сделка с автомобилем  \n",
       "11585  147661.772011  на покупку подержанного автомобиля  \n",
       "3197   194892.625261                       покупка жилья  \n",
       "1642             NaN          покупка жилой недвижимости  "
      ]
     },
     "execution_count": 263,
     "metadata": {},
     "output_type": "execute_result"
    }
   ],
   "source": [
    "df = pd.read_csv('preprocessing_project.csv')\n",
    "df.sample(5)"
   ]
  },
  {
   "cell_type": "code",
   "execution_count": 264,
   "metadata": {},
   "outputs": [
    {
     "name": "stdout",
     "output_type": "stream",
     "text": [
      "<class 'pandas.core.frame.DataFrame'>\n",
      "RangeIndex: 21525 entries, 0 to 21524\n",
      "Data columns (total 12 columns):\n",
      " #   Column            Non-Null Count  Dtype  \n",
      "---  ------            --------------  -----  \n",
      " 0   children          21525 non-null  int64  \n",
      " 1   days_employed     19351 non-null  float64\n",
      " 2   dob_years         21525 non-null  int64  \n",
      " 3   education         21525 non-null  object \n",
      " 4   education_id      21525 non-null  int64  \n",
      " 5   family_status     21525 non-null  object \n",
      " 6   family_status_id  21525 non-null  int64  \n",
      " 7   gender            21525 non-null  object \n",
      " 8   income_type       21525 non-null  object \n",
      " 9   debt              21525 non-null  int64  \n",
      " 10  total_income      19351 non-null  float64\n",
      " 11  purpose           21525 non-null  object \n",
      "dtypes: float64(2), int64(5), object(5)\n",
      "memory usage: 2.0+ MB\n"
     ]
    }
   ],
   "source": [
    "df.info()"
   ]
  },
  {
   "cell_type": "code",
   "execution_count": 265,
   "metadata": {},
   "outputs": [
    {
     "data": {
      "text/plain": [
       "children               0\n",
       "days_employed       2174\n",
       "dob_years              0\n",
       "education              0\n",
       "education_id           0\n",
       "family_status          0\n",
       "family_status_id       0\n",
       "gender                 0\n",
       "income_type            0\n",
       "debt                   0\n",
       "total_income        2174\n",
       "purpose                0\n",
       "dtype: int64"
      ]
     },
     "execution_count": 265,
     "metadata": {},
     "output_type": "execute_result"
    }
   ],
   "source": [
    "df.isnull().sum()"
   ]
  },
  {
   "cell_type": "code",
   "execution_count": 266,
   "metadata": {},
   "outputs": [
    {
     "data": {
      "text/plain": [
       "54"
      ]
     },
     "execution_count": 266,
     "metadata": {},
     "output_type": "execute_result"
    }
   ],
   "source": [
    "df.duplicated().sum()"
   ]
  },
  {
   "cell_type": "code",
   "execution_count": 267,
   "metadata": {},
   "outputs": [
    {
     "data": {
      "text/html": [
       "<div>\n",
       "<style scoped>\n",
       "    .dataframe tbody tr th:only-of-type {\n",
       "        vertical-align: middle;\n",
       "    }\n",
       "\n",
       "    .dataframe tbody tr th {\n",
       "        vertical-align: top;\n",
       "    }\n",
       "\n",
       "    .dataframe thead th {\n",
       "        text-align: right;\n",
       "    }\n",
       "</style>\n",
       "<table border=\"1\" class=\"dataframe\">\n",
       "  <thead>\n",
       "    <tr style=\"text-align: right;\">\n",
       "      <th></th>\n",
       "      <th>children</th>\n",
       "      <th>days_employed</th>\n",
       "      <th>dob_years</th>\n",
       "      <th>education_id</th>\n",
       "      <th>family_status_id</th>\n",
       "      <th>debt</th>\n",
       "      <th>total_income</th>\n",
       "    </tr>\n",
       "  </thead>\n",
       "  <tbody>\n",
       "    <tr>\n",
       "      <th>count</th>\n",
       "      <td>21525.000000</td>\n",
       "      <td>19351.000000</td>\n",
       "      <td>21525.000000</td>\n",
       "      <td>21525.000000</td>\n",
       "      <td>21525.000000</td>\n",
       "      <td>21525.000000</td>\n",
       "      <td>1.935100e+04</td>\n",
       "    </tr>\n",
       "    <tr>\n",
       "      <th>mean</th>\n",
       "      <td>0.538908</td>\n",
       "      <td>63046.497661</td>\n",
       "      <td>43.293380</td>\n",
       "      <td>0.817236</td>\n",
       "      <td>0.972544</td>\n",
       "      <td>0.080883</td>\n",
       "      <td>1.674223e+05</td>\n",
       "    </tr>\n",
       "    <tr>\n",
       "      <th>std</th>\n",
       "      <td>1.381587</td>\n",
       "      <td>140827.311974</td>\n",
       "      <td>12.574584</td>\n",
       "      <td>0.548138</td>\n",
       "      <td>1.420324</td>\n",
       "      <td>0.272661</td>\n",
       "      <td>1.029716e+05</td>\n",
       "    </tr>\n",
       "    <tr>\n",
       "      <th>min</th>\n",
       "      <td>-1.000000</td>\n",
       "      <td>-18388.949901</td>\n",
       "      <td>0.000000</td>\n",
       "      <td>0.000000</td>\n",
       "      <td>0.000000</td>\n",
       "      <td>0.000000</td>\n",
       "      <td>2.066726e+04</td>\n",
       "    </tr>\n",
       "    <tr>\n",
       "      <th>25%</th>\n",
       "      <td>0.000000</td>\n",
       "      <td>-2747.423625</td>\n",
       "      <td>33.000000</td>\n",
       "      <td>1.000000</td>\n",
       "      <td>0.000000</td>\n",
       "      <td>0.000000</td>\n",
       "      <td>1.030532e+05</td>\n",
       "    </tr>\n",
       "    <tr>\n",
       "      <th>50%</th>\n",
       "      <td>0.000000</td>\n",
       "      <td>-1203.369529</td>\n",
       "      <td>42.000000</td>\n",
       "      <td>1.000000</td>\n",
       "      <td>0.000000</td>\n",
       "      <td>0.000000</td>\n",
       "      <td>1.450179e+05</td>\n",
       "    </tr>\n",
       "    <tr>\n",
       "      <th>75%</th>\n",
       "      <td>1.000000</td>\n",
       "      <td>-291.095954</td>\n",
       "      <td>53.000000</td>\n",
       "      <td>1.000000</td>\n",
       "      <td>1.000000</td>\n",
       "      <td>0.000000</td>\n",
       "      <td>2.034351e+05</td>\n",
       "    </tr>\n",
       "    <tr>\n",
       "      <th>max</th>\n",
       "      <td>20.000000</td>\n",
       "      <td>401755.400475</td>\n",
       "      <td>75.000000</td>\n",
       "      <td>4.000000</td>\n",
       "      <td>4.000000</td>\n",
       "      <td>1.000000</td>\n",
       "      <td>2.265604e+06</td>\n",
       "    </tr>\n",
       "  </tbody>\n",
       "</table>\n",
       "</div>"
      ],
      "text/plain": [
       "           children  days_employed     dob_years  education_id  \\\n",
       "count  21525.000000   19351.000000  21525.000000  21525.000000   \n",
       "mean       0.538908   63046.497661     43.293380      0.817236   \n",
       "std        1.381587  140827.311974     12.574584      0.548138   \n",
       "min       -1.000000  -18388.949901      0.000000      0.000000   \n",
       "25%        0.000000   -2747.423625     33.000000      1.000000   \n",
       "50%        0.000000   -1203.369529     42.000000      1.000000   \n",
       "75%        1.000000    -291.095954     53.000000      1.000000   \n",
       "max       20.000000  401755.400475     75.000000      4.000000   \n",
       "\n",
       "       family_status_id          debt  total_income  \n",
       "count      21525.000000  21525.000000  1.935100e+04  \n",
       "mean           0.972544      0.080883  1.674223e+05  \n",
       "std            1.420324      0.272661  1.029716e+05  \n",
       "min            0.000000      0.000000  2.066726e+04  \n",
       "25%            0.000000      0.000000  1.030532e+05  \n",
       "50%            0.000000      0.000000  1.450179e+05  \n",
       "75%            1.000000      0.000000  2.034351e+05  \n",
       "max            4.000000      1.000000  2.265604e+06  "
      ]
     },
     "execution_count": 267,
     "metadata": {},
     "output_type": "execute_result"
    }
   ],
   "source": [
    "df.describe()"
   ]
  },
  {
   "cell_type": "markdown",
   "metadata": {},
   "source": [
    "Вывод:\n",
    "    - присутствуют пропущенные значения в признаках days_employes (стаж работы) и total_income (месячный доход заемщика), причем значение одинаково, может это связано с тем, что это молодые люди еще нигде не работавшие, либо работавшие, но не официально, либо некорректно выгруженные данные;\n",
    "    - присутсвуют дубликаты (54);\n",
    "    - в признаке children максимальное значение достигает 20 детей (сомнительно, что у кого-то заемщика есть 20 детей);\n",
    "    - минимальный возраст заемщиков 0 (еще не родился, а кредит уже приобрел);\n",
    "    - некорректный тип данных в дня стажа работы, необходимо будет изменить на целочисленный тип данных;\n",
    "    - различный регистр в строках признака education;\n",
    "    - присутствуют дублирующие признаки:\n",
    "       - education - education_id;\n",
    "       - family_status_id - family_status_id;\n",
    "       избавимся от идентификаторов;"
   ]
  },
  {
   "cell_type": "code",
   "execution_count": 268,
   "metadata": {},
   "outputs": [],
   "source": [
    "# удалим дублирующиеся признаки\n",
    "df = df.drop(['education_id', 'family_status_id'], axis=1)"
   ]
  },
  {
   "cell_type": "code",
   "execution_count": 269,
   "metadata": {},
   "outputs": [
    {
     "data": {
      "text/html": [
       "<div>\n",
       "<style scoped>\n",
       "    .dataframe tbody tr th:only-of-type {\n",
       "        vertical-align: middle;\n",
       "    }\n",
       "\n",
       "    .dataframe tbody tr th {\n",
       "        vertical-align: top;\n",
       "    }\n",
       "\n",
       "    .dataframe thead th {\n",
       "        text-align: right;\n",
       "    }\n",
       "</style>\n",
       "<table border=\"1\" class=\"dataframe\">\n",
       "  <thead>\n",
       "    <tr style=\"text-align: right;\">\n",
       "      <th></th>\n",
       "      <th>children</th>\n",
       "      <th>days_employed</th>\n",
       "      <th>dob_years</th>\n",
       "      <th>education</th>\n",
       "      <th>family_status</th>\n",
       "      <th>gender</th>\n",
       "      <th>income_type</th>\n",
       "      <th>debt</th>\n",
       "      <th>total_income</th>\n",
       "      <th>purpose</th>\n",
       "    </tr>\n",
       "  </thead>\n",
       "  <tbody>\n",
       "    <tr>\n",
       "      <th>2927</th>\n",
       "      <td>0</td>\n",
       "      <td>-190.960386</td>\n",
       "      <td>56</td>\n",
       "      <td>СРЕДНЕЕ</td>\n",
       "      <td>женат / замужем</td>\n",
       "      <td>M</td>\n",
       "      <td>сотрудник</td>\n",
       "      <td>0</td>\n",
       "      <td>202579.113117</td>\n",
       "      <td>покупка жилья для семьи</td>\n",
       "    </tr>\n",
       "    <tr>\n",
       "      <th>8687</th>\n",
       "      <td>0</td>\n",
       "      <td>-1642.163005</td>\n",
       "      <td>42</td>\n",
       "      <td>высшее</td>\n",
       "      <td>женат / замужем</td>\n",
       "      <td>M</td>\n",
       "      <td>компаньон</td>\n",
       "      <td>0</td>\n",
       "      <td>192470.271754</td>\n",
       "      <td>строительство недвижимости</td>\n",
       "    </tr>\n",
       "    <tr>\n",
       "      <th>10599</th>\n",
       "      <td>0</td>\n",
       "      <td>332430.791349</td>\n",
       "      <td>62</td>\n",
       "      <td>среднее</td>\n",
       "      <td>гражданский брак</td>\n",
       "      <td>F</td>\n",
       "      <td>пенсионер</td>\n",
       "      <td>0</td>\n",
       "      <td>56821.829337</td>\n",
       "      <td>свой автомобиль</td>\n",
       "    </tr>\n",
       "    <tr>\n",
       "      <th>5680</th>\n",
       "      <td>1</td>\n",
       "      <td>-600.176402</td>\n",
       "      <td>40</td>\n",
       "      <td>ВЫСШЕЕ</td>\n",
       "      <td>гражданский брак</td>\n",
       "      <td>F</td>\n",
       "      <td>компаньон</td>\n",
       "      <td>0</td>\n",
       "      <td>76249.101286</td>\n",
       "      <td>профильное образование</td>\n",
       "    </tr>\n",
       "    <tr>\n",
       "      <th>7512</th>\n",
       "      <td>0</td>\n",
       "      <td>357097.366281</td>\n",
       "      <td>57</td>\n",
       "      <td>Среднее</td>\n",
       "      <td>Не женат / не замужем</td>\n",
       "      <td>F</td>\n",
       "      <td>пенсионер</td>\n",
       "      <td>0</td>\n",
       "      <td>78957.667177</td>\n",
       "      <td>высшее образование</td>\n",
       "    </tr>\n",
       "  </tbody>\n",
       "</table>\n",
       "</div>"
      ],
      "text/plain": [
       "       children  days_employed  dob_years education          family_status  \\\n",
       "2927          0    -190.960386         56   СРЕДНЕЕ        женат / замужем   \n",
       "8687          0   -1642.163005         42    высшее        женат / замужем   \n",
       "10599         0  332430.791349         62   среднее       гражданский брак   \n",
       "5680          1    -600.176402         40    ВЫСШЕЕ       гражданский брак   \n",
       "7512          0  357097.366281         57   Среднее  Не женат / не замужем   \n",
       "\n",
       "      gender income_type  debt   total_income                     purpose  \n",
       "2927       M   сотрудник     0  202579.113117     покупка жилья для семьи  \n",
       "8687       M   компаньон     0  192470.271754  строительство недвижимости  \n",
       "10599      F   пенсионер     0   56821.829337             свой автомобиль  \n",
       "5680       F   компаньон     0   76249.101286      профильное образование  \n",
       "7512       F   пенсионер     0   78957.667177          высшее образование  "
      ]
     },
     "execution_count": 269,
     "metadata": {},
     "output_type": "execute_result"
    }
   ],
   "source": [
    "df.sample(5)"
   ]
  },
  {
   "cell_type": "code",
   "execution_count": 270,
   "metadata": {},
   "outputs": [],
   "source": [
    "# заменим пропущенные значения, \n",
    "# так как не ясна причина некорректности данных (на дальнейший анализ это повлиять не должно)\n",
    "df['days_employed'] = df['days_employed'].fillna(0)"
   ]
  },
  {
   "cell_type": "code",
   "execution_count": 271,
   "metadata": {},
   "outputs": [],
   "source": [
    "df['total_income'] = df['total_income'].fillna(0)"
   ]
  },
  {
   "cell_type": "code",
   "execution_count": 272,
   "metadata": {},
   "outputs": [
    {
     "data": {
      "text/plain": [
       "children         0\n",
       "days_employed    0\n",
       "dob_years        0\n",
       "education        0\n",
       "family_status    0\n",
       "gender           0\n",
       "income_type      0\n",
       "debt             0\n",
       "total_income     0\n",
       "purpose          0\n",
       "dtype: int64"
      ]
     },
     "execution_count": 272,
     "metadata": {},
     "output_type": "execute_result"
    }
   ],
   "source": [
    "df.isnull().sum()"
   ]
  },
  {
   "cell_type": "code",
   "execution_count": 273,
   "metadata": {},
   "outputs": [],
   "source": [
    "# дублирующиеся значения это явно сбой при валидации данных на сервере, поэтому просто их удалим\n",
    "# данные могут быть идентичными по тем или иным признакам, но иметь разный идентификатор\n",
    "df = df.drop_duplicates().reset_index(drop=True)"
   ]
  },
  {
   "cell_type": "code",
   "execution_count": 274,
   "metadata": {},
   "outputs": [
    {
     "data": {
      "text/plain": [
       "0"
      ]
     },
     "execution_count": 274,
     "metadata": {},
     "output_type": "execute_result"
    }
   ],
   "source": [
    "df.duplicated().sum()"
   ]
  },
  {
   "cell_type": "code",
   "execution_count": 275,
   "metadata": {},
   "outputs": [
    {
     "data": {
      "text/plain": [
       "array([ 1,  0,  3,  2, -1,  4, 20,  5])"
      ]
     },
     "execution_count": 275,
     "metadata": {},
     "output_type": "execute_result"
    }
   ],
   "source": [
    "# посмотрим на уникальные значения признака\n",
    "# -1 ребенок это опять-таки ошибка валидации данных, поменяем это значение на 1\n",
    "# 20 - скорее всего тоже ошибка при валидации или заполнении формы на получения кредита (хотели указать 2, но указали 20)\n",
    "df.children.unique()"
   ]
  },
  {
   "cell_type": "code",
   "execution_count": 276,
   "metadata": {},
   "outputs": [],
   "source": [
    "for el in df['children']:\n",
    "    if el == -1:\n",
    "        df['children'].replace(el, 1, inplace=True)"
   ]
  },
  {
   "cell_type": "code",
   "execution_count": 277,
   "metadata": {},
   "outputs": [
    {
     "data": {
      "text/plain": [
       "array([ 1,  0,  3,  2,  4, 20,  5])"
      ]
     },
     "execution_count": 277,
     "metadata": {},
     "output_type": "execute_result"
    }
   ],
   "source": [
    "df.children.unique()"
   ]
  },
  {
   "cell_type": "code",
   "execution_count": 278,
   "metadata": {},
   "outputs": [
    {
     "data": {
      "text/plain": [
       "0     14107\n",
       "1      4856\n",
       "2      2052\n",
       "3       330\n",
       "20       76\n",
       "4        41\n",
       "5         9\n",
       "Name: children, dtype: int64"
      ]
     },
     "execution_count": 278,
     "metadata": {},
     "output_type": "execute_result"
    }
   ],
   "source": [
    "# 20 детей, по нашим данным, имеют 76 человек и это явная ошибка (я поверил бы, если бы был 1-2, \n",
    "# конечно может быть и такое, что у банка существует какая-то льготная программа для лиц с количеством детей > 20,\n",
    "# но нет)\n",
    "# поэтому меняем значение 20 на 2\n",
    "df.children.value_counts()"
   ]
  },
  {
   "cell_type": "code",
   "execution_count": 279,
   "metadata": {},
   "outputs": [],
   "source": [
    "for el in df['children']:\n",
    "    if el == 20:\n",
    "        df['children'].replace(el, 2, inplace=True)"
   ]
  },
  {
   "cell_type": "code",
   "execution_count": 280,
   "metadata": {},
   "outputs": [
    {
     "data": {
      "text/plain": [
       "array([1, 0, 3, 2, 4, 5])"
      ]
     },
     "execution_count": 280,
     "metadata": {},
     "output_type": "execute_result"
    }
   ],
   "source": [
    "df.children.unique()"
   ]
  },
  {
   "cell_type": "code",
   "execution_count": 281,
   "metadata": {},
   "outputs": [],
   "source": [
    "# преобразуем отрицательные значения\n",
    "df['days_employed'] = df['days_employed'].abs()"
   ]
  },
  {
   "cell_type": "code",
   "execution_count": 282,
   "metadata": {},
   "outputs": [
    {
     "data": {
      "text/plain": [
       "20805"
      ]
     },
     "execution_count": 282,
     "metadata": {},
     "output_type": "execute_result"
    }
   ],
   "source": [
    "max_days_of_employment = (df['dob_years'].max() - 18) * 365\n",
    "max_days_of_employment # получим количество дней, по которым можно сделать отсев"
   ]
  },
  {
   "cell_type": "code",
   "execution_count": 283,
   "metadata": {},
   "outputs": [
    {
     "data": {
      "text/plain": [
       "16.044897769083878"
      ]
     },
     "execution_count": 283,
     "metadata": {},
     "output_type": "execute_result"
    }
   ],
   "source": [
    "count_max_days_of_employmen = df[df['days_employed'] > max_days_of_employment]['days_employed'].count()\n",
    "count_max_days_of_employmen/len(df)*100\n",
    "# Почти 16% значений это лица, у которых трудовой стаж превышает максимально возможный и это достаточно большой показатель"
   ]
  },
  {
   "cell_type": "code",
   "execution_count": 284,
   "metadata": {},
   "outputs": [],
   "source": [
    "df['years_employed'] = df['days_employed']/ 365\n",
    "df['years_employed'] = df['years_employed'].astype('int')"
   ]
  },
  {
   "cell_type": "code",
   "execution_count": 285,
   "metadata": {},
   "outputs": [],
   "source": [
    "df = df.drop(['days_employed'], axis=1)"
   ]
  },
  {
   "cell_type": "code",
   "execution_count": 286,
   "metadata": {},
   "outputs": [
    {
     "data": {
      "text/html": [
       "<div>\n",
       "<style scoped>\n",
       "    .dataframe tbody tr th:only-of-type {\n",
       "        vertical-align: middle;\n",
       "    }\n",
       "\n",
       "    .dataframe tbody tr th {\n",
       "        vertical-align: top;\n",
       "    }\n",
       "\n",
       "    .dataframe thead th {\n",
       "        text-align: right;\n",
       "    }\n",
       "</style>\n",
       "<table border=\"1\" class=\"dataframe\">\n",
       "  <thead>\n",
       "    <tr style=\"text-align: right;\">\n",
       "      <th></th>\n",
       "      <th>children</th>\n",
       "      <th>dob_years</th>\n",
       "      <th>education</th>\n",
       "      <th>family_status</th>\n",
       "      <th>gender</th>\n",
       "      <th>income_type</th>\n",
       "      <th>debt</th>\n",
       "      <th>total_income</th>\n",
       "      <th>purpose</th>\n",
       "      <th>years_employed</th>\n",
       "    </tr>\n",
       "  </thead>\n",
       "  <tbody>\n",
       "    <tr>\n",
       "      <th>2510</th>\n",
       "      <td>2</td>\n",
       "      <td>59</td>\n",
       "      <td>высшее</td>\n",
       "      <td>вдовец / вдова</td>\n",
       "      <td>F</td>\n",
       "      <td>сотрудник</td>\n",
       "      <td>0</td>\n",
       "      <td>264474.835577</td>\n",
       "      <td>операции с коммерческой недвижимостью</td>\n",
       "      <td>7</td>\n",
       "    </tr>\n",
       "    <tr>\n",
       "      <th>2053</th>\n",
       "      <td>1</td>\n",
       "      <td>59</td>\n",
       "      <td>среднее</td>\n",
       "      <td>женат / замужем</td>\n",
       "      <td>M</td>\n",
       "      <td>сотрудник</td>\n",
       "      <td>0</td>\n",
       "      <td>168242.453293</td>\n",
       "      <td>сделка с подержанным автомобилем</td>\n",
       "      <td>3</td>\n",
       "    </tr>\n",
       "    <tr>\n",
       "      <th>14801</th>\n",
       "      <td>1</td>\n",
       "      <td>29</td>\n",
       "      <td>ВЫСШЕЕ</td>\n",
       "      <td>женат / замужем</td>\n",
       "      <td>F</td>\n",
       "      <td>компаньон</td>\n",
       "      <td>0</td>\n",
       "      <td>143176.590048</td>\n",
       "      <td>автомобиль</td>\n",
       "      <td>0</td>\n",
       "    </tr>\n",
       "    <tr>\n",
       "      <th>978</th>\n",
       "      <td>3</td>\n",
       "      <td>28</td>\n",
       "      <td>среднее</td>\n",
       "      <td>гражданский брак</td>\n",
       "      <td>F</td>\n",
       "      <td>сотрудник</td>\n",
       "      <td>0</td>\n",
       "      <td>0.000000</td>\n",
       "      <td>ремонт жилью</td>\n",
       "      <td>0</td>\n",
       "    </tr>\n",
       "    <tr>\n",
       "      <th>15680</th>\n",
       "      <td>0</td>\n",
       "      <td>36</td>\n",
       "      <td>среднее</td>\n",
       "      <td>гражданский брак</td>\n",
       "      <td>F</td>\n",
       "      <td>сотрудник</td>\n",
       "      <td>0</td>\n",
       "      <td>93410.696558</td>\n",
       "      <td>операции с коммерческой недвижимостью</td>\n",
       "      <td>0</td>\n",
       "    </tr>\n",
       "  </tbody>\n",
       "</table>\n",
       "</div>"
      ],
      "text/plain": [
       "       children  dob_years education     family_status gender income_type  \\\n",
       "2510          2         59    высшее    вдовец / вдова      F   сотрудник   \n",
       "2053          1         59   среднее   женат / замужем      M   сотрудник   \n",
       "14801         1         29    ВЫСШЕЕ   женат / замужем      F   компаньон   \n",
       "978           3         28   среднее  гражданский брак      F   сотрудник   \n",
       "15680         0         36   среднее  гражданский брак      F   сотрудник   \n",
       "\n",
       "       debt   total_income                                purpose  \\\n",
       "2510      0  264474.835577  операции с коммерческой недвижимостью   \n",
       "2053      0  168242.453293       сделка с подержанным автомобилем   \n",
       "14801     0  143176.590048                             автомобиль   \n",
       "978       0       0.000000                           ремонт жилью   \n",
       "15680     0   93410.696558  операции с коммерческой недвижимостью   \n",
       "\n",
       "       years_employed  \n",
       "2510                7  \n",
       "2053                3  \n",
       "14801               0  \n",
       "978                 0  \n",
       "15680               0  "
      ]
     },
     "execution_count": 286,
     "metadata": {},
     "output_type": "execute_result"
    }
   ],
   "source": [
    "df.sample(5)"
   ]
  },
  {
   "cell_type": "code",
   "execution_count": 287,
   "metadata": {},
   "outputs": [],
   "source": [
    "df_max_years_employed = df.query('years_employed > 57')"
   ]
  },
  {
   "cell_type": "code",
   "execution_count": 288,
   "metadata": {},
   "outputs": [
    {
     "data": {
      "image/png": "[encoded data removed]",
      "text/plain": [
       "<Figure size 864x576 with 1 Axes>"
      ]
     },
     "metadata": {
      "needs_background": "light"
     },
     "output_type": "display_data"
    }
   ],
   "source": [
    "sns.barplot(x = df_max_years_employed.dob_years, y = df_max_years_employed.years_employed, ci=None)\n",
    "plt.show()"
   ]
  },
  {
   "cell_type": "markdown",
   "metadata": {},
   "source": [
    "Вывод:\n",
    "- на протяжении всего возрастного диапозона трудовой стаж значительно превышен;\n",
    "- для лиц, чей трудовой стаж превышает 57 лет, рассчитаем стаж в соотвествии с их возрастом. Для этого разобъем лиц на возрастные диапазоны, высчитаем среднее в этом диапазоне и отнимем от полученного числа 18:\n",
    "  - 20-25 (5)\n",
    "  - 26-30 (10)\n",
    "  - 31-35 (15)\n",
    "  - 36-40 (20)\n",
    "  - 41-45 (25)\n",
    "  - 46-50 (30)\n",
    "  - 51-55 (35)\n",
    "  - 56-60 (40)\n",
    "  - 61-65 (45)\n",
    "  - 66-70 (50)\n",
    "  - 71-75 (55)"
   ]
  },
  {
   "cell_type": "code",
   "execution_count": 289,
   "metadata": {},
   "outputs": [],
   "source": [
    "# сделаем выборку заемщиков чей стаж превышает 57 лет\n",
    "df_many_years_employed = df.query('years_employed > 57')"
   ]
  },
  {
   "cell_type": "code",
   "execution_count": 290,
   "metadata": {},
   "outputs": [
    {
     "name": "stderr",
     "output_type": "stream",
     "text": [
      "<ipython-input-290-dde5388962e1>:16: SettingWithCopyWarning: \n",
      "A value is trying to be set on a copy of a slice from a DataFrame.\n",
      "Try using .loc[row_indexer,col_indexer] = value instead\n",
      "\n",
      "See the caveats in the documentation: https://pandas.pydata.org/pandas-docs/stable/user_guide/indexing.html#returning-a-view-versus-a-copy\n",
      "  df_many_years_employed['years_employed'] = 35\n",
      "<ipython-input-290-dde5388962e1>:18: SettingWithCopyWarning: \n",
      "A value is trying to be set on a copy of a slice from a DataFrame.\n",
      "Try using .loc[row_indexer,col_indexer] = value instead\n",
      "\n",
      "See the caveats in the documentation: https://pandas.pydata.org/pandas-docs/stable/user_guide/indexing.html#returning-a-view-versus-a-copy\n",
      "  df_many_years_employed['years_employed'] = 40\n",
      "<ipython-input-290-dde5388962e1>:22: SettingWithCopyWarning: \n",
      "A value is trying to be set on a copy of a slice from a DataFrame.\n",
      "Try using .loc[row_indexer,col_indexer] = value instead\n",
      "\n",
      "See the caveats in the documentation: https://pandas.pydata.org/pandas-docs/stable/user_guide/indexing.html#returning-a-view-versus-a-copy\n",
      "  df_many_years_employed['years_employed'] = 50\n",
      "<ipython-input-290-dde5388962e1>:20: SettingWithCopyWarning: \n",
      "A value is trying to be set on a copy of a slice from a DataFrame.\n",
      "Try using .loc[row_indexer,col_indexer] = value instead\n",
      "\n",
      "See the caveats in the documentation: https://pandas.pydata.org/pandas-docs/stable/user_guide/indexing.html#returning-a-view-versus-a-copy\n",
      "  df_many_years_employed['years_employed'] = 45\n",
      "<ipython-input-290-dde5388962e1>:24: SettingWithCopyWarning: \n",
      "A value is trying to be set on a copy of a slice from a DataFrame.\n",
      "Try using .loc[row_indexer,col_indexer] = value instead\n",
      "\n",
      "See the caveats in the documentation: https://pandas.pydata.org/pandas-docs/stable/user_guide/indexing.html#returning-a-view-versus-a-copy\n",
      "  df_many_years_employed['years_employed'] = 55\n",
      "<ipython-input-290-dde5388962e1>:10: SettingWithCopyWarning: \n",
      "A value is trying to be set on a copy of a slice from a DataFrame.\n",
      "Try using .loc[row_indexer,col_indexer] = value instead\n",
      "\n",
      "See the caveats in the documentation: https://pandas.pydata.org/pandas-docs/stable/user_guide/indexing.html#returning-a-view-versus-a-copy\n",
      "  df_many_years_employed['years_employed'] = 20\n",
      "<ipython-input-290-dde5388962e1>:12: SettingWithCopyWarning: \n",
      "A value is trying to be set on a copy of a slice from a DataFrame.\n",
      "Try using .loc[row_indexer,col_indexer] = value instead\n",
      "\n",
      "See the caveats in the documentation: https://pandas.pydata.org/pandas-docs/stable/user_guide/indexing.html#returning-a-view-versus-a-copy\n",
      "  df_many_years_employed['years_employed'] = 25\n",
      "<ipython-input-290-dde5388962e1>:14: SettingWithCopyWarning: \n",
      "A value is trying to be set on a copy of a slice from a DataFrame.\n",
      "Try using .loc[row_indexer,col_indexer] = value instead\n",
      "\n",
      "See the caveats in the documentation: https://pandas.pydata.org/pandas-docs/stable/user_guide/indexing.html#returning-a-view-versus-a-copy\n",
      "  df_many_years_employed['years_employed'] = 30\n",
      "<ipython-input-290-dde5388962e1>:4: SettingWithCopyWarning: \n",
      "A value is trying to be set on a copy of a slice from a DataFrame.\n",
      "Try using .loc[row_indexer,col_indexer] = value instead\n",
      "\n",
      "See the caveats in the documentation: https://pandas.pydata.org/pandas-docs/stable/user_guide/indexing.html#returning-a-view-versus-a-copy\n",
      "  df_many_years_employed['years_employed'] = 5\n",
      "<ipython-input-290-dde5388962e1>:8: SettingWithCopyWarning: \n",
      "A value is trying to be set on a copy of a slice from a DataFrame.\n",
      "Try using .loc[row_indexer,col_indexer] = value instead\n",
      "\n",
      "See the caveats in the documentation: https://pandas.pydata.org/pandas-docs/stable/user_guide/indexing.html#returning-a-view-versus-a-copy\n",
      "  df_many_years_employed['years_employed'] = 15\n",
      "<ipython-input-290-dde5388962e1>:6: SettingWithCopyWarning: \n",
      "A value is trying to be set on a copy of a slice from a DataFrame.\n",
      "Try using .loc[row_indexer,col_indexer] = value instead\n",
      "\n",
      "See the caveats in the documentation: https://pandas.pydata.org/pandas-docs/stable/user_guide/indexing.html#returning-a-view-versus-a-copy\n",
      "  df_many_years_employed['years_employed'] = 10\n"
     ]
    }
   ],
   "source": [
    "# в соответствии с возрастным диапозоном присвоим значение их трудового стажа  \n",
    "for el in df_many_years_employed['dob_years']:\n",
    "    if  20 <= el <= 25:\n",
    "        df_many_years_employed['years_employed'] = 5\n",
    "    elif 26 <= el <= 30:\n",
    "        df_many_years_employed['years_employed'] = 10\n",
    "    elif 31 <= el <= 35:\n",
    "        df_many_years_employed['years_employed'] = 15\n",
    "    elif 36 <= el <= 40:\n",
    "        df_many_years_employed['years_employed'] = 20\n",
    "    elif 41 <= el <= 45:\n",
    "        df_many_years_employed['years_employed'] = 25\n",
    "    elif 46 <= el <= 50:\n",
    "        df_many_years_employed['years_employed'] = 30\n",
    "    elif 51 <= el <= 55:\n",
    "        df_many_years_employed['years_employed'] = 35\n",
    "    elif 56 <= el <= 60:\n",
    "        df_many_years_employed['years_employed'] = 40\n",
    "    elif 61 <= el <= 65:\n",
    "        df_many_years_employed['years_employed'] = 45\n",
    "    elif 66 <= el <= 70:\n",
    "        df_many_years_employed['years_employed'] = 50\n",
    "    elif 71 <= el <= 75:\n",
    "        df_many_years_employed['years_employed'] = 55"
   ]
  },
  {
   "cell_type": "code",
   "execution_count": 291,
   "metadata": {},
   "outputs": [
    {
     "data": {
      "text/plain": [
       "(21471, 10)"
      ]
     },
     "execution_count": 291,
     "metadata": {},
     "output_type": "execute_result"
    }
   ],
   "source": [
    "# посмотрим размер нашего фрэйма, чтобы не потерять данные\n",
    "df.shape"
   ]
  },
  {
   "cell_type": "code",
   "execution_count": 292,
   "metadata": {},
   "outputs": [],
   "source": [
    "# удалим соответствующие данные \n",
    "df = df.drop(np.where(df['years_employed'] > 57)[0])"
   ]
  },
  {
   "cell_type": "code",
   "execution_count": 293,
   "metadata": {},
   "outputs": [
    {
     "data": {
      "text/plain": [
       "(18026, 10)"
      ]
     },
     "execution_count": 293,
     "metadata": {},
     "output_type": "execute_result"
    }
   ],
   "source": [
    "# посмотрим размер данных после удаления \n",
    "df.shape"
   ]
  },
  {
   "cell_type": "code",
   "execution_count": 294,
   "metadata": {},
   "outputs": [
    {
     "data": {
      "text/plain": [
       "(3445, 10)"
      ]
     },
     "execution_count": 294,
     "metadata": {},
     "output_type": "execute_result"
    }
   ],
   "source": [
    "# посмотрим размер данных, которые видоизменили и которые необходимо смержить \n",
    "df_many_years_employed.shape"
   ]
  },
  {
   "cell_type": "code",
   "execution_count": 295,
   "metadata": {},
   "outputs": [],
   "source": [
    "df = df.merge(df_many_years_employed, how='outer')"
   ]
  },
  {
   "cell_type": "code",
   "execution_count": 296,
   "metadata": {},
   "outputs": [
    {
     "data": {
      "text/plain": [
       "(21471, 10)"
      ]
     },
     "execution_count": 296,
     "metadata": {},
     "output_type": "execute_result"
    }
   ],
   "source": [
    "# данные не потерялись\n",
    "df.shape"
   ]
  },
  {
   "cell_type": "code",
   "execution_count": 297,
   "metadata": {},
   "outputs": [],
   "source": [
    "# так как в признаках education и family_status есть значения разного регистра, \n",
    "# приведем все значения к нижнему регистру\n",
    "df['education'] = df['education'].str.lower()"
   ]
  },
  {
   "cell_type": "code",
   "execution_count": 298,
   "metadata": {},
   "outputs": [
    {
     "data": {
      "text/plain": [
       "среднее                15188\n",
       "высшее                  5251\n",
       "неоконченное высшее      744\n",
       "начальное                282\n",
       "ученая степень             6\n",
       "Name: education, dtype: int64"
      ]
     },
     "execution_count": 298,
     "metadata": {},
     "output_type": "execute_result"
    }
   ],
   "source": [
    "df.education.value_counts()"
   ]
  },
  {
   "cell_type": "code",
   "execution_count": 299,
   "metadata": {},
   "outputs": [],
   "source": [
    "df['family_status'] = df['family_status'].str.lower()"
   ]
  },
  {
   "cell_type": "code",
   "execution_count": 300,
   "metadata": {},
   "outputs": [
    {
     "data": {
      "text/plain": [
       "женат / замужем          12344\n",
       "гражданский брак          4163\n",
       "не женат / не замужем     2810\n",
       "в разводе                 1195\n",
       "вдовец / вдова             959\n",
       "Name: family_status, dtype: int64"
      ]
     },
     "execution_count": 300,
     "metadata": {},
     "output_type": "execute_result"
    }
   ],
   "source": [
    "df.family_status.value_counts()"
   ]
  },
  {
   "cell_type": "code",
   "execution_count": 301,
   "metadata": {},
   "outputs": [
    {
     "data": {
      "text/plain": [
       "сотрудник          11091\n",
       "компаньон           5080\n",
       "пенсионер           3837\n",
       "госслужащий         1457\n",
       "безработный            2\n",
       "предприниматель        2\n",
       "в декрете              1\n",
       "студент                1\n",
       "Name: income_type, dtype: int64"
      ]
     },
     "execution_count": 301,
     "metadata": {},
     "output_type": "execute_result"
    }
   ],
   "source": [
    "# С данным признаком все впорядке\n",
    "df.income_type.value_counts()"
   ]
  },
  {
   "cell_type": "code",
   "execution_count": 302,
   "metadata": {},
   "outputs": [
    {
     "data": {
      "text/plain": [
       "F      14189\n",
       "M       7281\n",
       "XNA        1\n",
       "Name: gender, dtype: int64"
      ]
     },
     "execution_count": 302,
     "metadata": {},
     "output_type": "execute_result"
    }
   ],
   "source": [
    "df.gender.value_counts()"
   ]
  },
  {
   "cell_type": "code",
   "execution_count": 303,
   "metadata": {},
   "outputs": [
    {
     "data": {
      "text/html": [
       "<div>\n",
       "<style scoped>\n",
       "    .dataframe tbody tr th:only-of-type {\n",
       "        vertical-align: middle;\n",
       "    }\n",
       "\n",
       "    .dataframe tbody tr th {\n",
       "        vertical-align: top;\n",
       "    }\n",
       "\n",
       "    .dataframe thead th {\n",
       "        text-align: right;\n",
       "    }\n",
       "</style>\n",
       "<table border=\"1\" class=\"dataframe\">\n",
       "  <thead>\n",
       "    <tr style=\"text-align: right;\">\n",
       "      <th></th>\n",
       "      <th>children</th>\n",
       "      <th>dob_years</th>\n",
       "      <th>education</th>\n",
       "      <th>family_status</th>\n",
       "      <th>gender</th>\n",
       "      <th>income_type</th>\n",
       "      <th>debt</th>\n",
       "      <th>total_income</th>\n",
       "      <th>purpose</th>\n",
       "      <th>years_employed</th>\n",
       "    </tr>\n",
       "  </thead>\n",
       "  <tbody>\n",
       "    <tr>\n",
       "      <th>8976</th>\n",
       "      <td>0</td>\n",
       "      <td>24</td>\n",
       "      <td>неоконченное высшее</td>\n",
       "      <td>гражданский брак</td>\n",
       "      <td>XNA</td>\n",
       "      <td>компаньон</td>\n",
       "      <td>0</td>\n",
       "      <td>203905.157261</td>\n",
       "      <td>покупка недвижимости</td>\n",
       "      <td>6</td>\n",
       "    </tr>\n",
       "  </tbody>\n",
       "</table>\n",
       "</div>"
      ],
      "text/plain": [
       "      children  dob_years            education     family_status gender  \\\n",
       "8976         0         24  неоконченное высшее  гражданский брак    XNA   \n",
       "\n",
       "     income_type  debt   total_income               purpose  years_employed  \n",
       "8976   компаньон     0  203905.157261  покупка недвижимости               6  "
      ]
     },
     "execution_count": 303,
     "metadata": {},
     "output_type": "execute_result"
    }
   ],
   "source": [
    "# трудно сказать какой пол у этого заемщка (по крайней мере по имеющимся данным), учитывая, что в современном мире\n",
    "# довольно актуально смена пола и т.п.\n",
    "df[df['gender']=='XNA']"
   ]
  },
  {
   "cell_type": "code",
   "execution_count": 304,
   "metadata": {},
   "outputs": [],
   "source": [
    "# округлим доходы наших заемщиков до двух знаков после запятой\n",
    "df['total_income'] = round(df['total_income'], 2)"
   ]
  },
  {
   "cell_type": "code",
   "execution_count": 305,
   "metadata": {},
   "outputs": [
    {
     "data": {
      "text/plain": [
       "['покупка жилья',\n",
       " 'приобретение автомобиля',\n",
       " 'дополнительное образование',\n",
       " 'операции с жильем',\n",
       " 'образование',\n",
       " 'на проведение свадьбы',\n",
       " 'покупка жилья для семьи',\n",
       " 'покупка недвижимости',\n",
       " 'покупка коммерческой недвижимости',\n",
       " 'сыграть свадьбу',\n",
       " 'покупка жилой недвижимости',\n",
       " 'строительство собственной недвижимости',\n",
       " 'недвижимость',\n",
       " 'строительство недвижимости',\n",
       " 'на покупку своего автомобиля',\n",
       " 'на покупку подержанного автомобиля',\n",
       " 'строительство жилой недвижимости',\n",
       " 'жилье',\n",
       " 'операции со своей недвижимостью',\n",
       " 'автомобили',\n",
       " 'заняться образованием',\n",
       " 'сделка с подержанным автомобилем',\n",
       " 'получение образования',\n",
       " 'автомобиль',\n",
       " 'свадьба',\n",
       " 'получение дополнительного образования',\n",
       " 'покупка своего жилья',\n",
       " 'операции с недвижимостью',\n",
       " 'получение высшего образования',\n",
       " 'операции с коммерческой недвижимостью',\n",
       " 'свой автомобиль',\n",
       " 'сделка с автомобилем',\n",
       " 'профильное образование',\n",
       " 'высшее образование',\n",
       " 'на покупку автомобиля',\n",
       " 'покупка жилья для сдачи',\n",
       " 'ремонт жилью',\n",
       " 'заняться высшим образованием']"
      ]
     },
     "execution_count": 305,
     "metadata": {},
     "output_type": "execute_result"
    }
   ],
   "source": [
    "# проведем лемматизацию с использованием библиотеки Яндекса MyStem\n",
    "# и с использованием библеотеки Counter посчитаем количество повторений слов\n",
    "unique_credit_purposes = df['purpose'].unique().tolist()\n",
    "unique_credit_purposes"
   ]
  },
  {
   "cell_type": "code",
   "execution_count": 306,
   "metadata": {},
   "outputs": [],
   "source": [
    "string = '; '.join(unique_credit_purposes)"
   ]
  },
  {
   "cell_type": "code",
   "execution_count": 307,
   "metadata": {},
   "outputs": [
    {
     "data": {
      "text/plain": [
       "[('приобретение', 1),\n",
       " ('проведение', 1),\n",
       " ('семья', 1),\n",
       " ('сыграть', 1),\n",
       " ('собственный', 1),\n",
       " ('со', 1),\n",
       " ('профильный', 1),\n",
       " ('сдача', 1),\n",
       " ('ремонт', 1),\n",
       " ('\\n', 1),\n",
       " ('дополнительный', 2),\n",
       " ('для', 2),\n",
       " ('коммерческий', 2),\n",
       " ('жилой', 2),\n",
       " ('подержать', 2),\n",
       " ('заниматься', 2),\n",
       " ('сделка', 2),\n",
       " ('свадьба', 3),\n",
       " ('строительство', 3),\n",
       " ('получение', 3),\n",
       " ('высокий', 3),\n",
       " ('операция', 4),\n",
       " ('на', 4),\n",
       " ('свой', 4),\n",
       " ('с', 5),\n",
       " ('жилье', 7),\n",
       " ('автомобиль', 9),\n",
       " ('образование', 9),\n",
       " ('покупка', 10),\n",
       " ('недвижимость', 10),\n",
       " ('; ', 37),\n",
       " (' ', 59)]"
      ]
     },
     "execution_count": 307,
     "metadata": {},
     "output_type": "execute_result"
    }
   ],
   "source": [
    "from pymystem3 import Mystem\n",
    "m = Mystem()\n",
    "lemmas = m.lemmatize(string)\n",
    "\n",
    "from collections import Counter\n",
    "c = Counter()\n",
    "for w in lemmas:\n",
    "    c[w]+=1\n",
    "c = dict(c)\n",
    "sorted_by_value = sorted(c.items(), key=lambda kv: kv[1])\n",
    "sorted_by_value"
   ]
  },
  {
   "cell_type": "markdown",
   "metadata": {},
   "source": [
    "Вывод:\n",
    "    - чаще всего кредиты берут на приобретение:\n",
    "        - недвижимости\n",
    "        - образования\n",
    "        - автомобиля\n",
    "        - жилья"
   ]
  },
  {
   "cell_type": "markdown",
   "metadata": {},
   "source": [
    "### Есть ли зависимость между наличием детей и возвратом кредита в срок?"
   ]
  },
  {
   "cell_type": "code",
   "execution_count": 381,
   "metadata": {},
   "outputs": [
    {
     "data": {
      "image/png": "[encoded data removed]",
      "text/plain": [
       "<Figure size 1296x360 with 2 Axes>"
      ]
     },
     "metadata": {},
     "output_type": "display_data"
    }
   ],
   "source": [
    "f, ax = plt.subplots(1,2, figsize = (18,5))\n",
    "\n",
    "sns.countplot('children', data = df, ax=ax[0])\n",
    "ax[0].set_title('Общее количество детей по категории их количества у заемщика')\n",
    "\n",
    "sns.countplot('children', hue = 'debt', data = df, ax=ax[1])\n",
    "ax[1].set_title('Влияние количества детей на выплату кредитных обязательств')\n",
    "plt.show()"
   ]
  },
  {
   "cell_type": "code",
   "execution_count": 309,
   "metadata": {},
   "outputs": [
    {
     "data": {
      "text/html": [
       "<div>\n",
       "<style scoped>\n",
       "    .dataframe tbody tr th:only-of-type {\n",
       "        vertical-align: middle;\n",
       "    }\n",
       "\n",
       "    .dataframe tbody tr th {\n",
       "        vertical-align: top;\n",
       "    }\n",
       "\n",
       "    .dataframe thead th {\n",
       "        text-align: right;\n",
       "    }\n",
       "</style>\n",
       "<table border=\"1\" class=\"dataframe\">\n",
       "  <thead>\n",
       "    <tr style=\"text-align: right;\">\n",
       "      <th>debt</th>\n",
       "      <th>0</th>\n",
       "      <th>1</th>\n",
       "      <th>ratio</th>\n",
       "    </tr>\n",
       "    <tr>\n",
       "      <th>children</th>\n",
       "      <th></th>\n",
       "      <th></th>\n",
       "      <th></th>\n",
       "    </tr>\n",
       "  </thead>\n",
       "  <tbody>\n",
       "    <tr>\n",
       "      <th>0</th>\n",
       "      <td>13044.0</td>\n",
       "      <td>1063.0</td>\n",
       "      <td>8.149341</td>\n",
       "    </tr>\n",
       "    <tr>\n",
       "      <th>1</th>\n",
       "      <td>4411.0</td>\n",
       "      <td>445.0</td>\n",
       "      <td>10.088415</td>\n",
       "    </tr>\n",
       "    <tr>\n",
       "      <th>2</th>\n",
       "      <td>1926.0</td>\n",
       "      <td>202.0</td>\n",
       "      <td>10.488058</td>\n",
       "    </tr>\n",
       "    <tr>\n",
       "      <th>3</th>\n",
       "      <td>303.0</td>\n",
       "      <td>27.0</td>\n",
       "      <td>8.910891</td>\n",
       "    </tr>\n",
       "    <tr>\n",
       "      <th>4</th>\n",
       "      <td>37.0</td>\n",
       "      <td>4.0</td>\n",
       "      <td>10.810811</td>\n",
       "    </tr>\n",
       "    <tr>\n",
       "      <th>5</th>\n",
       "      <td>9.0</td>\n",
       "      <td>NaN</td>\n",
       "      <td>NaN</td>\n",
       "    </tr>\n",
       "  </tbody>\n",
       "</table>\n",
       "</div>"
      ],
      "text/plain": [
       "debt            0       1      ratio\n",
       "children                            \n",
       "0         13044.0  1063.0   8.149341\n",
       "1          4411.0   445.0  10.088415\n",
       "2          1926.0   202.0  10.488058\n",
       "3           303.0    27.0   8.910891\n",
       "4            37.0     4.0  10.810811\n",
       "5             9.0     NaN        NaN"
      ]
     },
     "execution_count": 309,
     "metadata": {},
     "output_type": "execute_result"
    }
   ],
   "source": [
    "children_pivot = df.pivot_table(index = ['children'], \\\n",
    "                                columns = ['debt'], \\\n",
    "                                values = 'purpose', aggfunc='count')\n",
    "\n",
    "children_pivot['ratio'] = children_pivot[1] / children_pivot[0] * 100\n",
    "children_pivot"
   ]
  },
  {
   "cell_type": "markdown",
   "metadata": {},
   "source": [
    "Вывод:\n",
    "- бездетные отдают кредиты хуже, это может быть связано с тем, что, как правило, молодые люди являются бездетными, те, кто находится только в начале своего финансового пути"
   ]
  },
  {
   "cell_type": "code",
   "execution_count": 333,
   "metadata": {},
   "outputs": [],
   "source": [
    "childfree = df.query('children==0')"
   ]
  },
  {
   "cell_type": "code",
   "execution_count": 340,
   "metadata": {},
   "outputs": [
    {
     "data": {
      "image/png": "[encoded data removed]",
      "text/plain": [
       "<Figure size 1296x720 with 1 Axes>"
      ]
     },
     "metadata": {},
     "output_type": "display_data"
    }
   ],
   "source": [
    "sns.set(rc={'figure.figsize': (18,10)})\n",
    "sns.countplot('dob_years', data = childfree)\n",
    "plt.title('Возрастной диапазон бездетных лиц')\n",
    "plt.show()"
   ]
  },
  {
   "cell_type": "markdown",
   "metadata": {},
   "source": [
    "Вывод:\n",
    "- и так, мои предположения, что зачастую бездетными являются молодые люди оказались ложными - наибольшая часть бездетных оказалась люди с возрастом от 40-60 лет;"
   ]
  },
  {
   "cell_type": "code",
   "execution_count": 342,
   "metadata": {},
   "outputs": [
    {
     "data": {
      "image/png": "[encoded data removed]",
      "text/plain": [
       "<Figure size 1296x720 with 1 Axes>"
      ]
     },
     "metadata": {},
     "output_type": "display_data"
    }
   ],
   "source": [
    "sns.set(rc={'figure.figsize': (18,10)})\n",
    "sns.countplot('family_status', hue = 'debt', data = childfree)\n",
    "plt.title('Возрастной диапазон бездетных лиц')\n",
    "plt.show()"
   ]
  },
  {
   "cell_type": "markdown",
   "metadata": {},
   "source": [
    "Вывод:\n",
    "    - так же никоим образом не влиет семейное положение на бездетные семьи и их кредитный возврат;"
   ]
  },
  {
   "cell_type": "code",
   "execution_count": 350,
   "metadata": {},
   "outputs": [
    {
     "data": {
      "text/html": [
       "<div>\n",
       "<style scoped>\n",
       "    .dataframe tbody tr th:only-of-type {\n",
       "        vertical-align: middle;\n",
       "    }\n",
       "\n",
       "    .dataframe tbody tr th {\n",
       "        vertical-align: top;\n",
       "    }\n",
       "\n",
       "    .dataframe thead th {\n",
       "        text-align: right;\n",
       "    }\n",
       "</style>\n",
       "<table border=\"1\" class=\"dataframe\">\n",
       "  <thead>\n",
       "    <tr style=\"text-align: right;\">\n",
       "      <th>debt</th>\n",
       "      <th>0</th>\n",
       "      <th>1</th>\n",
       "      <th>ratio</th>\n",
       "    </tr>\n",
       "    <tr>\n",
       "      <th>dob_years</th>\n",
       "      <th></th>\n",
       "      <th></th>\n",
       "      <th></th>\n",
       "    </tr>\n",
       "  </thead>\n",
       "  <tbody>\n",
       "    <tr>\n",
       "      <th>61</th>\n",
       "      <td>312.0</td>\n",
       "      <td>9.0</td>\n",
       "      <td>2.884615</td>\n",
       "    </tr>\n",
       "    <tr>\n",
       "      <th>66</th>\n",
       "      <td>167.0</td>\n",
       "      <td>7.0</td>\n",
       "      <td>4.191617</td>\n",
       "    </tr>\n",
       "    <tr>\n",
       "      <th>63</th>\n",
       "      <td>240.0</td>\n",
       "      <td>11.0</td>\n",
       "      <td>4.583333</td>\n",
       "    </tr>\n",
       "    <tr>\n",
       "      <th>64</th>\n",
       "      <td>229.0</td>\n",
       "      <td>11.0</td>\n",
       "      <td>4.803493</td>\n",
       "    </tr>\n",
       "    <tr>\n",
       "      <th>70</th>\n",
       "      <td>57.0</td>\n",
       "      <td>3.0</td>\n",
       "      <td>5.263158</td>\n",
       "    </tr>\n",
       "    <tr>\n",
       "      <th>69</th>\n",
       "      <td>75.0</td>\n",
       "      <td>4.0</td>\n",
       "      <td>5.333333</td>\n",
       "    </tr>\n",
       "    <tr>\n",
       "      <th>55</th>\n",
       "      <td>381.0</td>\n",
       "      <td>21.0</td>\n",
       "      <td>5.511811</td>\n",
       "    </tr>\n",
       "    <tr>\n",
       "      <th>58</th>\n",
       "      <td>394.0</td>\n",
       "      <td>22.0</td>\n",
       "      <td>5.583756</td>\n",
       "    </tr>\n",
       "    <tr>\n",
       "      <th>62</th>\n",
       "      <td>302.0</td>\n",
       "      <td>17.0</td>\n",
       "      <td>5.629139</td>\n",
       "    </tr>\n",
       "    <tr>\n",
       "      <th>67</th>\n",
       "      <td>153.0</td>\n",
       "      <td>9.0</td>\n",
       "      <td>5.882353</td>\n",
       "    </tr>\n",
       "  </tbody>\n",
       "</table>\n",
       "</div>"
      ],
      "text/plain": [
       "debt           0     1     ratio\n",
       "dob_years                       \n",
       "61         312.0   9.0  2.884615\n",
       "66         167.0   7.0  4.191617\n",
       "63         240.0  11.0  4.583333\n",
       "64         229.0  11.0  4.803493\n",
       "70          57.0   3.0  5.263158\n",
       "69          75.0   4.0  5.333333\n",
       "55         381.0  21.0  5.511811\n",
       "58         394.0  22.0  5.583756\n",
       "62         302.0  17.0  5.629139\n",
       "67         153.0   9.0  5.882353"
      ]
     },
     "execution_count": 350,
     "metadata": {},
     "output_type": "execute_result"
    }
   ],
   "source": [
    "childfree_pivot = childfree.pivot_table(index = ['dob_years'], \\\n",
    "                                columns = ['debt'], \\\n",
    "                                values = 'purpose', aggfunc='count')\n",
    "\n",
    "childfree_pivot['ratio'] = childfree_pivot[1] / childfree_pivot[0] * 100\n",
    "childfree_pivot.sort_values('ratio').head(10)"
   ]
  },
  {
   "cell_type": "markdown",
   "metadata": {},
   "source": [
    "Вывод:\n",
    "    - бездетные люди пожилого возраста (воростной диапазон от 60-70 лет) хуже остальных возвращают кредитные обязательства"
   ]
  },
  {
   "cell_type": "code",
   "execution_count": 362,
   "metadata": {},
   "outputs": [],
   "source": [
    "childfree_years_60_70 = childfree.query('60<=dob_years<=70')"
   ]
  },
  {
   "cell_type": "code",
   "execution_count": 366,
   "metadata": {},
   "outputs": [
    {
     "data": {
      "image/png": "[encoded data removed]",
      "text/plain": [
       "<Figure size 1296x720 with 1 Axes>"
      ]
     },
     "metadata": {},
     "output_type": "display_data"
    }
   ],
   "source": [
    "sns.barplot(x = 'dob_years', y = 'total_income', data = childfree_years_60_70, ci=None)\n",
    "plt.show()"
   ]
  },
  {
   "cell_type": "code",
   "execution_count": 367,
   "metadata": {},
   "outputs": [
    {
     "data": {
      "text/plain": [
       "114655.54"
      ]
     },
     "execution_count": 367,
     "metadata": {},
     "output_type": "execute_result"
    }
   ],
   "source": [
    "childfree_years_60_70['total_income'].median()"
   ]
  },
  {
   "cell_type": "markdown",
   "metadata": {},
   "source": [
    "Вывод:\n",
    "    - довольно обеспеченные оказались пенсионеры c медианной месячным доходом в 115 тр"
   ]
  },
  {
   "cell_type": "code",
   "execution_count": 368,
   "metadata": {},
   "outputs": [
    {
     "name": "stderr",
     "output_type": "stream",
     "text": [
      "<ipython-input-368-1398bab5fdf8>:12: SettingWithCopyWarning: \n",
      "A value is trying to be set on a copy of a slice from a DataFrame.\n",
      "Try using .loc[row_indexer,col_indexer] = value instead\n",
      "\n",
      "See the caveats in the documentation: https://pandas.pydata.org/pandas-docs/stable/user_guide/indexing.html#returning-a-view-versus-a-copy\n",
      "  childfree_years_60_70['credit_purpose'] = childfree_years_60_70['purpose'].apply(credit_purpose_status)\n"
     ]
    },
    {
     "data": {
      "text/html": [
       "<div>\n",
       "<style scoped>\n",
       "    .dataframe tbody tr th:only-of-type {\n",
       "        vertical-align: middle;\n",
       "    }\n",
       "\n",
       "    .dataframe tbody tr th {\n",
       "        vertical-align: top;\n",
       "    }\n",
       "\n",
       "    .dataframe thead th {\n",
       "        text-align: right;\n",
       "    }\n",
       "</style>\n",
       "<table border=\"1\" class=\"dataframe\">\n",
       "  <thead>\n",
       "    <tr style=\"text-align: right;\">\n",
       "      <th>debt</th>\n",
       "      <th>0</th>\n",
       "      <th>1</th>\n",
       "      <th>%</th>\n",
       "    </tr>\n",
       "    <tr>\n",
       "      <th>credit_purpose</th>\n",
       "      <th></th>\n",
       "      <th></th>\n",
       "      <th></th>\n",
       "    </tr>\n",
       "  </thead>\n",
       "  <tbody>\n",
       "    <tr>\n",
       "      <th>Автомобиль</th>\n",
       "      <td>449</td>\n",
       "      <td>30</td>\n",
       "      <td>6.681514</td>\n",
       "    </tr>\n",
       "    <tr>\n",
       "      <th>Недвижимость</th>\n",
       "      <td>1043</td>\n",
       "      <td>46</td>\n",
       "      <td>4.410355</td>\n",
       "    </tr>\n",
       "    <tr>\n",
       "      <th>Образование</th>\n",
       "      <td>405</td>\n",
       "      <td>26</td>\n",
       "      <td>6.419753</td>\n",
       "    </tr>\n",
       "    <tr>\n",
       "      <th>Свадьба</th>\n",
       "      <td>222</td>\n",
       "      <td>12</td>\n",
       "      <td>5.405405</td>\n",
       "    </tr>\n",
       "  </tbody>\n",
       "</table>\n",
       "</div>"
      ],
      "text/plain": [
       "debt               0   1         %\n",
       "credit_purpose                    \n",
       "Автомобиль       449  30  6.681514\n",
       "Недвижимость    1043  46  4.410355\n",
       "Образование      405  26  6.419753\n",
       "Свадьба          222  12  5.405405"
      ]
     },
     "execution_count": 368,
     "metadata": {},
     "output_type": "execute_result"
    }
   ],
   "source": [
    "def credit_purpose_status(purpose):\n",
    "    if 'образован' in purpose:\n",
    "        return 'Образование'\n",
    "    if 'авто' in purpose:\n",
    "        return 'Автомобиль'\n",
    "    if 'свадь' in purpose:\n",
    "        return 'Свадьба'\n",
    "    if 'жиль' or 'недв' in purpose:\n",
    "        return 'Недвижимость'\n",
    "    return 'Ошибка классификации'\n",
    "\n",
    "childfree_years_60_70['credit_purpose'] = childfree_years_60_70['purpose'].apply(credit_purpose_status)\n",
    "\n",
    "purpose = childfree_years_60_70.pivot_table(index='credit_purpose',\n",
    "                      columns='debt',\n",
    "                      values='purpose', aggfunc='count')\n",
    "purpose['%']=purpose[1]/purpose[0]*100\n",
    "purpose"
   ]
  },
  {
   "cell_type": "markdown",
   "metadata": {},
   "source": [
    "Вывод:\n",
    "    - самый низкий процент возврата у этой категории лиц при приобретении ими недвижимости"
   ]
  },
  {
   "cell_type": "markdown",
   "metadata": {},
   "source": [
    "### Есть ли зависимость между семейным положением и возвратом кредита в срок?"
   ]
  },
  {
   "cell_type": "code",
   "execution_count": 382,
   "metadata": {},
   "outputs": [
    {
     "data": {
      "image/png": "[encoded data removed]",
      "text/plain": [
       "<Figure size 1296x360 with 2 Axes>"
      ]
     },
     "metadata": {},
     "output_type": "display_data"
    }
   ],
   "source": [
    "f, ax = plt.subplots(1,2, figsize = (18,5))\n",
    "\n",
    "sns.countplot('family_status', hue = 'gender', data = df, ax=ax[0])\n",
    "ax[0].set_title('Зависимость семейного положения и гендерного признака')\n",
    "\n",
    "sns.countplot('family_status', hue = 'debt', data = df, ax=ax[1])\n",
    "ax[1].set_title('Зависимость семейного положения и выплат по кредитным обязательствам')\n",
    "plt.show()"
   ]
  },
  {
   "cell_type": "code",
   "execution_count": 311,
   "metadata": {},
   "outputs": [
    {
     "data": {
      "text/html": [
       "<div>\n",
       "<style scoped>\n",
       "    .dataframe tbody tr th:only-of-type {\n",
       "        vertical-align: middle;\n",
       "    }\n",
       "\n",
       "    .dataframe tbody tr th {\n",
       "        vertical-align: top;\n",
       "    }\n",
       "\n",
       "    .dataframe thead th {\n",
       "        text-align: right;\n",
       "    }\n",
       "</style>\n",
       "<table border=\"1\" class=\"dataframe\">\n",
       "  <thead>\n",
       "    <tr style=\"text-align: right;\">\n",
       "      <th>debt</th>\n",
       "      <th>0</th>\n",
       "      <th>1</th>\n",
       "      <th>ratio</th>\n",
       "    </tr>\n",
       "    <tr>\n",
       "      <th>family_status</th>\n",
       "      <th></th>\n",
       "      <th></th>\n",
       "      <th></th>\n",
       "    </tr>\n",
       "  </thead>\n",
       "  <tbody>\n",
       "    <tr>\n",
       "      <th>в разводе</th>\n",
       "      <td>1110</td>\n",
       "      <td>85</td>\n",
       "      <td>7.657658</td>\n",
       "    </tr>\n",
       "    <tr>\n",
       "      <th>вдовец / вдова</th>\n",
       "      <td>896</td>\n",
       "      <td>63</td>\n",
       "      <td>7.031250</td>\n",
       "    </tr>\n",
       "    <tr>\n",
       "      <th>гражданский брак</th>\n",
       "      <td>3775</td>\n",
       "      <td>388</td>\n",
       "      <td>10.278146</td>\n",
       "    </tr>\n",
       "    <tr>\n",
       "      <th>женат / замужем</th>\n",
       "      <td>11413</td>\n",
       "      <td>931</td>\n",
       "      <td>8.157364</td>\n",
       "    </tr>\n",
       "    <tr>\n",
       "      <th>не женат / не замужем</th>\n",
       "      <td>2536</td>\n",
       "      <td>274</td>\n",
       "      <td>10.804416</td>\n",
       "    </tr>\n",
       "  </tbody>\n",
       "</table>\n",
       "</div>"
      ],
      "text/plain": [
       "debt                       0    1      ratio\n",
       "family_status                               \n",
       "в разводе               1110   85   7.657658\n",
       "вдовец / вдова           896   63   7.031250\n",
       "гражданский брак        3775  388  10.278146\n",
       "женат / замужем        11413  931   8.157364\n",
       "не женат / не замужем   2536  274  10.804416"
      ]
     },
     "execution_count": 311,
     "metadata": {},
     "output_type": "execute_result"
    }
   ],
   "source": [
    "family_status_pivot = df.pivot_table(index = ['family_status'], \\\n",
    "                                columns = ['debt'], \\\n",
    "                                values = 'purpose', aggfunc='count')\n",
    "\n",
    "family_status_pivot['ratio'] = family_status_pivot[1] / family_status_pivot[0] * 100\n",
    "family_status_pivot"
   ]
  },
  {
   "cell_type": "markdown",
   "metadata": {},
   "source": [
    "Вывод:\n",
    "    - Самые низкие показатели у разведенных и вдов — можно предположить, что возвращаемость кредитов зависит в том числе от наличия кормильца или супруга в семье."
   ]
  },
  {
   "cell_type": "code",
   "execution_count": 378,
   "metadata": {},
   "outputs": [],
   "source": [
    "woman = df[df['gender']=='F']"
   ]
  },
  {
   "cell_type": "code",
   "execution_count": 379,
   "metadata": {},
   "outputs": [
    {
     "data": {
      "text/html": [
       "<div>\n",
       "<style scoped>\n",
       "    .dataframe tbody tr th:only-of-type {\n",
       "        vertical-align: middle;\n",
       "    }\n",
       "\n",
       "    .dataframe tbody tr th {\n",
       "        vertical-align: top;\n",
       "    }\n",
       "\n",
       "    .dataframe thead th {\n",
       "        text-align: right;\n",
       "    }\n",
       "</style>\n",
       "<table border=\"1\" class=\"dataframe\">\n",
       "  <thead>\n",
       "    <tr style=\"text-align: right;\">\n",
       "      <th>debt</th>\n",
       "      <th>0</th>\n",
       "      <th>1</th>\n",
       "      <th>ratio</th>\n",
       "    </tr>\n",
       "    <tr>\n",
       "      <th>family_status</th>\n",
       "      <th></th>\n",
       "      <th></th>\n",
       "      <th></th>\n",
       "    </tr>\n",
       "  </thead>\n",
       "  <tbody>\n",
       "    <tr>\n",
       "      <th>в разводе</th>\n",
       "      <td>875</td>\n",
       "      <td>61</td>\n",
       "      <td>6.971429</td>\n",
       "    </tr>\n",
       "    <tr>\n",
       "      <th>вдовец / вдова</th>\n",
       "      <td>852</td>\n",
       "      <td>52</td>\n",
       "      <td>6.103286</td>\n",
       "    </tr>\n",
       "    <tr>\n",
       "      <th>гражданский брак</th>\n",
       "      <td>2623</td>\n",
       "      <td>233</td>\n",
       "      <td>8.882958</td>\n",
       "    </tr>\n",
       "    <tr>\n",
       "      <th>женат / замужем</th>\n",
       "      <td>7234</td>\n",
       "      <td>530</td>\n",
       "      <td>7.326514</td>\n",
       "    </tr>\n",
       "    <tr>\n",
       "      <th>не женат / не замужем</th>\n",
       "      <td>1611</td>\n",
       "      <td>118</td>\n",
       "      <td>7.324643</td>\n",
       "    </tr>\n",
       "  </tbody>\n",
       "</table>\n",
       "</div>"
      ],
      "text/plain": [
       "debt                      0    1     ratio\n",
       "family_status                             \n",
       "в разводе               875   61  6.971429\n",
       "вдовец / вдова          852   52  6.103286\n",
       "гражданский брак       2623  233  8.882958\n",
       "женат / замужем        7234  530  7.326514\n",
       "не женат / не замужем  1611  118  7.324643"
      ]
     },
     "execution_count": 379,
     "metadata": {},
     "output_type": "execute_result"
    }
   ],
   "source": [
    "woman_pivot = woman.pivot_table(index = ['family_status'], \\\n",
    "                                columns = ['debt'], \\\n",
    "                                values = 'purpose', aggfunc='count')\n",
    "\n",
    "woman_pivot['ratio'] = woman_pivot[1] / woman_pivot[0] * 100\n",
    "woman_pivot"
   ]
  },
  {
   "cell_type": "markdown",
   "metadata": {},
   "source": [
    "### Есть ли зависимость между уровнем дохода и возвратом кредита в срок?"
   ]
  },
  {
   "cell_type": "code",
   "execution_count": 312,
   "metadata": {},
   "outputs": [
    {
     "data": {
      "text/plain": [
       "0.25     88947.35\n",
       "0.50    135716.88\n",
       "0.75    195751.90\n",
       "Name: total_income, dtype: float64"
      ]
     },
     "execution_count": 312,
     "metadata": {},
     "output_type": "execute_result"
    }
   ],
   "source": [
    "df['total_income'].quantile([0.25,0.5,0.75])"
   ]
  },
  {
   "cell_type": "code",
   "execution_count": 313,
   "metadata": {},
   "outputs": [],
   "source": [
    "# распределим уровень дохода на 4 уровня:\n",
    "def income_status(total_income):\n",
    "    if total_income <= 88947.35:\n",
    "            return 'Низкий уровень дохода'\n",
    "    if total_income <= 135716.88:\n",
    "            return 'Средний уровень дохода'\n",
    "    if total_income < 195751.90:\n",
    "            return 'Высокий уровень дохода'\n",
    "    return 'Сверхвысокий уровень дохода'"
   ]
  },
  {
   "cell_type": "code",
   "execution_count": 314,
   "metadata": {},
   "outputs": [],
   "source": [
    "df['income_status'] = df['total_income'].apply(income_status)"
   ]
  },
  {
   "cell_type": "code",
   "execution_count": 324,
   "metadata": {},
   "outputs": [
    {
     "data": {
      "image/png": "[encoded data removed]",
      "text/plain": [
       "<Figure size 864x576 with 1 Axes>"
      ]
     },
     "metadata": {
      "needs_background": "light"
     },
     "output_type": "display_data"
    }
   ],
   "source": [
    "sns.countplot('income_status', data = df)\n",
    "plt.title('Количество людей в зависимости от уровня доходов')\n",
    "plt.show()"
   ]
  },
  {
   "cell_type": "code",
   "execution_count": 323,
   "metadata": {},
   "outputs": [
    {
     "data": {
      "image/png": "[encoded data removed]",
      "text/plain": [
       "<Figure size 864x576 with 1 Axes>"
      ]
     },
     "metadata": {
      "needs_background": "light"
     },
     "output_type": "display_data"
    }
   ],
   "source": [
    "sns.countplot('income_status', hue = 'debt', data = df)\n",
    "plt.title('Зависимость возвращаемости кредитного долга от уровня доходов')\n",
    "plt.show()"
   ]
  },
  {
   "cell_type": "code",
   "execution_count": 316,
   "metadata": {},
   "outputs": [
    {
     "data": {
      "text/html": [
       "<div>\n",
       "<style scoped>\n",
       "    .dataframe tbody tr th:only-of-type {\n",
       "        vertical-align: middle;\n",
       "    }\n",
       "\n",
       "    .dataframe tbody tr th {\n",
       "        vertical-align: top;\n",
       "    }\n",
       "\n",
       "    .dataframe thead th {\n",
       "        text-align: right;\n",
       "    }\n",
       "</style>\n",
       "<table border=\"1\" class=\"dataframe\">\n",
       "  <thead>\n",
       "    <tr style=\"text-align: right;\">\n",
       "      <th>debt</th>\n",
       "      <th>0</th>\n",
       "      <th>1</th>\n",
       "      <th>ratio</th>\n",
       "    </tr>\n",
       "    <tr>\n",
       "      <th>income_status</th>\n",
       "      <th></th>\n",
       "      <th></th>\n",
       "      <th></th>\n",
       "    </tr>\n",
       "  </thead>\n",
       "  <tbody>\n",
       "    <tr>\n",
       "      <th>Высокий уровень дохода</th>\n",
       "      <td>4883</td>\n",
       "      <td>484</td>\n",
       "      <td>9.911939</td>\n",
       "    </tr>\n",
       "    <tr>\n",
       "      <th>Низкий уровень дохода</th>\n",
       "      <td>4949</td>\n",
       "      <td>419</td>\n",
       "      <td>8.466357</td>\n",
       "    </tr>\n",
       "    <tr>\n",
       "      <th>Сверхвысокий уровень дохода</th>\n",
       "      <td>4985</td>\n",
       "      <td>383</td>\n",
       "      <td>7.683049</td>\n",
       "    </tr>\n",
       "    <tr>\n",
       "      <th>Средний уровень дохода</th>\n",
       "      <td>4913</td>\n",
       "      <td>455</td>\n",
       "      <td>9.261144</td>\n",
       "    </tr>\n",
       "  </tbody>\n",
       "</table>\n",
       "</div>"
      ],
      "text/plain": [
       "debt                            0    1     ratio\n",
       "income_status                                   \n",
       "Высокий уровень дохода       4883  484  9.911939\n",
       "Низкий уровень дохода        4949  419  8.466357\n",
       "Сверхвысокий уровень дохода  4985  383  7.683049\n",
       "Средний уровень дохода       4913  455  9.261144"
      ]
     },
     "execution_count": 316,
     "metadata": {},
     "output_type": "execute_result"
    }
   ],
   "source": [
    "income_status_pivot = df.pivot_table(index = ['income_status'], \\\n",
    "                                columns = ['debt'], \\\n",
    "                                values = 'purpose', aggfunc='count')\n",
    "\n",
    "income_status_pivot['ratio'] = income_status_pivot[1] / income_status_pivot[0] * 100\n",
    "income_status_pivot"
   ]
  },
  {
   "cell_type": "markdown",
   "metadata": {},
   "source": [
    "Вывод:\n",
    "    - количество людей в каждой из групп примерно одинаково (это видно их графика выше), хуже всего с возвращаемостью дела обстоят у клиентов с сверхвысокими доходами. Это трудно объяснить... давайте взглянем на что они чаще берут кредит"
   ]
  },
  {
   "cell_type": "code",
   "execution_count": 328,
   "metadata": {},
   "outputs": [],
   "source": [
    "income_status_high = df[df['income_status']=='Сверхвысокий уровень дохода']"
   ]
  },
  {
   "cell_type": "code",
   "execution_count": 329,
   "metadata": {},
   "outputs": [],
   "source": [
    "unique_credit_purposes = income_status_high['purpose'].unique().tolist()\n",
    "string = '; '.join(unique_credit_purposes)"
   ]
  },
  {
   "cell_type": "code",
   "execution_count": 357,
   "metadata": {},
   "outputs": [
    {
     "data": {
      "text/plain": [
       "[('собственный', 1),\n",
       " ('приобретение', 1),\n",
       " ('проведение', 1),\n",
       " ('подержанный', 1),\n",
       " ('со', 1),\n",
       " ('сыграть', 1),\n",
       " ('ремонт', 1),\n",
       " ('сдача', 1),\n",
       " ('семья', 1),\n",
       " ('подержать', 1),\n",
       " ('профильный', 1),\n",
       " ('\\n', 1),\n",
       " ('дополнительный', 2),\n",
       " ('заниматься', 2),\n",
       " ('сделка', 2),\n",
       " ('коммерческий', 2),\n",
       " ('жилой', 2),\n",
       " ('для', 2),\n",
       " ('строительство', 3),\n",
       " ('свадьба', 3),\n",
       " ('получение', 3),\n",
       " ('высокий', 3),\n",
       " ('операция', 4),\n",
       " ('на', 4),\n",
       " ('свой', 4),\n",
       " ('с', 5),\n",
       " ('жилье', 7),\n",
       " ('образование', 9),\n",
       " ('автомобиль', 9),\n",
       " ('покупка', 10),\n",
       " ('недвижимость', 10),\n",
       " ('; ', 37),\n",
       " (' ', 59)]"
      ]
     },
     "execution_count": 357,
     "metadata": {},
     "output_type": "execute_result"
    }
   ],
   "source": [
    "from pymystem3 import Mystem\n",
    "m = Mystem()\n",
    "lemmas = m.lemmatize(string)\n",
    "\n",
    "from collections import Counter\n",
    "c = Counter()\n",
    "for w in list(lemmas):\n",
    "    c[w]+=1\n",
    "c = dict(c)\n",
    "sorted_by_value = sorted(c.items(), key=lambda kv: kv[1])\n",
    "sorted_by_value"
   ]
  },
  {
   "cell_type": "markdown",
   "metadata": {},
   "source": [
    "Вывод:\n",
    "    - независимо от уровня дохода кредит берут на одни и теже цели, по всей видимости суммы кредитов положительно коррелируют с уровнем дохода и более обеспеченные люди берут большие суммы. Скорее всего данные заемщики занимаются бизнесом, а в стране с не самой стабильной экономикой это черевато и потому дела в их бизнесе идут не самым лучшим способом от сюда и низкая возвращаемость."
   ]
  },
  {
   "cell_type": "markdown",
   "metadata": {},
   "source": [
    "### Как разные цели кредита влияют на его возврат в срок?"
   ]
  },
  {
   "cell_type": "code",
   "execution_count": 358,
   "metadata": {},
   "outputs": [],
   "source": [
    "def credit_purpose_status(purpose):\n",
    "    if 'образован' in purpose:\n",
    "        return 'Образование'\n",
    "    if 'авто' in purpose:\n",
    "        return 'Автомобиль'\n",
    "    if 'свадь' in purpose:\n",
    "        return 'Свадьба'\n",
    "    if 'жиль' or 'недв' in purpose:\n",
    "        return 'Недвижимость'\n",
    "    return 'Ошибка классификации'"
   ]
  },
  {
   "cell_type": "code",
   "execution_count": 359,
   "metadata": {},
   "outputs": [],
   "source": [
    "df['credit_purpose'] = df['purpose'].apply(credit_purpose_status)"
   ]
  },
  {
   "cell_type": "code",
   "execution_count": 361,
   "metadata": {},
   "outputs": [
    {
     "data": {
      "text/html": [
       "<div>\n",
       "<style scoped>\n",
       "    .dataframe tbody tr th:only-of-type {\n",
       "        vertical-align: middle;\n",
       "    }\n",
       "\n",
       "    .dataframe tbody tr th {\n",
       "        vertical-align: top;\n",
       "    }\n",
       "\n",
       "    .dataframe thead th {\n",
       "        text-align: right;\n",
       "    }\n",
       "</style>\n",
       "<table border=\"1\" class=\"dataframe\">\n",
       "  <thead>\n",
       "    <tr style=\"text-align: right;\">\n",
       "      <th>debt</th>\n",
       "      <th>0</th>\n",
       "      <th>1</th>\n",
       "      <th>%</th>\n",
       "    </tr>\n",
       "    <tr>\n",
       "      <th>credit_purpose</th>\n",
       "      <th></th>\n",
       "      <th></th>\n",
       "      <th></th>\n",
       "    </tr>\n",
       "  </thead>\n",
       "  <tbody>\n",
       "    <tr>\n",
       "      <th>Автомобиль</th>\n",
       "      <td>3905</td>\n",
       "      <td>403</td>\n",
       "      <td>10.320102</td>\n",
       "    </tr>\n",
       "    <tr>\n",
       "      <th>Недвижимость</th>\n",
       "      <td>10032</td>\n",
       "      <td>782</td>\n",
       "      <td>7.795056</td>\n",
       "    </tr>\n",
       "    <tr>\n",
       "      <th>Образование</th>\n",
       "      <td>3644</td>\n",
       "      <td>370</td>\n",
       "      <td>10.153677</td>\n",
       "    </tr>\n",
       "    <tr>\n",
       "      <th>Свадьба</th>\n",
       "      <td>2149</td>\n",
       "      <td>186</td>\n",
       "      <td>8.655188</td>\n",
       "    </tr>\n",
       "  </tbody>\n",
       "</table>\n",
       "</div>"
      ],
      "text/plain": [
       "debt                0    1          %\n",
       "credit_purpose                       \n",
       "Автомобиль       3905  403  10.320102\n",
       "Недвижимость    10032  782   7.795056\n",
       "Образование      3644  370  10.153677\n",
       "Свадьба          2149  186   8.655188"
      ]
     },
     "execution_count": 361,
     "metadata": {},
     "output_type": "execute_result"
    }
   ],
   "source": [
    "purpose = df.pivot_table(index='credit_purpose',\n",
    "                      columns='debt',\n",
    "                      values='purpose', aggfunc='count')\n",
    "purpose['%']=purpose[1]/purpose[0]*100\n",
    "purpose"
   ]
  },
  {
   "cell_type": "markdown",
   "metadata": {},
   "source": [
    "Вывод:\n",
    "- наименьший возврат кредита связан с приобретением недвижимости, а также проведением свадебных торжеств;"
   ]
  },
  {
   "cell_type": "markdown",
   "metadata": {},
   "source": [
    "### Общий вывод и рекомендации:"
   ]
  },
  {
   "cell_type": "markdown",
   "metadata": {},
   "source": [
    "- Сотрудникам банка при выдаче кредита необходимо будет обратить внимание на следующие категории лиц:\n",
    "   - бездетные семьи, преимущественно пожилого возраста (60-70 лет), кредитной целью которых является приобретение недвижимости (процент возвращаемости кредитов у такой категории - 4%);\n",
    "   - вдовцы/вдовы, преимущественно женщины (процент возвращаемости кредитов у такой категории - 6%);\n",
    "   - в разводе, преимущественно женщины (процент возвращаемости кредитов у такой категории - 6,97%);\n",
    "   - внимательные относиться к выдаче кредитов к лицам с очень высокими доходами, целью кредита которых является приобретение недвижимости (процент возвращаемости кредитов у такой категории - 7,7%). Может быть есть смысл установить для них денежный лимит на приобретение недвижимости. Либо ввести новую кредитную программу на приобретение недвижимости с определенными условиями выгодными банку;\n",
    "   - также независимо от категории лиц обратить внимание на такие цели приобретения кредита как \"недвижимость\" и \"свадьба\":\n",
    "       - как правило на свадьбу берут кредиты довольно-таки необдуманно, молодоженам, не до финансовых проблем (процент возвращаемости кредитов у такой категории - 8,65%);"
   ]
  }
 ],
 "metadata": {
  "kernelspec": {
   "display_name": "Python 3",
   "language": "python",
   "name": "python3"
  },
  "language_info": {
   "codemirror_mode": {
    "name": "ipython",
    "version": 3
   },
   "file_extension": ".py",
   "mimetype": "text/x-python",
   "name": "python",
   "nbconvert_exporter": "python",
   "pygments_lexer": "ipython3",
   "version": "3.8.1"
  }
 },
 "nbformat": 4,
 "nbformat_minor": 4
}
